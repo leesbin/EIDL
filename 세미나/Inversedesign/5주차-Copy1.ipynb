{
 "cells": [
  {
   "cell_type": "code",
   "execution_count": 2,
   "metadata": {
    "tags": []
   },
   "outputs": [
    {
     "name": "stderr",
     "output_type": "stream",
     "text": [
      "Warning: grid volume is not an integer number of pixels; cell size will be rounded to nearest pixel.\n"
     ]
    },
    {
     "name": "stdout",
     "output_type": "stream",
     "text": [
      "-----------\n",
      "Initializing structure...\n",
      "time for choose_chunkdivision = 4.1008e-05 s\n",
      "Working in 3D dimensions.\n",
      "Computational cell is 0.02 x 0.02 x 4.18 with resolution 50\n",
      "     block, center = (0,0,0)\n",
      "          size (2,1e+20,4.175)\n",
      "          axes (1,0,0), (0,1,0), (0,0,1)\n",
      "          dielectric constant epsilon diagonal = (1,1,1)\n",
      "time for set_epsilon = 0.00235415 s\n",
      "-----------\n",
      "Meep: using complex fields.\n",
      "field decay(t = 50.01): 0.11269813552884442 / 0.11269813552884442 = 1.0\n",
      "field decay(t = 100.01): 3.3415551647575873e-12 / 0.11269813552884442 = 2.9650491989748455e-11\n",
      "run 0 finished at t = 100.01 (10001 timesteps)\n"
     ]
    }
   ],
   "source": [
    "import meep as mp\n",
    "import numpy as np\n",
    "import math\n",
    "import matplotlib.pyplot as plt\n",
    "import matplotlib\n",
    "matplotlib.use('TkAgg')\n",
    "\n",
    "height=2\n",
    "length_Air=2\n",
    "length_SiO2=0.25*0.7\n",
    "length_Si=2\n",
    "\n",
    "length=length_Air+length_SiO2+length_Si\n",
    "\n",
    "geometry_1 = [\n",
    "    mp.Block(\n",
    "        mp.Vector3(height, mp.inf, length_Air),\n",
    "        center=mp.Vector3(0,0,-(length_Air/2+length_SiO2)),\n",
    "        material=mp.Medium(epsilon=1),\n",
    "    ),\n",
    "    mp.Block(\n",
    "        mp.Vector3(height, mp.inf, length_SiO2),\n",
    "        center=mp.Vector3(0,0,-length_SiO2/2),\n",
    "        material=mp.Medium(epsilon=2.1025),\n",
    "    ),\n",
    "    mp.Block(\n",
    "        mp.Vector3(height, mp.inf, length_Si),\n",
    "        center=mp.Vector3(0,0,length_Si/2),\n",
    "        material=mp.Medium(epsilon=11.8),\n",
    "    ),\n",
    "]\n",
    "\n",
    "pml_layers = [mp.PML(thickness=0.5,direction=mp.Z)]\n",
    "\n",
    "resolution = 50\n",
    "\n",
    "fmax=1/0.4\n",
    "fmin=1/0.7\n",
    "fcen=(fmax+fmin)/2\n",
    "df=fmax-fmin\n",
    "\n",
    "geometry_2=[\n",
    "    mp.Block(\n",
    "        mp.Vector3(height, mp.inf, length),\n",
    "        center=mp.Vector3(0,0,0),\n",
    "        material=mp.Medium(epsilon=1),\n",
    "    ),\n",
    "]\n",
    "\n",
    "nfreq = 100\n",
    "\n",
    "theta=np.arange(-90,100,10)\n",
    "\n",
    "cell_2=mp.Vector3(0, 0, length)\n",
    "\n",
    "reflectance_700nm=[]\n",
    "\n",
    "\n",
    "theta_r = math.radians(theta[0])\n",
    "\n",
    "k = mp.Vector3(math.sin(theta_r),0,math.cos(theta_r)).scale(fmin)\n",
    "\n",
    "if theta_r == 0:\n",
    "    dimensions = 1\n",
    "else:\n",
    "    dimensions = 3\n",
    "\n",
    "sources_3 = [mp.Source(mp.GaussianSource(fcen,fwidth=df),\n",
    "                    component=mp.Ex,\n",
    "                    center=mp.Vector3(0, 0, -(length_Air+length_SiO2)+1))]\n",
    "\n",
    "sim3 = mp.Simulation(cell_size=cell_2,\n",
    "                    geometry=geometry_2,\n",
    "                    boundary_layers=pml_layers,\n",
    "                    sources=sources_3,\n",
    "                    k_point=k,\n",
    "                    dimensions=dimensions,\n",
    "                    resolution=resolution)\n",
    "\n",
    "refl_fr = mp.FluxRegion(center=mp.Vector3(0,0,-(length_Air+length_SiO2)+1.5))\n",
    "refl = sim3.add_flux(fcen, df, nfreq, refl_fr)\n",
    "\n",
    "sim3.run(until_after_sources=mp.stop_when_fields_decayed(50, mp.Ex, mp.Vector3(0,0,-(length_Air+length_SiO2)+1.5), 1e-9))\n",
    "\n"
   ]
  },
  {
   "cell_type": "code",
   "execution_count": null,
   "metadata": {},
   "outputs": [],
   "source": [
    "plt.figure(dpi=100)\n",
    "sim3.plot2D()"
   ]
  },
  {
   "cell_type": "code",
   "execution_count": null,
   "metadata": {},
   "outputs": [],
   "source": []
  }
 ],
 "metadata": {
  "kernelspec": {
   "display_name": "Python 3 (ipykernel)",
   "language": "python",
   "name": "python3"
  },
  "language_info": {
   "codemirror_mode": {
    "name": "ipython",
    "version": 3
   },
   "file_extension": ".py",
   "mimetype": "text/x-python",
   "name": "python",
   "nbconvert_exporter": "python",
   "pygments_lexer": "ipython3",
   "version": "3.11.4"
  }
 },
 "nbformat": 4,
 "nbformat_minor": 4
}
