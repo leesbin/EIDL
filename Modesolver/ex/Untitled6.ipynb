{
 "cells": [
  {
   "cell_type": "code",
   "execution_count": null,
   "id": "8c478bf1-8b7f-4115-a809-b1c9b0c2e554",
   "metadata": {
    "tags": []
   },
   "outputs": [
    {
     "name": "stdout",
     "output_type": "stream",
     "text": [
      "-----------\n",
      "Initializing structure...\n",
      "time for choose_chunkdivision = 0.000141144 s\n",
      "Working in 3D dimensions.\n",
      "Computational cell is 6 x 7 x 7 with resolution 1\n",
      "     block, center = (-0.5,0,1)\n",
      "          size (1,3,5)\n",
      "          axes (1,0,0), (0,1,0), (0,0,1)\n",
      "          dielectric constant epsilon diagonal = (2.3104,2.3104,2.3104)\n",
      "     block, center = (0.05,0,1)\n",
      "          size (0.1,3,5)\n",
      "          axes (1,0,0), (0,1,0), (0,0,1)\n",
      "          dielectric constant epsilon diagonal = (5.1092,4.7515,5.1092)\n",
      "     prism, center = (0.35,0,1)\n",
      "          height 5, axis (0,0,1), sidewall angle: 0 radians, 4 vertices:\n",
      "          (0.1,0.611,-1.5)\n",
      "          (0.1,-0.611,-1.5)\n",
      "          (0.6,-0.399,-1.5)\n",
      "          (0.6,0.399,-1.5)\n",
      "          dielectric constant epsilon diagonal = (5.1092,4.7515,5.1092)\n",
      "time for set_epsilon = 0.000283003 s\n",
      "-----------\n"
     ]
    },
    {
     "name": "stderr",
     "output_type": "stream",
     "text": [
      "Warning: grid volume is not an integer number of pixels; cell size will be rounded to nearest pixel.\n"
     ]
    },
    {
     "name": "stdout",
     "output_type": "stream",
     "text": [
      "MPB solved for frequency_2(0,0,1) = 0.6429 after 40 iters\n",
      "MPB solved for frequency_2(0,0,2.50171) = 1.36778 after 5 iters\n",
      "MPB solved for frequency_2(0,0,2.34891) = 1.29051 after 1 iters\n",
      "MPB solved for frequency_2(0,0,2.34855) = 1.29032 after 1 iters\n",
      "MPB solved for frequency_2(0,0,2.34855) = 1.29032 after 4 iters\n",
      "Dominant planewave for band 2: (0.000000,0.714286,2.348551)\n"
     ]
    },
    {
     "name": "stderr",
     "output_type": "stream",
     "text": [
      "Warning: grid volume is not an integer number of pixels; cell size will be rounded to nearest pixel.\n"
     ]
    },
    {
     "name": "stdout",
     "output_type": "stream",
     "text": [
      "-----------\n",
      "Initializing structure...\n",
      "time for choose_chunkdivision = 0.000234127 s\n",
      "Working in 3D dimensions.\n",
      "Computational cell is 6.05172 x 6.98276 x 6.98276 with resolution 6.44444\n",
      "     block, center = (-0.5,0,1)\n",
      "          size (1,3,5)\n",
      "          axes (1,0,0), (0,1,0), (0,0,1)\n",
      "          dielectric constant epsilon diagonal = (2.3104,2.3104,2.3104)\n",
      "     block, center = (0.05,0,1)\n",
      "          size (0.1,3,5)\n",
      "          axes (1,0,0), (0,1,0), (0,0,1)\n",
      "          dielectric constant epsilon diagonal = (5.1092,4.7515,5.1092)\n",
      "     prism, center = (0.35,0,1)\n",
      "          height 5, axis (0,0,1), sidewall angle: 0 radians, 4 vertices:\n",
      "          (0.1,0.611,-1.5)\n",
      "          (0.1,-0.611,-1.5)\n",
      "          (0.6,-0.399,-1.5)\n",
      "          (0.6,0.399,-1.5)\n",
      "          dielectric constant epsilon diagonal = (5.1092,4.7515,5.1092)\n",
      "time for set_epsilon = 0.0281241 s\n",
      "-----------\n"
     ]
    },
    {
     "name": "stderr",
     "output_type": "stream",
     "text": [
      "Warning: grid volume is not an integer number of pixels; cell size will be rounded to nearest pixel.\n"
     ]
    },
    {
     "name": "stdout",
     "output_type": "stream",
     "text": [
      "MPB solved for frequency_2(0,0,1) = 0.574775 after 24 iters\n",
      "MPB solved for frequency_2(0,0,2.32369) = 1.20626 after 36 iters\n",
      "MPB solved for frequency_2(0,0,2.51736) = 1.28984 after 40 iters\n",
      "MPB solved for frequency_2(0,0,2.51848) = 1.29032 after 21 iters\n",
      "MPB solved for frequency_2(0,0,2.51848) = 1.29032 after 1 iters\n",
      "Dominant planewave for band 2: (0.000000,0.000000,2.518485)\n"
     ]
    },
    {
     "name": "stderr",
     "output_type": "stream",
     "text": [
      "Warning: grid volume is not an integer number of pixels; cell size will be rounded to nearest pixel.\n"
     ]
    },
    {
     "name": "stdout",
     "output_type": "stream",
     "text": [
      "-----------\n",
      "Initializing structure...\n",
      "time for choose_chunkdivision = 0.000305891 s\n",
      "Working in 3D dimensions.\n",
      "Computational cell is 5.97196 x 6.98131 x 6.98131 with resolution 11.8889\n",
      "     block, center = (-0.5,0,1)\n",
      "          size (1,3,5)\n",
      "          axes (1,0,0), (0,1,0), (0,0,1)\n",
      "          dielectric constant epsilon diagonal = (2.3104,2.3104,2.3104)\n",
      "     block, center = (0.05,0,1)\n",
      "          size (0.1,3,5)\n",
      "          axes (1,0,0), (0,1,0), (0,0,1)\n",
      "          dielectric constant epsilon diagonal = (5.1092,4.7515,5.1092)\n",
      "     prism, center = (0.35,0,1)\n",
      "          height 5, axis (0,0,1), sidewall angle: 0 radians, 4 vertices:\n",
      "          (0.1,0.611,-1.5)\n",
      "          (0.1,-0.611,-1.5)\n",
      "          (0.6,-0.399,-1.5)\n",
      "          (0.6,0.399,-1.5)\n",
      "          dielectric constant epsilon diagonal = (5.1092,4.7515,5.1092)\n",
      "time for set_epsilon = 0.159253 s\n",
      "-----------\n"
     ]
    },
    {
     "name": "stderr",
     "output_type": "stream",
     "text": [
      "Warning: grid volume is not an integer number of pixels; cell size will be rounded to nearest pixel.\n"
     ]
    },
    {
     "name": "stdout",
     "output_type": "stream",
     "text": [
      "MPB solved for frequency_2(0,0,1) = 0.568806 after 27 iters\n",
      "MPB solved for frequency_2(0,0,2.35711) = 1.20407 after 44 iters\n",
      "MPB solved for frequency_2(0,0,2.55879) = 1.28993 after 31 iters\n",
      "MPB solved for frequency_2(0,0,2.55972) = 1.29032 after 21 iters\n",
      "MPB solved for frequency_2(0,0,2.55972) = 1.29032 after 9 iters\n",
      "Dominant planewave for band 2: (0.000000,0.000000,2.559716)\n"
     ]
    },
    {
     "name": "stderr",
     "output_type": "stream",
     "text": [
      "Warning: grid volume is not an integer number of pixels; cell size will be rounded to nearest pixel.\n"
     ]
    },
    {
     "name": "stdout",
     "output_type": "stream",
     "text": [
      "-----------\n",
      "Initializing structure...\n",
      "time for choose_chunkdivision = 0.000363111 s\n",
      "Working in 3D dimensions.\n",
      "Computational cell is 6 x 6.98077 x 6.98077 with resolution 17.3333\n",
      "     block, center = (-0.5,0,1)\n",
      "          size (1,3,5)\n",
      "          axes (1,0,0), (0,1,0), (0,0,1)\n",
      "          dielectric constant epsilon diagonal = (2.3104,2.3104,2.3104)\n",
      "     block, center = (0.05,0,1)\n",
      "          size (0.1,3,5)\n",
      "          axes (1,0,0), (0,1,0), (0,0,1)\n",
      "          dielectric constant epsilon diagonal = (5.1092,4.7515,5.1092)\n",
      "     prism, center = (0.35,0,1)\n",
      "          height 5, axis (0,0,1), sidewall angle: 0 radians, 4 vertices:\n",
      "          (0.1,0.611,-1.5)\n",
      "          (0.1,-0.611,-1.5)\n",
      "          (0.6,-0.399,-1.5)\n",
      "          (0.6,0.399,-1.5)\n",
      "          dielectric constant epsilon diagonal = (5.1092,4.7515,5.1092)\n",
      "time for set_epsilon = 0.469175 s\n",
      "-----------\n"
     ]
    },
    {
     "name": "stderr",
     "output_type": "stream",
     "text": [
      "Warning: grid volume is not an integer number of pixels; cell size will be rounded to nearest pixel.\n"
     ]
    },
    {
     "name": "stdout",
     "output_type": "stream",
     "text": [
      "MPB solved for frequency_2(0,0,1) = 0.566834 after 25 iters\n",
      "MPB solved for frequency_2(0,0,2.36486) = 1.20521 after 30 iters\n",
      "MPB solved for frequency_2(0,0,2.56381) = 1.28994 after 36 iters\n",
      "MPB solved for frequency_2(0,0,2.56471) = 1.29032 after 16 iters\n",
      "MPB solved for frequency_2(0,0,2.56471) = 1.29032 after 9 iters\n",
      "Dominant planewave for band 2: (0.000000,0.000000,2.564706)\n"
     ]
    },
    {
     "name": "stderr",
     "output_type": "stream",
     "text": [
      "Warning: grid volume is not an integer number of pixels; cell size will be rounded to nearest pixel.\n"
     ]
    },
    {
     "name": "stdout",
     "output_type": "stream",
     "text": [
      "-----------\n",
      "Initializing structure...\n",
      "time for choose_chunkdivision = 0.000425816 s\n",
      "Working in 3D dimensions.\n",
      "Computational cell is 6.01463 x 6.98049 x 6.98049 with resolution 22.7778\n",
      "     block, center = (-0.5,0,1)\n",
      "          size (1,3,5)\n",
      "          axes (1,0,0), (0,1,0), (0,0,1)\n",
      "          dielectric constant epsilon diagonal = (2.3104,2.3104,2.3104)\n",
      "     block, center = (0.05,0,1)\n",
      "          size (0.1,3,5)\n",
      "          axes (1,0,0), (0,1,0), (0,0,1)\n",
      "          dielectric constant epsilon diagonal = (5.1092,4.7515,5.1092)\n",
      "     prism, center = (0.35,0,1)\n",
      "          height 5, axis (0,0,1), sidewall angle: 0 radians, 4 vertices:\n",
      "          (0.1,0.611,-1.5)\n",
      "          (0.1,-0.611,-1.5)\n",
      "          (0.6,-0.399,-1.5)\n",
      "          (0.6,0.399,-1.5)\n",
      "          dielectric constant epsilon diagonal = (5.1092,4.7515,5.1092)\n",
      "time for set_epsilon = 1.05336 s\n",
      "-----------\n"
     ]
    },
    {
     "name": "stderr",
     "output_type": "stream",
     "text": [
      "Warning: grid volume is not an integer number of pixels; cell size will be rounded to nearest pixel.\n"
     ]
    },
    {
     "name": "stdout",
     "output_type": "stream",
     "text": [
      "MPB solved for frequency_2(0,0,1) = 0.565851 after 28 iters\n",
      "MPB solved for frequency_2(0,0,2.37096) = 1.20526 after 31 iters\n",
      "MPB solved for frequency_2(0,0,2.57012) = 1.28996 after 37 iters\n",
      "MPB solved for frequency_2(0,0,2.57099) = 1.29032 after 26 iters\n",
      "MPB solved for frequency_2(0,0,2.57099) = 1.29032 after 1 iters\n",
      "Dominant planewave for band 2: (0.000000,0.000000,2.570989)\n"
     ]
    },
    {
     "name": "stderr",
     "output_type": "stream",
     "text": [
      "Warning: grid volume is not an integer number of pixels; cell size will be rounded to nearest pixel.\n"
     ]
    },
    {
     "name": "stdout",
     "output_type": "stream",
     "text": [
      "-----------\n",
      "Initializing structure...\n",
      "time for choose_chunkdivision = 0.000527143 s\n",
      "Working in 3D dimensions.\n",
      "Computational cell is 5.98819 x 7.01575 x 7.01575 with resolution 28.2222\n",
      "     block, center = (-0.5,0,1)\n",
      "          size (1,3,5)\n",
      "          axes (1,0,0), (0,1,0), (0,0,1)\n",
      "          dielectric constant epsilon diagonal = (2.3104,2.3104,2.3104)\n",
      "     block, center = (0.05,0,1)\n",
      "          size (0.1,3,5)\n",
      "          axes (1,0,0), (0,1,0), (0,0,1)\n",
      "          dielectric constant epsilon diagonal = (5.1092,4.7515,5.1092)\n",
      "     prism, center = (0.35,0,1)\n",
      "          height 5, axis (0,0,1), sidewall angle: 0 radians, 4 vertices:\n",
      "          (0.1,0.611,-1.5)\n",
      "          (0.1,-0.611,-1.5)\n",
      "          (0.6,-0.399,-1.5)\n",
      "          (0.6,0.399,-1.5)\n",
      "          dielectric constant epsilon diagonal = (5.1092,4.7515,5.1092)\n",
      "time for set_epsilon = 2.02165 s\n",
      "-----------\n"
     ]
    },
    {
     "name": "stderr",
     "output_type": "stream",
     "text": [
      "Warning: grid volume is not an integer number of pixels; cell size will be rounded to nearest pixel.\n"
     ]
    },
    {
     "name": "stdout",
     "output_type": "stream",
     "text": [
      "MPB solved for frequency_2(0,0,1) = 0.564616 after 25 iters\n",
      "MPB solved for frequency_2(0,0,2.37562) = 1.20531 after 36 iters\n",
      "MPB solved for frequency_2(0,0,2.57482) = 1.28996 after 29 iters\n",
      "MPB solved for frequency_2(0,0,2.57567) = 1.29032 after 30 iters\n",
      "MPB solved for frequency_2(0,0,2.57567) = 1.29032 after 4 iters\n",
      "MPB solved for frequency_2(0,0,2.57567) = 1.29032 after 6 iters\n",
      "Dominant planewave for band 2: (0.000000,0.000000,2.575669)\n"
     ]
    },
    {
     "name": "stderr",
     "output_type": "stream",
     "text": [
      "Warning: grid volume is not an integer number of pixels; cell size will be rounded to nearest pixel.\n"
     ]
    },
    {
     "name": "stdout",
     "output_type": "stream",
     "text": [
      "-----------\n",
      "Initializing structure...\n",
      "time for choose_chunkdivision = 0.00082016 s\n",
      "Working in 3D dimensions.\n",
      "Computational cell is 6 x 7.0099 x 7.0099 with resolution 33.6667\n",
      "     block, center = (-0.5,0,1)\n",
      "          size (1,3,5)\n",
      "          axes (1,0,0), (0,1,0), (0,0,1)\n",
      "          dielectric constant epsilon diagonal = (2.3104,2.3104,2.3104)\n",
      "     block, center = (0.05,0,1)\n",
      "          size (0.1,3,5)\n",
      "          axes (1,0,0), (0,1,0), (0,0,1)\n",
      "          dielectric constant epsilon diagonal = (5.1092,4.7515,5.1092)\n",
      "     prism, center = (0.35,0,1)\n",
      "          height 5, axis (0,0,1), sidewall angle: 0 radians, 4 vertices:\n",
      "          (0.1,0.611,-1.5)\n",
      "          (0.1,-0.611,-1.5)\n",
      "          (0.6,-0.399,-1.5)\n",
      "          (0.6,0.399,-1.5)\n",
      "          dielectric constant epsilon diagonal = (5.1092,4.7515,5.1092)\n",
      "time for set_epsilon = 3.40783 s\n",
      "-----------\n"
     ]
    },
    {
     "name": "stderr",
     "output_type": "stream",
     "text": [
      "Warning: grid volume is not an integer number of pixels; cell size will be rounded to nearest pixel.\n"
     ]
    },
    {
     "name": "stdout",
     "output_type": "stream",
     "text": [
      "MPB solved for frequency_2(0,0,1) = 0.5644 after 24 iters\n",
      "MPB solved for frequency_2(0,0,2.37846) = 1.20511 after 50 iters\n",
      "MPB solved for frequency_2(0,0,2.5784) = 1.28997 after 30 iters\n",
      "MPB solved for frequency_2(0,0,2.57922) = 1.29032 after 16 iters\n",
      "MPB solved for frequency_2(0,0,2.57922) = 1.29032 after 3 iters\n",
      "Dominant planewave for band 2: (0.000000,0.000000,2.579219)\n"
     ]
    },
    {
     "name": "stderr",
     "output_type": "stream",
     "text": [
      "Warning: grid volume is not an integer number of pixels; cell size will be rounded to nearest pixel.\n"
     ]
    },
    {
     "name": "stdout",
     "output_type": "stream",
     "text": [
      "-----------\n",
      "Initializing structure...\n",
      "time for choose_chunkdivision = 0.00101686 s\n",
      "Working in 3D dimensions.\n",
      "Computational cell is 6.00852 x 7.00568 x 7.00568 with resolution 39.1111\n",
      "     block, center = (-0.5,0,1)\n",
      "          size (1,3,5)\n",
      "          axes (1,0,0), (0,1,0), (0,0,1)\n",
      "          dielectric constant epsilon diagonal = (2.3104,2.3104,2.3104)\n",
      "     block, center = (0.05,0,1)\n",
      "          size (0.1,3,5)\n",
      "          axes (1,0,0), (0,1,0), (0,0,1)\n",
      "          dielectric constant epsilon diagonal = (5.1092,4.7515,5.1092)\n",
      "     prism, center = (0.35,0,1)\n",
      "          height 5, axis (0,0,1), sidewall angle: 0 radians, 4 vertices:\n",
      "          (0.1,0.611,-1.5)\n",
      "          (0.1,-0.611,-1.5)\n",
      "          (0.6,-0.399,-1.5)\n",
      "          (0.6,0.399,-1.5)\n",
      "          dielectric constant epsilon diagonal = (5.1092,4.7515,5.1092)\n"
     ]
    },
    {
     "name": "stderr",
     "output_type": "stream",
     "text": [
      "Warning: grid volume is not an integer number of pixels; cell size will be rounded to nearest pixel.\n"
     ]
    },
    {
     "name": "stdout",
     "output_type": "stream",
     "text": [
      "MPB solved for frequency_2(0,0,1) = 0.563502 after 24 iters\n",
      "MPB solved for frequency_2(0,0,2.38059) = 1.20535 after 32 iters\n",
      "MPB solved for frequency_2(0,0,2.5799) = 1.28998 after 30 iters\n",
      "MPB solved for frequency_2(0,0,2.58072) = 1.29032 after 51 iters\n",
      "MPB solved for frequency_2(0,0,2.58072) = 1.29032 after 1 iters\n",
      "MPB solved for frequency_2(0,0,2.58072) = 1.29032 after 3 iters\n",
      "Dominant planewave for band 2: (0.000000,0.000000,2.580720)\n"
     ]
    },
    {
     "name": "stderr",
     "output_type": "stream",
     "text": [
      "Warning: grid volume is not an integer number of pixels; cell size will be rounded to nearest pixel.\n"
     ]
    },
    {
     "name": "stdout",
     "output_type": "stream",
     "text": [
      "-----------\n",
      "Initializing structure...\n",
      "time for choose_chunkdivision = 0.00100207 s\n",
      "Working in 3D dimensions.\n",
      "Computational cell is 5.99252 x 7.00249 x 7.00249 with resolution 44.5556\n",
      "     block, center = (-0.5,0,1)\n",
      "          size (1,3,5)\n",
      "          axes (1,0,0), (0,1,0), (0,0,1)\n",
      "          dielectric constant epsilon diagonal = (2.3104,2.3104,2.3104)\n",
      "     block, center = (0.05,0,1)\n",
      "          size (0.1,3,5)\n",
      "          axes (1,0,0), (0,1,0), (0,0,1)\n",
      "          dielectric constant epsilon diagonal = (5.1092,4.7515,5.1092)\n",
      "     prism, center = (0.35,0,1)\n",
      "          height 5, axis (0,0,1), sidewall angle: 0 radians, 4 vertices:\n",
      "          (0.1,0.611,-1.5)\n",
      "          (0.1,-0.611,-1.5)\n",
      "          (0.6,-0.399,-1.5)\n",
      "          (0.6,0.399,-1.5)\n",
      "          dielectric constant epsilon diagonal = (5.1092,4.7515,5.1092)\n"
     ]
    }
   ],
   "source": [
    "import meep as mp\n",
    "import numpy as np\n",
    "from matplotlib import pyplot as plt\n",
    "from meep.materials import Si\n",
    "from meep import mpb\n",
    "\n",
    "\n",
    "resolution = 10\n",
    "\n",
    "n_meep = []\n",
    "n_mpb = []\n",
    "\n",
    "My_LiNbO3= mp.Medium(epsilon_diag=mp.Vector3(5.1092, 4.7515, 5.1092)) # X cut\n",
    "fcen= 1.0/ 0.775 # 775 nm\n",
    "n = np.sqrt(My_LiNbO3.epsilon(fcen)[0,0])\n",
    "freq = 1/6\n",
    "\n",
    "\n",
    "Lpml= 20.0/ resolution\n",
    "\n",
    "Sx= 2.0# 높이: 위아래 pml 0부터 LN, 그아래는 SiO2\n",
    "Sy= 3.0# 너비: 좌우 pml, 폭 3um                         -|-\n",
    "Sz= 3.0# 길이 (진행방향): 3 \n",
    "\n",
    "Air= mp.Medium(index=1.0)\n",
    "SiO2= mp.Medium(index=1.52)#<-------------------------------------------------------------경우에 따라 제거할수도\n",
    "My_LiNbO3= mp.Medium(epsilon_diag=mp.Vector3(5.1092, 4.7515, 5.1092)) # X cut\n",
    "# pml 두께 여기서 들어감.\n",
    "cell= mp.Vector3(Sx+ 2*Lpml, Sy+ 2*Lpml, Sz+ 2*Lpml)\n",
    "\n",
    "# 공간 비례 변수 (pml 뺀 유효 공간)\n",
    "X_min= 0.5*-Sx\n",
    "Y_min= 0.5*-Sy\n",
    "Z_min= 0.5*-Sz\n",
    "\n",
    "X_max= 0.5*Sx\n",
    "Y_max= 0.5*Sy\n",
    "Z_max= 0.5*Sz\n",
    "\n",
    "# 높이 (x: thickness)\n",
    "LNsub_h= 0.1 # LN substrate\n",
    "SiO2_h= 1.0 # SiO2 substrate\n",
    "LNwg_h= 0.5 # LN waveguide\n",
    "\n",
    "# 폭 (y: width)\n",
    "min_g= 0.424 # minimum gap\n",
    "w_top= 0.798 # top width (output waveguide)\n",
    "w_bot= w_top+ min_g #bottom width (1222 nm) \n",
    "\n",
    "Target_size = mp.Vector3(LNsub_h + LNwg_h, 1.4, 0)\n",
    "\n",
    "\n",
    "# 구조물 \n",
    "geometry= [\n",
    "    mp.Block(#SiO2 substrate\n",
    "        center= mp.Vector3(X_min+ 0.5*SiO2_h, 0, 0+ Lpml/2),\n",
    "        material= SiO2,\n",
    "        size= mp.Vector3(SiO2_h, Sy, Sz+ Lpml)\n",
    "    ),\n",
    "    mp.Block(#LiNbO3 substrate\n",
    "        center= mp.Vector3(X_min+ SiO2_h+ 0.5*LNsub_h, 0, 0+ Lpml/2),\n",
    "        material= My_LiNbO3,\n",
    "        size= mp.Vector3(LNsub_h, Sy, Sz+ Lpml)\n",
    "    ),    \n",
    "    mp.Prism(#LiNbO3 waveguide\n",
    "        vertices = [\n",
    "            mp.Vector3(X_min+ SiO2_h+ LNsub_h, w_bot/2, Z_min),\n",
    "            mp.Vector3(X_min+ SiO2_h+ LNsub_h, -w_bot/2, Z_min),\n",
    "            mp.Vector3(X_min+ SiO2_h+ LNsub_h+ LNwg_h, -w_top/2, Z_min),\n",
    "            mp.Vector3(X_min+ SiO2_h+ LNsub_h+ LNwg_h, w_top/2, Z_min)\n",
    "        ],\n",
    "        height= Sz+Lpml,\n",
    "        axis= mp.Vector3(0, 0, 1),\n",
    "        sidewall_angle= 0,\n",
    "        material= My_LiNbO3,\n",
    "    )\n",
    "]\n",
    "\n",
    "pml_layers = [mp.PML(thickness=Lpml)]#, direction=mp.Y)]\n",
    "\n",
    "res = np.linspace(1,50,10)\n",
    "for resolution in res:\n",
    "\n",
    "    # Meep simulation that uses MPB\n",
    "    sim = mp.Simulation(\n",
    "        cell_size= cell,\n",
    "        resolution= resolution,\n",
    "        boundary_layers= pml_layers,\n",
    "        eps_averaging= False,\n",
    "        geometry= geometry,\n",
    "    )\n",
    "\n",
    "    sim.init_sim()\n",
    "    where = mp.Volume(center=mp.Vector3(), size= mp.Vector3(LNsub_h + LNwg_h, 1.4, 0))\n",
    "    direction = mp.Z\n",
    "    band_num = 3\n",
    "    kpoint = mp.Vector3(0,0,1)\n",
    "    ed = sim.get_eigenmode(fcen, direction, where, band_num, kpoint, eig_vol=None, match_frequency=True, \n",
    "    parity=mp.NO_PARITY, resolution=0, eigensolver_tol=1e-16)\n",
    "\n",
    "    k = ed.k\n",
    "    n_meep.append(k.z/(fcen))\n",
    "\n",
    "#     # Direct MPB simulation\n",
    "#     geometry_lattice = mp.Lattice(size=mp.Vector3(0,2,2))\n",
    "#     ms = mpb.ModeSolver(\n",
    "#         geometry_lattice=geometry_lattice,\n",
    "#         resolution=resolution,\n",
    "#         num_bands=1,\n",
    "#         ensure_periodicity=False,\n",
    "#         default_material=mp.Medium(index=n)\n",
    "#     )\n",
    "\n",
    "#     k_mpb = ms.find_k(mp.NO_PARITY, freq, 1, 1, mp.Vector3(1), 1e-3, freq * n, freq * 0.1, freq * 4)\n",
    "#     n_mpb.append(k_mpb[0]/freq)\n",
    "\n",
    "plt.figure()\n",
    "plt.hlines(n,min(res),max(res),label='Si',color='blue',linewidth=2)\n",
    "plt.plot(res,n_meep,'-o',label='MEEP',color='red',linewidth=2)\n",
    "# plt.plot(res,n_mpb,'--o',label='MPB',color='green',linewidth=2)\n",
    "plt.legend()\n",
    "plt.grid(True)\n",
    "plt.ylabel('Index of Si at {} $\\mu$m'.format(1/freq))\n",
    "plt.xlabel('Resolution')\n",
    "plt.tight_layout()\n",
    "plt.savefig('meep_mpb_comparison.png')\n",
    "plt.show()"
   ]
  },
  {
   "cell_type": "code",
   "execution_count": null,
   "id": "1658edf9-8d0a-4dc0-b238-14efbddeba48",
   "metadata": {},
   "outputs": [],
   "source": []
  }
 ],
 "metadata": {
  "kernelspec": {
   "display_name": "Python 3 (ipykernel)",
   "language": "python",
   "name": "python3"
  },
  "language_info": {
   "codemirror_mode": {
    "name": "ipython",
    "version": 3
   },
   "file_extension": ".py",
   "mimetype": "text/x-python",
   "name": "python",
   "nbconvert_exporter": "python",
   "pygments_lexer": "ipython3",
   "version": "3.11.4"
  }
 },
 "nbformat": 4,
 "nbformat_minor": 5
}
