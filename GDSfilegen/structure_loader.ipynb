{
 "cells": [
  {
   "cell_type": "code",
   "execution_count": 1,
   "id": "4e78ec18-e443-46bc-b962-cd55eb7ec4a0",
   "metadata": {},
   "outputs": [
    {
     "name": "stderr",
     "output_type": "stream",
     "text": [
      "/tmp/ipykernel_2694572/2167054138.py:64: DeprecationWarning: [GDSPY] Use of the global library is deprecated.  Pass LayoutViewer a GdsLibrary instance.\n",
      "  gdspy.LayoutViewer()\n"
     ]
    },
    {
     "data": {
      "text/plain": [
       "<gdspy.viewer.LayoutViewer object .!layoutviewer>"
      ]
     },
     "execution_count": 1,
     "metadata": {},
     "output_type": "execute_result"
    }
   ],
   "source": [
    "import numpy as np\n",
    "import gdspy\n",
    "from autograd import numpy as npa\n",
    "\n",
    "\n",
    "\n",
    "################################################### design parameter #########################\n",
    "resolution = 50 # 해상도\n",
    "design_region_width = 3 # 디자인 영역 너비\n",
    "design_region_height = 4 # 디자인 영역 높이\n",
    "pml_size = 1 # PML 영역 크기\n",
    "Sx= 1.0# 높이: 위아래 pml 0부터 LN, 그아래는 SiO2\n",
    "Sy= 3.0# 너비: 좌우 pml, 폭 3um                         \n",
    "Sz= 3.0# 길이 (진행방향): 3 \n",
    "LNwg_h= 0.5 # LN waveguide\n",
    "# 설계 공간\n",
    "design_region_x = LNwg_h\n",
    "design_region_y = Sy\n",
    "design_region_z = 2\n",
    "Nx = int(resolution * design_region_x) + 1\n",
    "Ny = int(resolution * design_region_y) + 1\n",
    "Nz = int(resolution * design_region_z) + 1\n",
    "##############################################################################################\n",
    "\n",
    "\n",
    "\n",
    "# Numpy 배열 생성 2D 배열을 만듭니다\n",
    "structure_weight = np.loadtxt('lastdesign.txt')\n",
    "structure_weight =structure_weight.reshape(Nx, Ny*Nz)[Nx-1]\n",
    "data = npa.rot90(structure_weight.reshape(Ny,Nz))\n",
    "\n",
    "\n",
    "# GDS 파일 생성\n",
    "cell = gdspy.Cell('TOP')\n",
    "\n",
    "# 직사각형의 가로와 세로 크기\n",
    "width = 1\n",
    "height = 1\n",
    "\n",
    "# Numpy 배열을 기반으로 GDS의 경로(Path) 생성\n",
    "for i in range(data.shape[0]):\n",
    "    for j in range(data.shape[1]):\n",
    "        if data[i, j] == 1:\n",
    "            # 각각의 1에 대해 직사각형을 만듭니다.\n",
    "            rectangle = gdspy.Rectangle((j * width, -i * height), ((j + 1) * width, -(i + 1) * height))\n",
    "            cell.add(rectangle)\n",
    "\n",
    "# GDS 파일 저장\n",
    "gdspy.write_gds('output.gds')\n",
    "\n",
    "# Optionally, save an image of the cell as SVG.\n",
    "cell.write_svg('outpu.svg')\n",
    "\n",
    "# Display all cells using the internal viewer.\n",
    "gdspy.LayoutViewer()"
   ]
  },
  {
   "cell_type": "code",
   "execution_count": null,
   "id": "e4ce0ad8-818d-474f-af1b-755ee6427480",
   "metadata": {},
   "outputs": [],
   "source": []
  }
 ],
 "metadata": {
  "kernelspec": {
   "display_name": "Python 3 (ipykernel)",
   "language": "python",
   "name": "python3"
  },
  "language_info": {
   "codemirror_mode": {
    "name": "ipython",
    "version": 3
   },
   "file_extension": ".py",
   "mimetype": "text/x-python",
   "name": "python",
   "nbconvert_exporter": "python",
   "pygments_lexer": "ipython3",
   "version": "3.11.4"
  }
 },
 "nbformat": 4,
 "nbformat_minor": 5
}
