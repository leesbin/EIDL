{
 "cells": [
  {
   "cell_type": "code",
   "execution_count": 1,
   "id": "4e78ec18-e443-46bc-b962-cd55eb7ec4a0",
   "metadata": {},
   "outputs": [
    {
     "name": "stderr",
     "output_type": "stream",
     "text": [
      "/tmp/ipykernel_2689461/2570790903.py:59: DeprecationWarning: [GDSPY] Use of the global library is deprecated.  Pass LayoutViewer a GdsLibrary instance.\n",
      "  gdspy.LayoutViewer()\n"
     ]
    },
    {
     "data": {
      "text/plain": [
       "<gdspy.viewer.LayoutViewer object .!layoutviewer>"
      ]
     },
     "execution_count": 1,
     "metadata": {},
     "output_type": "execute_result"
    }
   ],
   "source": [
    "import numpy as np\n",
    "import gdspy\n",
    "from autograd import numpy as npa\n",
    "from scipy.ndimage import binary_fill_holes\n",
    "\n",
    "################################################### design parameter #########################\n",
    "resolution = 50  # 해상도\n",
    "design_region_width = 3  # 디자인 영역 너비\n",
    "design_region_height = 4  # 디자인 영역 높이\n",
    "pml_size = 1  # PML 영역 크기\n",
    "Sx = 1.0  # 높이: 위아래 pml 0부터 LN, 그 아래는 SiO2\n",
    "Sy = 3.0  # 너비: 좌우 pml, 폭 3um\n",
    "Sz = 3.0  # 길이 (진행방향): 3\n",
    "LNwg_h = 0.5  # LN waveguide\n",
    "# 설계 공간\n",
    "design_region_x = LNwg_h\n",
    "design_region_y = Sy\n",
    "design_region_z = 2\n",
    "Nx = int(resolution * design_region_x) + 1\n",
    "Ny = int(resolution * design_region_y) + 1\n",
    "Nz = int(resolution * design_region_z) + 1\n",
    "##############################################################################################\n",
    "\n",
    "# Numpy 배열 생성\n",
    "structure_weight = np.loadtxt('lastdesign.txt')\n",
    "structure_weight = structure_weight.reshape(Nx, Ny * Nz)[Nx - 1]\n",
    "data = npa.rot90(structure_weight.reshape(Ny, Nz))\n",
    "\n",
    "# 내부 채우기\n",
    "filled_data = binary_fill_holes(data)  # 내부를 채움\n",
    "\n",
    "# GDS 파일 생성\n",
    "cell = gdspy.Cell('TOP')\n",
    "\n",
    "# 직사각형의 가로와 세로 크기\n",
    "width = 1\n",
    "height = 1\n",
    "\n",
    "# 경계선을 따라 외곽을 이루는 다각형(Polygon) 생성\n",
    "for i in range(filled_data.shape[0]):\n",
    "    for j in range(filled_data.shape[1]):\n",
    "        if filled_data[i, j] == 1:\n",
    "            # 직사각형의 네 꼭짓점을 이용해 외곽선을 유지\n",
    "            x0, y0 = j * width, -i * height\n",
    "            x1, y1 = (j + 1) * width, -(i + 1) * height\n",
    "            \n",
    "            # 외곽 경계선을 정의하는 좌표들\n",
    "            points = [(x0, y0), (x1, y0), (x1, y1), (x0, y1)]\n",
    "            polygon = gdspy.Polygon(points)\n",
    "            cell.add(polygon)\n",
    "\n",
    "# GDS 파일 저장\n",
    "gdspy.write_gds('output.gds')\n",
    "\n",
    "# Optionally, save an image of the cell as SVG.\n",
    "cell.write_svg('output.svg')\n",
    "\n",
    "# Display all cells using the internal viewer.\n",
    "gdspy.LayoutViewer()\n"
   ]
  },
  {
   "cell_type": "code",
   "execution_count": null,
   "id": "e4ce0ad8-818d-474f-af1b-755ee6427480",
   "metadata": {},
   "outputs": [],
   "source": []
  }
 ],
 "metadata": {
  "kernelspec": {
   "display_name": "Python 3 (ipykernel)",
   "language": "python",
   "name": "python3"
  },
  "language_info": {
   "codemirror_mode": {
    "name": "ipython",
    "version": 3
   },
   "file_extension": ".py",
   "mimetype": "text/x-python",
   "name": "python",
   "nbconvert_exporter": "python",
   "pygments_lexer": "ipython3",
   "version": "3.11.4"
  }
 },
 "nbformat": 4,
 "nbformat_minor": 5
}
