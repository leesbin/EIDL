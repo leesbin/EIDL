{
 "cells": [
  {
   "cell_type": "code",
   "execution_count": 8,
   "id": "4e78ec18-e443-46bc-b962-cd55eb7ec4a0",
   "metadata": {},
   "outputs": [
    {
     "name": "stderr",
     "output_type": "stream",
     "text": [
      "/tmp/ipykernel_1888830/169167960.py:70: DeprecationWarning: [GDSPY] Use of the global library is deprecated.  Pass LayoutViewer a GdsLibrary instance.\n",
      "  gdspy.LayoutViewer()\n"
     ]
    },
    {
     "data": {
      "text/plain": [
       "<gdspy.viewer.LayoutViewer object .!layoutviewer>"
      ]
     },
     "execution_count": 8,
     "metadata": {},
     "output_type": "execute_result"
    }
   ],
   "source": [
    "import numpy as np\n",
    "import gdspy\n",
    "from autograd import numpy as npa\n",
    "\n",
    "################################################### design parameter #########################\n",
    "resolution = 50  # Resolution\n",
    "design_region_width = 3  # Design region width\n",
    "design_region_height = 4  # Design region height\n",
    "pml_size = 1  # PML region size\n",
    "Sx = 1.0  # Height: from top to bottom PML 0 to LN, below that SiO2\n",
    "Sy = 3.0  # Width: left and right PML, width 3um\n",
    "Sz = 3.0  # Length (direction of propagation): 3\n",
    "LNwg_h = 0.5  # LN waveguide\n",
    "# Design space\n",
    "design_region_x = LNwg_h\n",
    "design_region_y = Sy\n",
    "design_region_z = 2\n",
    "Nx = int(resolution * design_region_x) + 1\n",
    "Ny = int(resolution * design_region_y) + 1\n",
    "Nz = int(resolution * design_region_z) + 1\n",
    "##############################################################################################\n",
    "\n",
    "# Load and process structure weight data\n",
    "structure_weight = np.loadtxt('lastdesign.txt')  # Adjust path as needed\n",
    "structure_weight = structure_weight.reshape(Nx, Ny * Nz)[Nx - 1]\n",
    "data = npa.rot90(structure_weight.reshape(Ny, Nz))\n",
    "\n",
    "# Check if the cell 'TOP' exists and delete it if it does\n",
    "if 'TOP' in gdspy.current_library.cells:\n",
    "    del gdspy.current_library.cells['TOP']\n",
    "\n",
    "# Create the new cell\n",
    "cell = gdspy.Cell('TOP')\n",
    "\n",
    "# Rectangle dimensions\n",
    "width = 1\n",
    "height = 1\n",
    " \n",
    "# Numpy 배열을 기반으로 GDS의 경로(Path) 생성\n",
    "rectangles = []\n",
    "for i in range(data.shape[0]):\n",
    "    for j in range(data.shape[1]):\n",
    "        if data[i, j] == 1:\n",
    "            # 각 사각형의 좌표를 정밀하게 조정\n",
    "            x0 = j * width\n",
    "            y0 = -i * height\n",
    "            x1 = (j + 1) * width\n",
    "            y1 = -(i + 1) * height\n",
    "            rectangle = gdspy.Rectangle((x0, y0), (x1, y1))\n",
    "            rectangles.append(rectangle)\n",
    "\n",
    "# Merge rectangles with precise alignment\n",
    "if rectangles:\n",
    "    merged_polygon = gdspy.boolean(rectangles, None, 'or', precision=1e-9)\n",
    "    merged_polygon_1 = gdspy.boolean(merged_polygon, None, 'or', precision=1e-9)\n",
    "    cell.add(merged_polygon_1)\n",
    "\n",
    "# Set the unit and precision (optional)\n",
    "# 1 micrometer (µm) is the default unit, and 1e-9 is the default precision (1 nanometer).\n",
    "unit = 1e-6  # 1 micrometer per unit\n",
    "precision = 1e-9  # 1 nanometer precision\n",
    "\n",
    "# Save the GDS file with specified unit and precision\n",
    "gdspy.write_gds('output.gds', unit=unit, precision=precision)\n",
    "\n",
    "# Optionally, save an image of the cell as SVG.\n",
    "cell.write_svg('output.svg')\n",
    "\n",
    "# Display all cells using the internal viewer.\n",
    "gdspy.LayoutViewer()\n",
    "\n"
   ]
  },
  {
   "cell_type": "code",
   "execution_count": null,
   "id": "e4ce0ad8-818d-474f-af1b-755ee6427480",
   "metadata": {},
   "outputs": [],
   "source": []
  }
 ],
 "metadata": {
  "kernelspec": {
   "display_name": "Python 3 (ipykernel)",
   "language": "python",
   "name": "python3"
  },
  "language_info": {
   "codemirror_mode": {
    "name": "ipython",
    "version": 3
   },
   "file_extension": ".py",
   "mimetype": "text/x-python",
   "name": "python",
   "nbconvert_exporter": "python",
   "pygments_lexer": "ipython3",
   "version": "3.8.19"
  }
 },
 "nbformat": 4,
 "nbformat_minor": 5
}
