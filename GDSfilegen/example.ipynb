{
 "cells": [
  {
   "cell_type": "code",
   "execution_count": 1,
   "id": "775ec4cf-e58d-47e4-86e5-a1bfab72f625",
   "metadata": {},
   "outputs": [
    {
     "name": "stderr",
     "output_type": "stream",
     "text": [
      "/tmp/ipykernel_458502/1343805896.py:20: DeprecationWarning: [GDSPY] Use of the global library is deprecated.  Pass LayoutViewer a GdsLibrary instance.\n",
      "  gdspy.LayoutViewer()\n"
     ]
    },
    {
     "data": {
      "text/plain": [
       "<gdspy.viewer.LayoutViewer object .!layoutviewer>"
      ]
     },
     "execution_count": 1,
     "metadata": {},
     "output_type": "execute_result"
    }
   ],
   "source": [
    "import gdspy\n",
    "\n",
    "# The GDSII file is called a library, which contains multiple cells.\n",
    "lib = gdspy.GdsLibrary()\n",
    "\n",
    "# Geometry must be placed in cells.\n",
    "cell = lib.new_cell('FIRST')\n",
    "\n",
    "# Create the geometry (a single rectangle) and add it to the cell.\n",
    "rect = gdspy.Rectangle((0, 0), (2, 1))\n",
    "cell.add(rect)\n",
    "\n",
    "# Save the library in a file called 'first.gds'.\n",
    "lib.write_gds('first.gds')\n",
    "\n",
    "# Optionally, save an image of the cell as SVG.\n",
    "cell.write_svg('first.svg')\n",
    "\n",
    "# Display all cells using the internal viewer.\n",
    "gdspy.LayoutViewer()"
   ]
  },
  {
   "cell_type": "code",
   "execution_count": null,
   "id": "c254748e-ea9a-448a-97a9-a8db6c7ce821",
   "metadata": {},
   "outputs": [],
   "source": []
  }
 ],
 "metadata": {
  "kernelspec": {
   "display_name": "Python 3 (ipykernel)",
   "language": "python",
   "name": "python3"
  },
  "language_info": {
   "codemirror_mode": {
    "name": "ipython",
    "version": 3
   },
   "file_extension": ".py",
   "mimetype": "text/x-python",
   "name": "python",
   "nbconvert_exporter": "python",
   "pygments_lexer": "ipython3",
   "version": "3.11.4"
  }
 },
 "nbformat": 4,
 "nbformat_minor": 5
}
