{
 "cells": [
  {
   "cell_type": "code",
   "execution_count": 1,
   "id": "ab54f338-db3a-4d98-a2a2-b34e3ff1185c",
   "metadata": {},
   "outputs": [],
   "source": [
    "# 시뮬레이션 라이브러리 불러오기\n",
    "import meep as mp\n",
    "import meep.adjoint as mpa\n",
    "import numpy as np\n",
    "from autograd import numpy as npa\n",
    "from autograd import tensor_jacobian_product, grad\n",
    "import nlopt\n",
    "from matplotlib import pyplot as plt\n",
    "from matplotlib.patches import Circle\n",
    "import pickle\n",
    "import math\n",
    "\n",
    "import sys\n",
    "# from meep.materials import SiN"
   ]
  },
  {
   "cell_type": "code",
   "execution_count": 2,
   "id": "6892b590-9003-4d4f-b966-34626f66155d",
   "metadata": {},
   "outputs": [],
   "source": [
    "# 물질 설정 및 Refractive Index 설정\n",
    "mp.verbosity(0)\n",
    "um_scale = 2\n",
    "\n",
    "Air = mp.Medium(index=1.0)\n",
    "SiN = mp.Medium(epsilon=4)\n",
    "SiO2 = mp.Medium(epsilon=2.1)\n",
    "SiPD = mp.Medium(epsilon=5)"
   ]
  },
  {
   "cell_type": "code",
   "execution_count": 3,
   "id": "f83df1c9-25bf-4279-9fd8-02aa897f6421",
   "metadata": {},
   "outputs": [],
   "source": [
    "resolution = 25 # 해상도\n",
    "design_region_width = 2 # 디자인 영역 x\n",
    "design_region_width_y = 2 # 디자인 영역 y\n",
    "design_region_height = 4 # 디자인 영역 높이 z\n",
    "pml_size = 1.0 # PML 영역 크기"
   ]
  },
  {
   "cell_type": "code",
   "execution_count": 4,
   "id": "410f445f-0f45-4fe5-a2dc-f33d0fda1cfe",
   "metadata": {},
   "outputs": [],
   "source": [
    "structure_weight = np.loadtxt('lastdesign.txt')"
   ]
  },
  {
   "cell_type": "code",
   "execution_count": 5,
   "id": "8c8864a8-4d69-45d3-a9df-321ed471a7eb",
   "metadata": {},
   "outputs": [],
   "source": [
    "# 시뮬레이션 공간 설정\n",
    "Sx = design_region_width\n",
    "Sy = design_region_width_y\n",
    "Sz = 2 * pml_size + design_region_height + 2\n",
    "cell_size = mp.Vector3(Sx, Sy, Sz)"
   ]
  },
  {
   "cell_type": "code",
   "execution_count": 6,
   "id": "8e468b6f-be83-4948-90cf-65e98f1df1a8",
   "metadata": {},
   "outputs": [],
   "source": [
    "# 파장, 주파수 설정\n",
    "wavelengths = np.array([0.43*um_scale, 0.45*um_scale, 0.47*um_scale, 0.53*um_scale, 0.55*um_scale, 0.57*um_scale, 0.62*um_scale, 0.65*um_scale, 0.68*um_scale])\n",
    "frequencies = 1/wavelengths\n",
    "nf = len(frequencies) # number of frequencies"
   ]
  },
  {
   "cell_type": "code",
   "execution_count": 7,
   "id": "4e3d8034-135c-470b-aac8-f8aeb9271f13",
   "metadata": {},
   "outputs": [],
   "source": [
    "minimum_length = 0.05  # minimum length scale (microns)\n",
    "eta_i = 0.5  # blueprint (or intermediate) design field thresholding point (between 0 and 1)\n",
    "eta_e = 0.55  # erosion design field thresholding point (between 0 and 1)\n",
    "eta_d = 1 - eta_e  # dilation design field thresholding point (between 0 and 1)\n",
    "filter_radius = mpa.get_conic_radius_from_eta_e(minimum_length, eta_e)\n",
    "design_region_resolution = int(resolution)"
   ]
  },
  {
   "cell_type": "code",
   "execution_count": 8,
   "id": "cfb20166-a1d1-4a47-893e-6462308cdd5d",
   "metadata": {},
   "outputs": [],
   "source": [
    "pml_layers = [mp.PML(thickness = pml_size, direction = mp.Z)]"
   ]
  },
  {
   "cell_type": "code",
   "execution_count": 9,
   "id": "4cff12b8-38cf-4be6-9e9b-bd8c258ae204",
   "metadata": {},
   "outputs": [],
   "source": [
    "width = 0.1\n",
    "fcen_red0 = frequencies[6]\n",
    "fwidth_red0 = width * fcen_red0\n",
    "fcen_red1 = frequencies[7]\n",
    "fwidth_red1 = width * fcen_red1\n",
    "fcen_red2 = frequencies[8]\n",
    "fwidth_red2 = width * fcen_red2\n",
    "\n",
    "fcen_green0 = frequencies[3]\n",
    "fwidth_green0 = width * fcen_green0\n",
    "fcen_green1 = frequencies[4]\n",
    "fwidth_green1 = width * fcen_green1\n",
    "fcen_green2 = frequencies[5]\n",
    "fwidth_green2 = width * fcen_green2\n",
    "\n",
    "fcen_blue0 = frequencies[0]\n",
    "fwidth_blue0 = width * fcen_blue0\n",
    "fcen_blue1 = frequencies[1]\n",
    "fwidth_blue1 = width * fcen_blue1\n",
    "fcen_blue2 = frequencies[2]\n",
    "fwidth_blue2 = width * fcen_blue2"
   ]
  },
  {
   "cell_type": "code",
   "execution_count": 10,
   "id": "daa2f8aa-b8df-44a2-bec7-7190537f9f80",
   "metadata": {},
   "outputs": [],
   "source": [
    "source_center = [0, 0, Sz / 2 - pml_size - 0.5] # Source 위치\n",
    "source_size = mp.Vector3(Sx, Sy, 0)\n",
    "\n",
    "src_0 = mp.GaussianSource(frequency=fcen_red2, fwidth=fwidth_red2, is_integrated=True)\n",
    "src_1 = mp.GaussianSource(frequency=fcen_red1, fwidth=fwidth_red1, is_integrated=True)\n",
    "src_2 = mp.GaussianSource(frequency=fcen_red0, fwidth=fwidth_red0, is_integrated=True)\n",
    "src_3 = mp.GaussianSource(frequency=fcen_green2, fwidth=fwidth_green2, is_integrated=True)\n",
    "src_4 = mp.GaussianSource(frequency=fcen_green1, fwidth=fwidth_green1, is_integrated=True)\n",
    "src_5 = mp.GaussianSource(frequency=fcen_green0, fwidth=fwidth_green0, is_integrated=True)\n",
    "src_6 = mp.GaussianSource(frequency=fcen_blue2, fwidth=fwidth_blue2, is_integrated=True)\n",
    "src_7 = mp.GaussianSource(frequency=fcen_blue1, fwidth=fwidth_blue1, is_integrated=True)\n",
    "src_8 = mp.GaussianSource(frequency=fcen_blue0, fwidth=fwidth_blue0, is_integrated=True)\n",
    "\n",
    "source = [mp.Source(src_0, component=mp.Ey, size=source_size, center=source_center),\n",
    "          mp.Source(src_1, component=mp.Ey, size=source_size, center=source_center),\n",
    "          mp.Source(src_2, component=mp.Ey, size=source_size, center=source_center),\n",
    "          mp.Source(src_3, component=mp.Ey, size=source_size, center=source_center),\n",
    "          mp.Source(src_4, component=mp.Ey, size=source_size, center=source_center),\n",
    "          mp.Source(src_5, component=mp.Ey, size=source_size, center=source_center),\n",
    "          mp.Source(src_6, component=mp.Ey, size=source_size, center=source_center),\n",
    "          mp.Source(src_7, component=mp.Ey, size=source_size, center=source_center),\n",
    "          mp.Source(src_8, component=mp.Ey, size=source_size, center=source_center)]\n"
   ]
  },
  {
   "cell_type": "code",
   "execution_count": 11,
   "id": "53a654fb-a65e-4e21-8a79-7f785c3b975e",
   "metadata": {},
   "outputs": [],
   "source": [
    "Nx = int(round(design_region_resolution * design_region_width)) + 1\n",
    "Ny = int(round(design_region_resolution * design_region_width_y)) + 1\n",
    "Nz = int(round(design_region_resolution * design_region_height)) + 1\n",
    "\n",
    "design_variables = mp.MaterialGrid(mp.Vector3(Nx, Ny, Nz), SiO2, SiN, grid_type=\"U_MEAN\")\n",
    "\n"
   ]
  },
  {
   "cell_type": "code",
   "execution_count": 12,
   "id": "ffc1b332-a8b5-44fc-b059-8a9b233e5805",
   "metadata": {},
   "outputs": [],
   "source": [
    "design_variables.update_weights(structure_weight)"
   ]
  },
  {
   "cell_type": "code",
   "execution_count": 13,
   "id": "0746cd74-053e-44df-8bb3-02dc249d4a7b",
   "metadata": {},
   "outputs": [],
   "source": [
    "design_region = mpa.DesignRegion(\n",
    "    design_variables,\n",
    "    volume=mp.Volume(\n",
    "        center=mp.Vector3(0, 0, 0),\n",
    "        size=mp.Vector3(design_region_width, design_region_width_y, design_region_height),\n",
    "    ),\n",
    ")\n"
   ]
  },
  {
   "cell_type": "code",
   "execution_count": 14,
   "id": "e18568da-f034-45fe-a6d4-6baa82a354b6",
   "metadata": {},
   "outputs": [],
   "source": [
    "geometry = [\n",
    "    mp.Block(\n",
    "        center=design_region.center, size=design_region.size, material=design_variables\n",
    "    ),\n",
    "    mp.Block(\n",
    "        center=mp.Vector3(0, 0, -3), size=mp.Vector3(Sx, Sy, 2), material=SiPD\n",
    "    ),\n",
    "]"
   ]
  },
  {
   "cell_type": "code",
   "execution_count": 15,
   "id": "598222e6-e208-45e0-a441-dd8629c8a549",
   "metadata": {},
   "outputs": [],
   "source": [
    "sim = mp.Simulation(\n",
    "    cell_size=cell_size, \n",
    "    # boundary_layers=pml_layers,\n",
    "    geometry=geometry,\n",
    "    # sources=source,\n",
    "    default_material=Air, # 빈공간\n",
    "    resolution=resolution,\n",
    "    # extra_materials=[SiN],\n",
    "    k_point = mp.Vector3(0,0,0)\n",
    ")\n",
    "\n",
    "# 모니터 위치와 크기 설정 (focal point)\n",
    "monitor_position_0, monitor_size_0 = mp.Vector3(-Sx/4, Sy/4, -Sz/2 + pml_size + 0.5/resolution), mp.Vector3(0.01,0.01,0) \n",
    "monitor_position_1, monitor_size_1 = mp.Vector3(-Sx/4, -Sy/4, -Sz/2 + pml_size + 0.5/resolution), mp.Vector3(0.01,0.01,0) \n",
    "monitor_position_2, monitor_size_2 = mp.Vector3(Sx/4, -Sy/4, -Sz/2 + pml_size + 0.5/resolution), mp.Vector3(0.01,0.01,0) \n",
    "monitor_position_3, monitor_size_3 = mp.Vector3(Sx/4, Sy/4, -Sz/2 + pml_size + 0.5/resolution), mp.Vector3(0.01,0.01,0) \n",
    "\n",
    "# FourierFields를 통해 monitor_position에서 monitor_size만큼의 영역에 대한 Fourier transform을 구함\n",
    "FourierFields_0 = mpa.FourierFields(sim,mp.Volume(center=monitor_position_0,size=monitor_size_0),mp.Ey,yee_grid=True)\n",
    "FourierFields_1 = mpa.FourierFields(sim,mp.Volume(center=monitor_position_0,size=monitor_size_0),mp.Ey,yee_grid=True)\n",
    "FourierFields_2 = mpa.FourierFields(sim,mp.Volume(center=monitor_position_0,size=monitor_size_0),mp.Ey,yee_grid=True)\n",
    "FourierFields_3 = mpa.FourierFields(sim,mp.Volume(center=monitor_position_1,size=monitor_size_1),mp.Ey,yee_grid=True)\n",
    "FourierFields_4 = mpa.FourierFields(sim,mp.Volume(center=monitor_position_1,size=monitor_size_1),mp.Ey,yee_grid=True)\n",
    "FourierFields_5 = mpa.FourierFields(sim,mp.Volume(center=monitor_position_1,size=monitor_size_1),mp.Ey,yee_grid=True)\n",
    "FourierFields_6 = mpa.FourierFields(sim,mp.Volume(center=monitor_position_2,size=monitor_size_2),mp.Ey,yee_grid=True)\n",
    "FourierFields_7 = mpa.FourierFields(sim,mp.Volume(center=monitor_position_2,size=monitor_size_2),mp.Ey,yee_grid=True)\n",
    "FourierFields_8 = mpa.FourierFields(sim,mp.Volume(center=monitor_position_2,size=monitor_size_2),mp.Ey,yee_grid=True)\n",
    "FourierFields_9 = mpa.FourierFields(sim,mp.Volume(center=monitor_position_3,size=monitor_size_3),mp.Ey,yee_grid=True)\n",
    "FourierFields_10 = mpa.FourierFields(sim,mp.Volume(center=monitor_position_3,size=monitor_size_3),mp.Ey,yee_grid=True)\n",
    "FourierFields_11 = mpa.FourierFields(sim,mp.Volume(center=monitor_position_3,size=monitor_size_3),mp.Ey,yee_grid=True)\n",
    "ob_list = [FourierFields_0, FourierFields_1, FourierFields_2,FourierFields_3, FourierFields_4, FourierFields_5 ,FourierFields_6, FourierFields_7, FourierFields_8,FourierFields_9, FourierFields_10, FourierFields_11]\n",
    "\n",
    "\n",
    "# J : Objective function\n",
    "# FourierFields가 측정한 필드, 모니터의 중심에서 Ez 구성요소의 절댓값을 제곱한 값을 취한 후 평균을 계산하여 평균 강도를 계산\n",
    "def J_0(fields_0, fields_1, fields_2,fields_3, fields_4, fields_5,fields_6, fields_7, fields_8,fields_9, fields_10, fields_11):\n",
    "    return npa.mean(npa.abs(fields_0[6,:]) ** 2) + npa.mean(npa.abs(fields_1[7,:]) ** 2) + npa.mean(npa.abs(fields_2[8,:]) ** 2) + npa.mean(npa.abs(fields_3[3,:]) ** 2) + npa.mean(npa.abs(fields_4[4,:]) ** 2) + npa.mean(npa.abs(fields_5[5,:]) ** 2) + npa.mean(npa.abs(fields_6[0,:]) ** 2) + npa.mean(npa.abs(fields_7[1,:]) ** 2) + npa.mean(npa.abs(fields_8[2,:]) ** 2) + npa.mean(npa.abs(fields_9[3,:]) ** 2) + npa.mean(npa.abs(fields_10[4,:]) ** 2) + npa.mean(npa.abs(fields_11[5,:]) ** 2)\n",
    "\n",
    "opt = mpa.OptimizationProblem(\n",
    "    simulation=sim,\n",
    "    objective_functions=[J_0],\n",
    "    objective_arguments=ob_list,\n",
    "    design_regions=[design_region],\n",
    "    frequencies=frequencies,\n",
    "    decay_by=1e-5\n",
    ")\n"
   ]
  },
  {
   "cell_type": "code",
   "execution_count": 16,
   "id": "251285d8-9438-4cde-9c52-475c87ab9c77",
   "metadata": {},
   "outputs": [
    {
     "name": "stderr",
     "output_type": "stream",
     "text": [
      "/home/user/anaconda3/envs/mp/lib/python3.11/site-packages/meep/visualization.py:271: UserWarning: The specified user volume is larger than the simulation domain and has been truncated.\n",
      "  warnings.warn(\n"
     ]
    },
    {
     "data": {
      "image/png": "[encoded data removed]",
      "text/plain": [
       "<Figure size 640x480 with 1 Axes>"
      ]
     },
     "metadata": {},
     "output_type": "display_data"
    }
   ],
   "source": [
    "opt.plot2D(False, output_plane = mp.Volume(size = (np.inf, 0, np.inf), center = (0,0,0)))\n",
    "plt.savefig(\"Lastdesignxz.png\")"
   ]
  },
  {
   "cell_type": "code",
   "execution_count": 17,
   "id": "dbd1871a-69d1-408f-9043-abf4e1cd8367",
   "metadata": {},
   "outputs": [
    {
     "data": {
      "image/png": "[encoded data removed]",
      "text/plain": [
       "<Figure size 640x480 with 1 Axes>"
      ]
     },
     "metadata": {},
     "output_type": "display_data"
    }
   ],
   "source": [
    "opt.plot2D(False, output_plane = mp.Volume(size = (np.inf, np.inf, 0), center = (0,0,2)))\n",
    "plt.savefig(\"Lastdesignxy.png\")"
   ]
  },
  {
   "cell_type": "code",
   "execution_count": 18,
   "id": "895946f2-4aa4-4ac3-a19b-0fa04300dd62",
   "metadata": {},
   "outputs": [],
   "source": [
    "rot_angle = np.radians(6)"
   ]
  },
  {
   "cell_type": "code",
   "execution_count": 19,
   "id": "657854c0-fe6e-4849-a8cf-63c94afc807b",
   "metadata": {},
   "outputs": [],
   "source": [
    "k_point = mp.Vector3(z = -1).rotate(mp.Vector3(y=1), rot_angle) # fsrc*n 의 크기를 갖는 vector를 +z축에서 rot_angle 만큼 기울게만든 것                                                                    "
   ]
  },
  {
   "cell_type": "code",
   "execution_count": 20,
   "id": "ef4afec6-6c2e-4f23-9961-a6aabf8f42f3",
   "metadata": {},
   "outputs": [],
   "source": [
    "opt.sim = mp.Simulation(\n",
    "    cell_size=mp.Vector3(Sx, Sy, Sz),\n",
    "    boundary_layers=pml_layers,\n",
    "    geometry=geometry,\n",
    "    sources=source,\n",
    "    default_material=Air,\n",
    "    resolution=resolution,\n",
    "    k_point = k_point,\n",
    ")\n",
    "src = mp.GaussianSource(frequency=frequencies[0], fwidth=fwidth_blue0, is_integrated=True)\n",
    "source = [mp.EigenModeSource(\n",
    "    src=src,\n",
    "    center=source_center,\n",
    "    size=source_size,\n",
    "    direction=mp.AUTOMATIC if rot_angle == 0 else mp.NO_DIRECTION,\n",
    "    eig_kpoint=k_point,\n",
    "    eig_band=1,\n",
    "    eig_parity=mp.ODD_Y,\n",
    "    eig_match_freq=True,\n",
    "),\n",
    " ]\n",
    "opt.sim.change_sources(source)\n",
    "\n",
    "plt.figure()\n",
    "\n",
    "tran_total0 = opt.sim.add_dft_fields([mp.Ey], frequencies[0], 0 , 1, center = (0,0,-2 - 0.5/resolution), size=mp.Vector3(Sx, Sy, 0), yee_grid=True)\n",
    "\n",
    "plt.title('wavelength = '+str(wavelengths[0]/um_scale))\n",
    "pt = mp.Vector3(0, 0, -2 - 0.5/resolution) #pt는 transmitted flux region과 동일\n",
    "\n",
    "opt.sim.run(until_after_sources=mp.stop_when_fields_decayed(10,mp.Ey,pt,1e-3))\n",
    "total_flux0 = np.abs(opt.sim.get_dft_array(tran_total0, mp.Ey, 0))**2\n",
    "total_flux0 = (total_flux0 / total_flux0.max(axis=0).max(axis=0))\n",
    "plt.imshow(npa.rot90(total_flux0.reshape(Sx* resolution+1, Sy* resolution+1 + 1)),cmap=\"Blues\")\n",
    "#plt.fill([40, 40, 80, 80], [80, 40, 40, 80], color='lightblue', alpha=0.5)\n",
    "#plt.fill([40, 40, 80, 80], [40, 0, 0, 40], color='lightgreen', alpha=0.5)\n",
    "#plt.fill([0, 0, 40, 40], [40, 0, 0, 40], color='lightcoral', alpha=0.5)\n",
    "#plt.fill([0, 0, 40, 40], [80, 40, 40, 80], color='lightgreen', alpha=0.5)\n",
    "plt.colorbar()\n",
    "plt.savefig(\"Intensityplotf0\" + str(rot_angle) + \".png\")\n",
    "plt.cla()   # clear the current axes\n",
    "plt.clf()   # clear the current figure\n",
    "plt.close() # closes the current figure"
   ]
  },
  {
   "cell_type": "code",
   "execution_count": 21,
   "id": "5b29a6cd-ba31-49ee-9c11-21cba1e9290d",
   "metadata": {},
   "outputs": [],
   "source": [
    "opt.sim = mp.Simulation(\n",
    "    cell_size=mp.Vector3(Sx, Sy, Sz),\n",
    "    boundary_layers=pml_layers,\n",
    "    geometry=geometry,\n",
    "    sources=source,\n",
    "    default_material=Air,\n",
    "    resolution=resolution,\n",
    "    # extra_materials=[SiN],\n",
    "    k_point = k_point,\n",
    ")\n",
    "src = mp.GaussianSource(frequency=frequencies[1], fwidth=fwidth_blue1, is_integrated=True)\n",
    "source = [mp.EigenModeSource(\n",
    "    src=src,\n",
    "    center=source_center,\n",
    "    size=source_size,\n",
    "    direction=mp.AUTOMATIC if rot_angle == 0 else mp.NO_DIRECTION,\n",
    "    eig_kpoint=k_point,\n",
    "    eig_band=1,\n",
    "    eig_parity=mp.ODD_Y,\n",
    "    eig_match_freq=True,\n",
    "),\n",
    " ]\n",
    "opt.sim.change_sources(source)\n",
    "\n",
    "plt.figure()\n",
    "\n",
    "tran_total1 = opt.sim.add_dft_fields([mp.Ey], frequencies[1], 0 , 1, center = (0,0,-2 - 0.5/resolution), size=mp.Vector3(Sx, Sy, 0), yee_grid=True)\n",
    "\n",
    "plt.title('wavelength = '+str(wavelengths[1]/um_scale))\n",
    "pt = mp.Vector3(0, 0, -2 - 0.5/resolution) #pt는 transmitted flux region과 동일\n",
    "\n",
    "opt.sim.run(until_after_sources=mp.stop_when_fields_decayed(10,mp.Ey,pt,1e-3))\n",
    "total_flux1 = np.abs(opt.sim.get_dft_array(tran_total1, mp.Ey, 0))**2\n",
    "total_flux1 = (total_flux1 / total_flux1.max(axis=0).max(axis=0))\n",
    "plt.imshow(npa.rot90(total_flux1.reshape(Sx* resolution+1, Sy* resolution+1 + 1)),cmap=\"Blues\")\n",
    "#plt.fill([40, 40, 80, 80], [80, 40, 40, 80], color='lightblue', alpha=0.5)\n",
    "#plt.fill([40, 40, 80, 80], [40, 0, 0, 40], color='lightgreen', alpha=0.5)\n",
    "#plt.fill([0, 0, 40, 40], [40, 0, 0, 40], color='lightcoral', alpha=0.5)\n",
    "#plt.fill([0, 0, 40, 40], [80, 40, 40, 80], color='lightgreen', alpha=0.5)\n",
    "plt.colorbar()\n",
    "plt.savefig(\"Intensityplotf1\" + str(rot_angle) + \".png\")\n",
    "plt.cla()   # clear the current axes\n",
    "plt.clf()   # clear the current figure\n",
    "plt.close() # closes the current figure"
   ]
  },
  {
   "cell_type": "code",
   "execution_count": 22,
   "id": "6abfc39f-8315-4ed4-a18c-8f5863f3f927",
   "metadata": {},
   "outputs": [],
   "source": [
    "opt.sim = mp.Simulation(\n",
    "    cell_size=mp.Vector3(Sx, Sy, Sz),\n",
    "    boundary_layers=pml_layers,\n",
    "    geometry=geometry,\n",
    "    sources=source,\n",
    "    default_material=Air,\n",
    "    resolution=resolution,\n",
    "    # extra_materials=[SiN],\n",
    "    k_point = k_point,\n",
    ")\n",
    "src = mp.GaussianSource(frequency=frequencies[2], fwidth=fwidth_blue2, is_integrated=True)\n",
    "source = [mp.EigenModeSource(\n",
    "    src=src,\n",
    "    center=source_center,\n",
    "    size=source_size,\n",
    "    direction=mp.AUTOMATIC if rot_angle == 0 else mp.NO_DIRECTION,\n",
    "    eig_kpoint=k_point,\n",
    "    eig_band=1,\n",
    "    eig_parity=mp.ODD_Y,\n",
    "    eig_match_freq=True,\n",
    "),\n",
    " ]\n",
    "opt.sim.change_sources(source)\n",
    "\n",
    "plt.figure()\n",
    "\n",
    "tran_total2 = opt.sim.add_dft_fields([mp.Ey], frequencies[2], 0 , 1, center = (0,0,-2 - 0.5/resolution), size=mp.Vector3(Sx, Sy, 0), yee_grid=True)\n",
    "\n",
    "plt.title('wavelength = '+str(wavelengths[2]/um_scale))\n",
    "pt = mp.Vector3(0, 0, -2 - 0.5/resolution) #pt는 transmitted flux region과 동일\n",
    "\n",
    "opt.sim.run(until_after_sources=mp.stop_when_fields_decayed(10,mp.Ey,pt,1e-3))\n",
    "total_flux2 = np.abs(opt.sim.get_dft_array(tran_total2, mp.Ey, 0))**2\n",
    "total_flux2 = (total_flux2 / total_flux2.max(axis=0).max(axis=0))\n",
    "plt.imshow(npa.rot90(total_flux2.reshape(Sx* resolution+1, Sy* resolution+1 + 1)),cmap=\"Blues\")\n",
    "#plt.fill([40, 40, 80, 80], [80, 40, 40, 80], color='lightblue', alpha=0.5)\n",
    "#plt.fill([40, 40, 80, 80], [40, 0, 0, 40], color='lightgreen', alpha=0.5)\n",
    "#plt.fill([0, 0, 40, 40], [40, 0, 0, 40], color='lightcoral', alpha=0.5)\n",
    "#plt.fill([0, 0, 40, 40], [80, 40, 40, 80], color='lightgreen', alpha=0.5)\n",
    "plt.colorbar()\n",
    "plt.savefig(\"Intensityplotf2\" + str(rot_angle) + \".png\")\n",
    "plt.cla()   # clear the current axes\n",
    "plt.clf()   # clear the current figure\n",
    "plt.close() # closes the current figure"
   ]
  },
  {
   "cell_type": "code",
   "execution_count": 23,
   "id": "29047633-fe5c-42b6-9f45-0b61efa1624c",
   "metadata": {},
   "outputs": [],
   "source": [
    "opt.sim = mp.Simulation(\n",
    "    cell_size=mp.Vector3(Sx, Sy, Sz),\n",
    "    boundary_layers=pml_layers,\n",
    "    geometry=geometry,\n",
    "    sources=source,\n",
    "    default_material=Air,\n",
    "    resolution=resolution,\n",
    "    # extra_materials=[SiN],\n",
    "    k_point = k_point,\n",
    ")\n",
    "src = mp.GaussianSource(frequency=frequencies[3], fwidth=fwidth_green0, is_integrated=True)\n",
    "source = [mp.EigenModeSource(\n",
    "    src=src,\n",
    "    center=source_center,\n",
    "    size=source_size,\n",
    "    direction=mp.AUTOMATIC if rot_angle == 0 else mp.NO_DIRECTION,\n",
    "    eig_kpoint=k_point,\n",
    "    eig_band=1,\n",
    "    eig_parity=mp.ODD_Y,\n",
    "    eig_match_freq=True,\n",
    "),\n",
    " ]\n",
    "opt.sim.change_sources(source)\n",
    "\n",
    "plt.figure()\n",
    "\n",
    "tran_total3 = opt.sim.add_dft_fields([mp.Ey], frequencies[3], 0 , 1, center = (0,0,-2 - 0.5/resolution), size=mp.Vector3(Sx, Sy, 0), yee_grid=True)\n",
    "\n",
    "plt.title('wavelength = '+str(wavelengths[3]/um_scale))\n",
    "pt = mp.Vector3(0, 0, -2 - 0.5/resolution) #pt는 transmitted flux region과 동일\n",
    "\n",
    "opt.sim.run(until_after_sources=mp.stop_when_fields_decayed(10,mp.Ey,pt,1e-3))\n",
    "total_flux3 = np.abs(opt.sim.get_dft_array(tran_total3, mp.Ey, 0))**2\n",
    "total_flux3 = (total_flux3 / total_flux3.max(axis=0).max(axis=0))\n",
    "plt.imshow(npa.rot90(total_flux3.reshape(Sx* resolution+1, Sy* resolution+1 + 1)),cmap=\"Greens\")\n",
    "plt.colorbar()\n",
    "plt.savefig(\"Intensityplotf3\" + str(rot_angle) + \".png\")\n",
    "plt.cla()   # clear the current axes\n",
    "plt.clf()   # clear the current figure\n",
    "plt.close() # closes the current figure"
   ]
  },
  {
   "cell_type": "code",
   "execution_count": 24,
   "id": "d403d28b-d0e8-44ff-bf19-21beaa1184d1",
   "metadata": {},
   "outputs": [],
   "source": [
    "opt.sim = mp.Simulation(\n",
    "    cell_size=mp.Vector3(Sx, Sy, Sz),\n",
    "    boundary_layers=pml_layers,\n",
    "    geometry=geometry,\n",
    "    sources=source,\n",
    "    default_material=Air,\n",
    "    resolution=resolution,\n",
    "    # extra_materials=[SiN],\n",
    "    k_point = k_point,\n",
    ")\n",
    "src = mp.GaussianSource(frequency=frequencies[4], fwidth=fwidth_green1, is_integrated=True)\n",
    "source = [mp.EigenModeSource(\n",
    "    src=src,\n",
    "    center=source_center,\n",
    "    size=source_size,\n",
    "    direction=mp.AUTOMATIC if rot_angle == 0 else mp.NO_DIRECTION,\n",
    "    eig_kpoint=k_point,\n",
    "    eig_band=1,\n",
    "    eig_parity=mp.ODD_Y,\n",
    "    eig_match_freq=True,\n",
    "),\n",
    " ]\n",
    "opt.sim.change_sources(source)\n",
    "\n",
    "plt.figure()\n",
    "\n",
    "tran_total4 = opt.sim.add_dft_fields([mp.Ey], frequencies[4], 0 , 1, center = (0,0,-2 - 0.5/resolution), size=mp.Vector3(Sx, Sy, 0), yee_grid=True)\n",
    "\n",
    "plt.title('wavelength = '+str(wavelengths[4]/um_scale))\n",
    "pt = mp.Vector3(0, 0, -2 - 0.5/resolution) #pt는 transmitted flux region과 동일\n",
    "\n",
    "opt.sim.run(until_after_sources=mp.stop_when_fields_decayed(10,mp.Ey,pt,1e-3))\n",
    "total_flux4 = np.abs(opt.sim.get_dft_array(tran_total4, mp.Ey, 0))**2\n",
    "total_flux4 = (total_flux4 / total_flux4.max(axis=0).max(axis=0))\n",
    "plt.imshow(npa.rot90(total_flux4.reshape(Sx* resolution+1, Sy* resolution+1 + 1)),cmap=\"Greens\")\n",
    "plt.colorbar()\n",
    "plt.savefig(\"Intensityplotf4\" + str(rot_angle) + \".png\")\n",
    "plt.cla()   # clear the current axes\n",
    "plt.clf()   # clear the current figure\n",
    "plt.close() # closes the current figure"
   ]
  },
  {
   "cell_type": "code",
   "execution_count": 25,
   "id": "cc13a276-1ad8-4b34-b795-67c782ac78de",
   "metadata": {},
   "outputs": [],
   "source": [
    "opt.sim = mp.Simulation(\n",
    "    cell_size=mp.Vector3(Sx, Sy, Sz),\n",
    "    boundary_layers=pml_layers,\n",
    "    geometry=geometry,\n",
    "    sources=source,\n",
    "    default_material=Air,\n",
    "    resolution=resolution,\n",
    "    # extra_materials=[SiN],\n",
    "    k_point = k_point,\n",
    ")\n",
    "src = mp.GaussianSource(frequency=frequencies[5], fwidth=fwidth_green2, is_integrated=True)\n",
    "source = [mp.EigenModeSource(\n",
    "    src=src,\n",
    "    center=source_center,\n",
    "    size=source_size,\n",
    "    direction=mp.AUTOMATIC if rot_angle == 0 else mp.NO_DIRECTION,\n",
    "    eig_kpoint=k_point,\n",
    "    eig_band=1,\n",
    "    eig_parity=mp.ODD_Y,\n",
    "    eig_match_freq=True,\n",
    "),\n",
    " ]\n",
    "opt.sim.change_sources(source)\n",
    "\n",
    "plt.figure()\n",
    "\n",
    "tran_total5 = opt.sim.add_dft_fields([mp.Ey], frequencies[5], 0 , 1, center = (0,0,-2 - 0.5/resolution), size=mp.Vector3(Sx, Sy, 0), yee_grid=True)\n",
    "\n",
    "plt.title('wavelength = '+str(wavelengths[5]/um_scale))\n",
    "pt = mp.Vector3(0, 0, -2 - 0.5/resolution) #pt는 transmitted flux region과 동일\n",
    "\n",
    "opt.sim.run(until_after_sources=mp.stop_when_fields_decayed(10,mp.Ey,pt,1e-3))\n",
    "total_flux5 = np.abs(opt.sim.get_dft_array(tran_total5, mp.Ey, 0))**2\n",
    "total_flux5 = (total_flux5 / total_flux5.max(axis=0).max(axis=0))\n",
    "plt.imshow(npa.rot90(total_flux5.reshape(Sx* resolution+1, Sy* resolution+1 + 1)),cmap=\"Greens\")\n",
    "plt.colorbar()\n",
    "plt.savefig(\"Intensityplotf5\" + str(rot_angle) + \".png\")\n",
    "plt.cla()   # clear the current axes\n",
    "plt.clf()   # clear the current figure\n",
    "plt.close() # closes the current figure"
   ]
  },
  {
   "cell_type": "code",
   "execution_count": 26,
   "id": "7f6e2980-b75d-4636-a266-153ba8403b9b",
   "metadata": {},
   "outputs": [],
   "source": [
    "opt.sim = mp.Simulation(\n",
    "    cell_size=mp.Vector3(Sx, Sy, Sz),\n",
    "    boundary_layers=pml_layers,\n",
    "    geometry=geometry,\n",
    "    sources=source,\n",
    "    default_material=Air,\n",
    "    resolution=resolution,\n",
    "    # extra_materials=[SiN],\n",
    "    k_point = k_point,\n",
    ")\n",
    "\n",
    "\n",
    "src = mp.GaussianSource(frequency=frequencies[6], fwidth=fwidth_red0, is_integrated=True)\n",
    "source = [mp.EigenModeSource(\n",
    "    src=src,\n",
    "    center=source_center,\n",
    "    size=source_size,\n",
    "    direction=mp.AUTOMATIC if rot_angle == 0 else mp.NO_DIRECTION,\n",
    "    eig_kpoint=k_point,\n",
    "    eig_band=1,\n",
    "    eig_parity=mp.ODD_Y,\n",
    "    eig_match_freq=True,\n",
    "),\n",
    " ]\n",
    "opt.sim.change_sources(source)\n",
    "\n",
    "plt.figure()\n",
    "\n",
    "tran_total6 = opt.sim.add_dft_fields([mp.Ey], frequencies[6], 0 , 1, center = (0,0,-2 - 0.5/resolution), size=mp.Vector3(Sx, Sy, 0), yee_grid=True)\n",
    "\n",
    "\n",
    "plt.title('wavelength = '+str(wavelengths[6]/um_scale))\n",
    "pt = mp.Vector3(0, 0, -2 - 0.5/resolution) #pt는 transmitted flux region과 동일\n",
    "\n",
    "opt.sim.run(until_after_sources=mp.stop_when_fields_decayed(10,mp.Ey,pt,1e-3))\n",
    "total_flux6 = np.abs(opt.sim.get_dft_array(tran_total6, mp.Ey, 0))**2\n",
    "total_flux6 = (total_flux6 / total_flux6.max(axis=0).max(axis=0))\n",
    "plt.imshow(npa.rot90(total_flux6.reshape(Sx* resolution+1, Sy* resolution+1 + 1)),cmap=\"Reds\")\n",
    "plt.colorbar()\n",
    "plt.savefig(\"Intensityplotf6\" + str(rot_angle) + \".png\")\n",
    "plt.cla()   # clear the current axes\n",
    "plt.clf()   # clear the current figure\n",
    "plt.close() # closes the current figure"
   ]
  },
  {
   "cell_type": "code",
   "execution_count": 27,
   "id": "8a3a52bb-6ff4-40d6-9171-749ee0292c4b",
   "metadata": {},
   "outputs": [],
   "source": [
    "opt.sim = mp.Simulation(\n",
    "    cell_size=mp.Vector3(Sx, Sy, Sz),\n",
    "    boundary_layers=pml_layers,\n",
    "    geometry=geometry,\n",
    "    sources=source,\n",
    "    default_material=Air,\n",
    "    resolution=resolution,\n",
    "    # extra_materials=[SiN],\n",
    "    k_point = k_point,\n",
    ")\n",
    "\n",
    "\n",
    "src = mp.GaussianSource(frequency=frequencies[7], fwidth=fwidth_red1, is_integrated=True)\n",
    "source = [mp.EigenModeSource(\n",
    "    src=src,\n",
    "    center=source_center,\n",
    "    size=source_size,\n",
    "    direction=mp.AUTOMATIC if rot_angle == 0 else mp.NO_DIRECTION,\n",
    "    eig_kpoint=k_point,\n",
    "    eig_band=1,\n",
    "    eig_parity=mp.ODD_Y,\n",
    "    eig_match_freq=True,\n",
    "),\n",
    " ]\n",
    "opt.sim.change_sources(source)\n",
    "\n",
    "plt.figure()\n",
    "\n",
    "tran_total7 = opt.sim.add_dft_fields([mp.Ey], frequencies[7], 0 , 1, center = (0,0,-2 - 0.5/resolution), size=mp.Vector3(Sx, Sy, 0), yee_grid=True)\n",
    "\n",
    "\n",
    "plt.title('wavelength = '+str(wavelengths[7]/um_scale))\n",
    "pt = mp.Vector3(0, 0, -2 - 0.5/resolution) #pt는 transmitted flux region과 동일\n",
    "\n",
    "opt.sim.run(until_after_sources=mp.stop_when_fields_decayed(10,mp.Ey,pt,1e-3))\n",
    "total_flux7 = np.abs(opt.sim.get_dft_array(tran_total7, mp.Ey, 0))**2\n",
    "total_flux7 = (total_flux7 / total_flux7.max(axis=0).max(axis=0))\n",
    "plt.imshow(npa.rot90(total_flux7.reshape(Sx* resolution+1, Sy* resolution+1 + 1)),cmap=\"Reds\")\n",
    "plt.colorbar()\n",
    "plt.savefig(\"Intensityplotf7\" + str(rot_angle) + \".png\")\n",
    "plt.cla()   # clear the current axes\n",
    "plt.clf()   # clear the current figure\n",
    "plt.close() # closes the current figure"
   ]
  },
  {
   "cell_type": "code",
   "execution_count": 28,
   "id": "17929442-1511-4c80-be55-f0cb55c4d14d",
   "metadata": {},
   "outputs": [],
   "source": [
    "opt.sim = mp.Simulation(\n",
    "    cell_size=mp.Vector3(Sx, Sy, Sz),\n",
    "    boundary_layers=pml_layers,\n",
    "    geometry=geometry,\n",
    "    sources=source,\n",
    "    default_material=Air,\n",
    "    resolution=resolution,\n",
    "    # extra_materials=[SiN],\n",
    "    k_point = k_point,\n",
    ")\n",
    "\n",
    "\n",
    "src = mp.GaussianSource(frequency=frequencies[8], fwidth=fwidth_red2, is_integrated=True)\n",
    "source = [mp.EigenModeSource(\n",
    "    src=src,\n",
    "    center=source_center,\n",
    "    size=source_size,\n",
    "    direction=mp.AUTOMATIC if rot_angle == 0 else mp.NO_DIRECTION,\n",
    "    eig_kpoint=k_point,\n",
    "    eig_band=1,\n",
    "    eig_parity=mp.ODD_Y,\n",
    "    eig_match_freq=True,\n",
    "),\n",
    " ]\n",
    "opt.sim.change_sources(source)\n",
    "\n",
    "plt.figure()\n",
    "\n",
    "tran_total8 = opt.sim.add_dft_fields([mp.Ey], frequencies[8], 0 , 1, center = (0,0,-2 - 0.5/resolution), size=mp.Vector3(Sx, Sy, 0), yee_grid=True)\n",
    "\n",
    "\n",
    "plt.title('wavelength = '+str(wavelengths[8]/um_scale))\n",
    "pt = mp.Vector3(0, 0, -2 - 0.5/resolution) #pt는 transmitted flux region과 동일\n",
    "\n",
    "opt.sim.run(until_after_sources=mp.stop_when_fields_decayed(10,mp.Ey,pt,1e-3))\n",
    "total_flux8 = np.abs(opt.sim.get_dft_array(tran_total8, mp.Ey, 0))**2\n",
    "total_flux8 = (total_flux8 / total_flux8.max(axis=0).max(axis=0))\n",
    "plt.imshow(npa.rot90(total_flux8.reshape(Sx* resolution+1, Sy* resolution+1 + 1)),cmap=\"Reds\")\n",
    "plt.colorbar()\n",
    "plt.savefig(\"Intensityplotf8\" + str(rot_angle) + \".png\")\n",
    "plt.cla()   # clear the current axes\n",
    "plt.clf()   # clear the current figure\n",
    "plt.close() # closes the current figure"
   ]
  },
  {
   "cell_type": "code",
   "execution_count": 29,
   "id": "add16b6c-d6fd-4704-ab30-4f7b3fa358de",
   "metadata": {},
   "outputs": [],
   "source": [
    "opt.sim.reset_meep()\n",
    "#simulation 1 : geometry가 없는 구조\n",
    "geometry_1 = [\n",
    "    mp.Block(\n",
    "        center=mp.Vector3(0, 0, 0), size=mp.Vector3(Sx, Sy, 0), material=Air\n",
    "    )\n",
    "]"
   ]
  },
  {
   "cell_type": "code",
   "execution_count": 30,
   "id": "a00c4bf3-0dcc-431f-83d9-045203234b85",
   "metadata": {},
   "outputs": [],
   "source": [
    "opt.sim = mp.Simulation(\n",
    "    cell_size=mp.Vector3(Sx, Sy, Sz),\n",
    "    boundary_layers=pml_layers,\n",
    "    geometry=geometry_1,\n",
    "    sources=source,\n",
    "    default_material=Air,\n",
    "    resolution=resolution,\n",
    "    # extra_materials=[SiN],\n",
    "    k_point = k_point,\n",
    ")\n",
    "fcen = (1/(0.40 * um_scale) + 1/(0.70 * um_scale))/2\n",
    "df = 1 /(0.40 * um_scale) - 1/(0.70 * um_scale)\n",
    "nfreq = 300\n",
    "\n",
    "src = mp.GaussianSource(frequency=fcen, fwidth=df, is_integrated=True)\n",
    "# print((frequencies[2]+frequencies[0])/2)\n",
    "source = [mp.EigenModeSource(\n",
    "    src=src,\n",
    "    center=source_center,\n",
    "    size=source_size,\n",
    "    direction=mp.AUTOMATIC if rot_angle == 0 else mp.NO_DIRECTION,\n",
    "    eig_kpoint=k_point,\n",
    "    eig_band=1,\n",
    "    eig_parity=mp.ODD_Y,\n",
    "    eig_match_freq=True,\n",
    "),\n",
    " ]\n",
    "opt.sim.change_sources(source)\n",
    "opt.plot2D(False, output_plane = mp.Volume(size = (np.inf, 0, np.inf), center = (0,0,0)))\n",
    "plt.cla()   # clear the current axes\n",
    "plt.clf()   # clear the current figure\n",
    "plt.close() # closes the current figure"
   ]
  },
  {
   "cell_type": "code",
   "execution_count": 31,
   "id": "1aa979c7-2262-4d58-b368-2a5e85e4246e",
   "metadata": {},
   "outputs": [],
   "source": [
    "#reflection moniter 설정\n",
    "\n",
    "refl_fr = mp.FluxRegion(\n",
    "    center=mp.Vector3(0, 0, Sz/2 - pml_size - 0.5/resolution), size=mp.Vector3(Sx, Sy, 0)\n",
    ") \n",
    "refl = opt.sim.add_flux(fcen, df, nfreq, refl_fr)\n",
    "\n",
    "#transmission moiniter 설정\n",
    "\n",
    "tran_t = mp.FluxRegion(\n",
    "    center=mp.Vector3(0, 0, -2 - 0.5/resolution), size=mp.Vector3(Sx, Sy, 0)\n",
    ")\n",
    "tran_total = opt.sim.add_flux(fcen, df, nfreq, tran_t)\n",
    "\n",
    "\n",
    "#pt는 transmitted flux region과 동일\n",
    "\n",
    "pt = mp.Vector3(0, 0, -2 - 0.5/resolution)\n",
    "\n",
    "\n",
    "#source가 끝난 후에 50 동안 계속 실행하며 component는 Ey, pt 설계의 끝에서 |Ey|^2의 값이 최대 값으로부터 1/1000 만큼 감쇠할때까지\n",
    "#추가적인 50 단위의 시간 실행 -> Fourier-transform 수렴예상\n",
    "\n",
    "opt.sim.run(until_after_sources=mp.stop_when_fields_decayed(10,mp.Ey,pt,1e-9))\n",
    "\n",
    "#데이터 저장\n",
    "\n",
    "straight_refl_data = opt.sim.get_flux_data(refl)\n",
    "total_flux = mp.get_fluxes(tran_total)\n",
    "flux_freqs = mp.get_flux_freqs(tran_total)"
   ]
  },
  {
   "cell_type": "code",
   "execution_count": 32,
   "id": "945f7de9-5b22-4902-b9ba-745013b6b208",
   "metadata": {},
   "outputs": [],
   "source": [
    "opt.sim.reset_meep()\n",
    "\n",
    "#simulation 2 : geometry가 있는 구조\n",
    "\n",
    "opt.sim = mp.Simulation(\n",
    "    cell_size=mp.Vector3(Sx, Sy, Sz),\n",
    "    boundary_layers=pml_layers,\n",
    "    geometry=geometry,\n",
    "    sources=source,\n",
    "    default_material=Air,\n",
    "    resolution=resolution,\n",
    "    # extra_materials=[SiN],\n",
    "    k_point = k_point,\n",
    ")\n",
    "\n",
    "fcen = (1/(0.40 * um_scale) + 1/(0.70 * um_scale))/2\n",
    "df = 1 /(0.40 * um_scale) - 1/(0.70 * um_scale)\n",
    "\n",
    "src = mp.GaussianSource(frequency=fcen, fwidth=df, is_integrated=True)\n",
    "# print((frequencies[2]+frequencies[0])/2)\n",
    "source = [mp.EigenModeSource(\n",
    "    src=src,\n",
    "    center=source_center,\n",
    "    size=source_size,\n",
    "    direction=mp.AUTOMATIC if rot_angle == 0 else mp.NO_DIRECTION,\n",
    "    eig_kpoint=k_point,\n",
    "    eig_band=1,\n",
    "    eig_parity=mp.ODD_Y,\n",
    "    eig_match_freq=True,\n",
    "),\n",
    " ]\n",
    "opt.sim.change_sources(source)\n",
    "opt.plot2D(False, output_plane = mp.Volume(size = (np.inf, 0, np.inf), center = (0,0,0)))\n",
    "plt.cla()   # clear the current axes\n",
    "plt.clf()   # clear the current figure\n",
    "plt.close() # closes the current figure"
   ]
  },
  {
   "cell_type": "code",
   "execution_count": 33,
   "id": "802bd821-75bf-4923-a522-fbe30e6747fb",
   "metadata": {},
   "outputs": [],
   "source": [
    "# 반사된 flux 구하기\n",
    "\n",
    "refl = opt.sim.add_flux(fcen, df, nfreq, refl_fr)\n",
    "\n",
    "# 투과된 flux 구하기\n",
    "\n",
    "tran_fr = mp.FluxRegion(\n",
    "    center=mp.Vector3(0, 0, -2 - 0.5/resolution), size=mp.Vector3(Sx, Sy, 0)\n",
    ")\n",
    "tran = opt.sim.add_flux(fcen, df, nfreq, tran_fr)\n",
    "\n",
    "#반사된 필드와 입사되는 필드를 구분하기 위해서 The Fourier-transformed incident fields을\n",
    "#the Fourier transforms of the scattered fields 에서 빼줍니다.\n",
    "\n",
    "opt.sim.load_minus_flux_data(refl, straight_refl_data)\n",
    "\n",
    "#각각 픽셀의 flux 구하기\n",
    "\n",
    "tran_r = mp.FluxRegion(\n",
    "    center=mp.Vector3(-Sx/4, Sy/4, -2 - 0.5/resolution), size=mp.Vector3(Sx/2, Sy/2, 0)\n",
    ")\n",
    "tran_g = mp.FluxRegion(\n",
    "    center=mp.Vector3(-Sx/4, -Sy/4, -2 - 0.5/resolution), size=mp.Vector3(Sx/2, Sy/2, 0)\n",
    ")\n",
    "tran_b = mp.FluxRegion(\n",
    "    center=mp.Vector3(Sx/4, -Sy/4, -2 - 0.5/resolution), size=mp.Vector3(Sx/2, Sy/2, 0)\n",
    ")\n",
    "tran_g0 = mp.FluxRegion(\n",
    "    center=mp.Vector3(Sx/4, Sy/4, -2 - 0.5/resolution), size=mp.Vector3(Sx/2, Sy/2, 0)\n",
    ")\n",
    "\n",
    "tran_red = opt.sim.add_flux(fcen, df, nfreq, tran_r)\n",
    "tran_green = opt.sim.add_flux(fcen, df, nfreq, tran_g)\n",
    "tran_blue = opt.sim.add_flux(fcen, df, nfreq, tran_b)\n",
    "tran_green0 = opt.sim.add_flux(fcen, df, nfreq, tran_g0)"
   ]
  },
  {
   "cell_type": "code",
   "execution_count": 34,
   "id": "b6e7dc68-4ee1-4a46-a9a6-b7c7a6ff4c91",
   "metadata": {},
   "outputs": [],
   "source": [
    "pt = mp.Vector3(0, 0, -2 - 0.5/resolution) #pt는 transmitted flux region과 동일\n",
    "\n",
    "opt.sim.run(until_after_sources=mp.stop_when_fields_decayed(10,mp.Ey,pt,1e-9))\n",
    "\n",
    "#데이터 저장\n",
    "\n",
    "bend_refl_flux = mp.get_fluxes(refl)\n",
    "bend_tran_flux = mp.get_fluxes(tran)\n",
    "\n",
    "red_flux = mp.get_fluxes(tran_red)\n",
    "green_flux = mp.get_fluxes(tran_green)\n",
    "blue_flux = mp.get_fluxes(tran_blue)\n",
    "green_flux0 = mp.get_fluxes(tran_green0)"
   ]
  },
  {
   "cell_type": "code",
   "execution_count": 35,
   "id": "3682a3f2-7d06-4714-b9e1-44f0e6095be0",
   "metadata": {},
   "outputs": [],
   "source": [
    "wl = []\n",
    "Tr = []\n",
    "Tg = []\n",
    "Tb = []\n",
    "Tg0 = []\n",
    "for i in range(nfreq):\n",
    "    wl = np.append(wl, 1 / (flux_freqs[i] * um_scale))\n",
    "    Tr = np.append(Tr, red_flux[i] / total_flux[i])\n",
    "    Tg = np.append(Tg, green_flux[i] / total_flux[i])\n",
    "    Tb = np.append(Tb, blue_flux[i] / total_flux[i])\n",
    "    Tg0 = np.append(Tg0, green_flux0[i] / total_flux[i])\n",
    "\n",
    "if mp.am_master():\n",
    "    plt.figure(dpi=150)\n",
    "    plt.plot(wl, Tr, \"r\", label=\"Redpixel\")\n",
    "    plt.plot(wl, Tg, \"g\", label=\"Greenpixel1\")\n",
    "    plt.plot(wl, Tb, \"b\", label=\"Bluepixel\")\n",
    "    plt.plot(wl, Tg0, color='limegreen', label=\"Greenpixel2\")\n",
    "    \n",
    "    plt.axis([0.40, 0.70, 0, 1])\n",
    "    plt.xlabel(\"wavelength (μm)\")\n",
    "    plt.ylabel(\"Transmittance\")\n",
    "    plt.fill([0.40, 0.40, 0.50, 0.50], [0.0, 1.0, 1.0, 0.0], color='lightblue', alpha=0.5)\n",
    "    plt.fill([0.50, 0.50, 0.60, 0.60], [0.0, 1.0, 1.0, 0.0], color='lightgreen', alpha=0.5)\n",
    "    plt.fill([0.60, 0.60, 0.70, 0.70], [0.0, 1.0, 1.0, 0.0], color='lightcoral', alpha=0.5)\n",
    "    plt.legend(loc=\"upper right\")\n",
    "    #plt.show()\n",
    "    plt.savefig(\"Transmission\" + str(rot_angle) + \".png\")\n",
    "    plt.cla()   # clear the current axes\n",
    "    plt.clf()   # clear the current figure\n",
    "    plt.close() # closes the current figure"
   ]
  },
  {
   "cell_type": "code",
   "execution_count": 36,
   "id": "077629f3-35a8-41ed-b1a8-7ba53ba85b8a",
   "metadata": {},
   "outputs": [],
   "source": [
    "Rs = []\n",
    "Ts = []\n",
    "for i in range(nfreq):\n",
    "    Rs = np.append(Rs, -bend_refl_flux[i] / total_flux[i])\n",
    "    Ts = np.append(Ts, bend_tran_flux[i] / total_flux[i])\n",
    "\n",
    "if mp.am_master():\n",
    "    plt.figure(dpi=150)\n",
    "    plt.plot(wl, Rs, \"b\", label=\"reflectance\")\n",
    "    plt.plot(wl, Ts, \"r\", label=\"transmittance\")\n",
    "    plt.plot(wl, 1 - Rs - Ts, \"g\", label=\"loss\")\n",
    "    plt.axis([0.40, 0.70, 0, 1])\n",
    "    plt.xlabel(\"wavelength (μm)\")\n",
    "    plt.ylabel(\"Transmittance\")\n",
    "    plt.fill([0.40, 0.40, 0.50, 0.50], [0.0, 1.0, 1.0, 0.0], color='lightblue', alpha=0.5)\n",
    "    plt.fill([0.50, 0.50, 0.60, 0.60], [0.0, 1.0, 1.0, 0.0], color='lightgreen', alpha=0.5)\n",
    "    plt.fill([0.60, 0.60, 0.70, 0.70], [0.0, 1.0, 1.0, 0.0], color='lightcoral', alpha=0.5)\n",
    "    plt.legend(loc=\"upper right\")\n",
    "    #plt.show()\n",
    "    plt.savefig(\"Transmission2\" + str(rot_angle) + \".png\")\n",
    "    plt.cla()   # clear the current axes\n",
    "    plt.clf()   # clear the current figure\n",
    "    plt.close() # closes the current figure"
   ]
  },
  {
   "cell_type": "code",
   "execution_count": 37,
   "id": "954651b0-f499-4f5c-9579-42c07eea5781",
   "metadata": {},
   "outputs": [],
   "source": [
    "wl = []\n",
    "Tr = []\n",
    "Tg = []\n",
    "Tb = []\n",
    "Tg0 = []\n",
    "for i in range(nfreq):\n",
    "    wl = np.append(wl, 1 / (flux_freqs[i] * um_scale))\n",
    "    Tr = np.append(Tr, red_flux[i] / bend_tran_flux[i])\n",
    "    Tg = np.append(Tg, green_flux[i] / bend_tran_flux[i])\n",
    "    Tb = np.append(Tb, blue_flux[i] / bend_tran_flux[i])\n",
    "    Tg0 = np.append(Tg0, green_flux0[i] / bend_tran_flux[i])\n",
    "\n",
    "if mp.am_master():\n",
    "    plt.figure(dpi=150)\n",
    "    plt.plot(wl, Tr, \"r\", label=\"Redpixel\")\n",
    "    plt.plot(wl, Tg+Tg0, \"g\", label=\"Greenpixel\")\n",
    "    plt.plot(wl, Tb, \"b\", label=\"Bluepixel\")\n",
    "    #plt.plot(wl, Tg0, color='limegreen', label=\"Greenpixel2\")\n",
    "    \n",
    "    plt.axis([0.40, 0.70, 0, 1])\n",
    "    plt.xlabel(\"wavelength (μm)\")\n",
    "    plt.ylabel(\"Optical Efficiency\")\n",
    "    plt.fill([0.40, 0.40, 0.50, 0.50], [0.0, 1.0, 1.0, 0.0], color='lightblue', alpha=0.5)\n",
    "    plt.fill([0.50, 0.50, 0.60, 0.60], [0.0, 1.0, 1.0, 0.0], color='lightgreen', alpha=0.5)\n",
    "    plt.fill([0.60, 0.60, 0.70, 0.70], [0.0, 1.0, 1.0, 0.0], color='lightcoral', alpha=0.5)\n",
    "    plt.legend(loc=\"right\")\n",
    "    #plt.show()\n",
    "    plt.savefig(\"Transmission3\" + str(rot_angle) + \".png\")\n",
    "    plt.cla()   # clear the current axes\n",
    "    plt.clf()   # clear the current figure\n",
    "    plt.close() # closes the current figure"
   ]
  },
  {
   "cell_type": "code",
   "execution_count": 38,
   "id": "9330e0e7-a6a2-4320-8688-e74b2e8e28a7",
   "metadata": {},
   "outputs": [
    {
     "name": "stdout",
     "output_type": "stream",
     "text": [
      "0.5269053671071472\n",
      "0.739932910023539\n",
      "0.7616858970302447\n",
      "0.34246123553994795\n"
     ]
    }
   ],
   "source": [
    "print(max(Tr))\n",
    "print(max(Tb))\n",
    "print(max(Tg+Tg0))\n",
    "print(max(Tg0))"
   ]
  },
  {
   "cell_type": "code",
   "execution_count": 39,
   "id": "c3318305-8673-4429-aa6d-ad390e2f1e52",
   "metadata": {},
   "outputs": [
    {
     "name": "stdout",
     "output_type": "stream",
     "text": [
      "0.12727673146967045\n",
      "0.5238464662081147\n",
      "0.6155117148045351\n"
     ]
    }
   ],
   "source": [
    "print(max((Tr-(Tg+Tg0))[0:100]))\n",
    "print(max((Tb-(Tg+Tg0))[200:300]))\n",
    "print(max(((Tg+Tg0)-Tr)[100:200]))"
   ]
  },
  {
   "cell_type": "code",
   "execution_count": 40,
   "id": "ebbeb9e3-abe6-4801-aa72-92124c53e488",
   "metadata": {},
   "outputs": [
    {
     "name": "stdout",
     "output_type": "stream",
     "text": [
      "0.14878745524193776\n"
     ]
    }
   ],
   "source": [
    "print(np.mean((Tr)[100:300]))"
   ]
  },
  {
   "cell_type": "code",
   "execution_count": 41,
   "id": "591f3fca-04fc-4698-b6a6-59236d652289",
   "metadata": {},
   "outputs": [
    {
     "name": "stdout",
     "output_type": "stream",
     "text": [
      "0.18940953453516737\n"
     ]
    }
   ],
   "source": [
    "print(np.mean((Tb)[0:200]))"
   ]
  },
  {
   "cell_type": "code",
   "execution_count": 42,
   "id": "5fc8ef3f-4aff-49bd-8bef-e0cd121c6a01",
   "metadata": {},
   "outputs": [
    {
     "name": "stdout",
     "output_type": "stream",
     "text": [
      "0.2551442748798781\n"
     ]
    }
   ],
   "source": [
    "print(np.mean((Tg)[0:100]+(Tg)[200:300])/2)"
   ]
  },
  {
   "cell_type": "code",
   "execution_count": 43,
   "id": "999368ac-74a4-42e1-97aa-6121ae621476",
   "metadata": {},
   "outputs": [
    {
     "name": "stdout",
     "output_type": "stream",
     "text": [
      "0.18750370380133352\n"
     ]
    }
   ],
   "source": [
    "print(np.mean((Tg0)[0:100]+(Tg0)[200:300])/2)"
   ]
  },
  {
   "cell_type": "code",
   "execution_count": 44,
   "id": "2528d621-b54c-4e31-b179-3f25f86b199f",
   "metadata": {},
   "outputs": [
    {
     "name": "stdout",
     "output_type": "stream",
     "text": [
      "0.34419978009991253\n",
      "0.1850253156798035\n",
      "0.11254959480407202\n"
     ]
    }
   ],
   "source": [
    "print(np.mean((Tr)[0:100]))\n",
    "print(np.mean((Tr)[100:200]))\n",
    "print(np.mean((Tr)[200:300]))"
   ]
  },
  {
   "cell_type": "code",
   "execution_count": 45,
   "id": "e4bf012b-71f1-4088-b1d0-eaeba164a670",
   "metadata": {},
   "outputs": [
    {
     "name": "stdout",
     "output_type": "stream",
     "text": [
      "0.14896292600121908\n",
      "0.22985614306911573\n",
      "0.5089917417323733\n"
     ]
    }
   ],
   "source": [
    "print(np.mean((Tb)[0:100]))\n",
    "print(np.mean((Tb)[100:200]))\n",
    "print(np.mean((Tb)[200:300]))"
   ]
  },
  {
   "cell_type": "code",
   "execution_count": 46,
   "id": "18633610-fe39-4eab-aebf-877b975e94d5",
   "metadata": {},
   "outputs": [
    {
     "name": "stdout",
     "output_type": "stream",
     "text": [
      "0.5068372938988687\n",
      "0.5851185412510811\n",
      "0.3784586634635547\n"
     ]
    }
   ],
   "source": [
    "print(np.mean((Tg+Tg0)[0:100]))\n",
    "print(np.mean((Tg+Tg0)[100:200]))\n",
    "print(np.mean((Tg+Tg0)[200:300]))"
   ]
  },
  {
   "cell_type": "code",
   "execution_count": 47,
   "id": "aaca7fed-85aa-4e83-add2-cd2874eddb5a",
   "metadata": {},
   "outputs": [
    {
     "name": "stdout",
     "output_type": "stream",
     "text": [
      "0.3997378597636049\n",
      "0.37064093298234935\n",
      "0.2761974479567796\n",
      "0.6468383809391288\n",
      "0.46989211981494533\n"
     ]
    }
   ],
   "source": [
    "print(np.mean(Tr[0:66]))\n",
    "print(np.mean(Tg[66:160]))\n",
    "print(np.mean(Tg0[66:160]))\n",
    "print(np.mean((Tg+Tg0)[66:160]))\n",
    "print(np.mean(Tb[160:300]))"
   ]
  },
  {
   "cell_type": "code",
   "execution_count": 48,
   "id": "b9ce1667-4987-4ec7-87d2-14e4630d7ee0",
   "metadata": {},
   "outputs": [
    {
     "name": "stdout",
     "output_type": "stream",
     "text": [
      "0.5269053671071472\n",
      "0.4319370076291864\n",
      "0.34246123553994795\n",
      "0.7616858970302447\n",
      "0.739932910023539\n"
     ]
    }
   ],
   "source": [
    "print(max(Tr[0:66]))\n",
    "print(max(Tg[66:160]))\n",
    "print(max(Tg0[66:160]))\n",
    "print(max((Tg+Tg0)[66:160]))\n",
    "print(max(Tb[160:300]))"
   ]
  },
  {
   "cell_type": "code",
   "execution_count": 49,
   "id": "6e21c7b6-6797-4c0c-b9ea-62d5c59ad727",
   "metadata": {},
   "outputs": [
    {
     "name": "stdout",
     "output_type": "stream",
     "text": [
      "0.12727673146967045\n",
      "0.6155117148045351\n",
      "0.5238464662081147\n"
     ]
    }
   ],
   "source": [
    "print(max((Tr - (Tg+Tg0))[0:66]))\n",
    "print(max(((Tg+Tg0) - Tr)[66:160]))\n",
    "print(max((Tb - (Tg+Tg0))[160:300]))"
   ]
  },
  {
   "cell_type": "code",
   "execution_count": 50,
   "id": "b35caf60-808a-4f23-8372-36c4c2b543a5",
   "metadata": {},
   "outputs": [
    {
     "name": "stdout",
     "output_type": "stream",
     "text": [
      "0.16151611245290978\n"
     ]
    }
   ],
   "source": [
    "print(np.mean(Tr[66:300]))"
   ]
  },
  {
   "cell_type": "code",
   "execution_count": 51,
   "id": "828f5966-5c89-41c3-9b55-0fec37b2e4a4",
   "metadata": {},
   "outputs": [
    {
     "name": "stdout",
     "output_type": "stream",
     "text": [
      "0.2355678606920951\n",
      "0.18306632403155712\n",
      "0.41863418472365216\n"
     ]
    }
   ],
   "source": [
    "print((sum(Tg[0:66]) + sum(Tg[160:300]))/206)\n",
    "print((sum(Tg0[0:66]) + sum(Tg0[160:300]))/206)\n",
    "print((sum((Tg+Tg0)[0:66]) + sum((Tg+Tg0)[160:300]))/206)"
   ]
  },
  {
   "cell_type": "code",
   "execution_count": 52,
   "id": "e2947fea-17eb-449e-a96e-07154ae716b6",
   "metadata": {},
   "outputs": [
    {
     "name": "stdout",
     "output_type": "stream",
     "text": [
      "0.14372615191361532\n"
     ]
    }
   ],
   "source": [
    "print(np.mean(Tb[0:160]))"
   ]
  }
 ],
 "metadata": {
  "kernelspec": {
   "display_name": "Python 3 (ipykernel)",
   "language": "python",
   "name": "python3"
  },
  "language_info": {
   "codemirror_mode": {
    "name": "ipython",
    "version": 3
   },
   "file_extension": ".py",
   "mimetype": "text/x-python",
   "name": "python",
   "nbconvert_exporter": "python",
   "pygments_lexer": "ipython3",
   "version": "3.11.4"
  }
 },
 "nbformat": 4,
 "nbformat_minor": 5
}
