{
 "cells": [
  {
   "cell_type": "code",
   "execution_count": 1,
   "id": "ab54f338-db3a-4d98-a2a2-b34e3ff1185c",
   "metadata": {},
   "outputs": [],
   "source": [
    "# 시뮬레이션 라이브러리 불러오기\n",
    "import meep as mp\n",
    "import meep.adjoint as mpa\n",
    "import numpy as np\n",
    "from autograd import numpy as npa\n",
    "from autograd import tensor_jacobian_product, grad\n",
    "import nlopt\n",
    "from matplotlib import pyplot as plt\n",
    "from matplotlib.patches import Circle\n",
    "import pickle\n",
    "import math\n",
    "\n",
    "import sys\n"
   ]
  },
  {
   "cell_type": "code",
   "execution_count": 2,
   "id": "6892b590-9003-4d4f-b966-34626f66155d",
   "metadata": {},
   "outputs": [],
   "source": [
    "# 물질 설정 및 Refractive Index 설정\n",
    "mp.verbosity(1)\n",
    "um_scale = 1\n",
    "\n",
    "Air = mp.Medium(index=1.0)\n",
    "\n",
    "Al2O3_frq1 = 10.45201873779817\n",
    "Al2O3_gam1 = 0.0\n",
    "Al2O3_sig1 = 0.7485390758646482\n",
    "Al2O3_frq2 = 10.520778320800689\n",
    "Al2O3_gam2 = 0.0\n",
    "Al2O3_sig2 = 1.321424754906942\n",
    "\n",
    "\n",
    "Al2O3_susc = [\n",
    "    mp.LorentzianSusceptibility(frequency=Al2O3_frq1, gamma=Al2O3_gam1, sigma=Al2O3_sig1),\n",
    "    mp.LorentzianSusceptibility(frequency=Al2O3_frq2, gamma=Al2O3_gam2, sigma=Al2O3_sig2),\n",
    "]\n",
    "Al2O3 = mp.Medium(\n",
    "    epsilon=1, E_susceptibilities=Al2O3_susc)"
   ]
  },
  {
   "cell_type": "code",
   "execution_count": 3,
   "id": "f83df1c9-25bf-4279-9fd8-02aa897f6421",
   "metadata": {},
   "outputs": [],
   "source": [
    "resolution = 1000 # 해상도\n",
    "design_region_width = 0.01 # 디자인 영역 x\n",
    "design_region_width_y = 0.01 # 디자인 영역 y\n",
    "design_region_height = 2 # 디자인 영역 높이 z\n",
    "pml_size = 1.0 # PML 영역 크기"
   ]
  },
  {
   "cell_type": "code",
   "execution_count": 4,
   "id": "8c8864a8-4d69-45d3-a9df-321ed471a7eb",
   "metadata": {},
   "outputs": [],
   "source": [
    "# 시뮬레이션 공간 설정\n",
    "Sx = design_region_width\n",
    "Sy = design_region_width_y\n",
    "Sz = 2 * pml_size + design_region_height + 1 + 5\n",
    "cell_size = mp.Vector3(0, 0, Sz)"
   ]
  },
  {
   "cell_type": "code",
   "execution_count": 5,
   "id": "8e468b6f-be83-4948-90cf-65e98f1df1a8",
   "metadata": {},
   "outputs": [],
   "source": [
    "wavelengths = np.array([0.41*um_scale, 0.43*um_scale, 0.45*um_scale, 0.51*um_scale, 0.54*um_scale, 0.57*um_scale, 0.64*um_scale, 0.68*um_scale, 0.72*um_scale])\n",
    "# wavelengths = np.array([1.5])\n",
    "frequencies = 1/wavelengths\n",
    "nf = len(frequencies) # number of frequencies"
   ]
  },
  {
   "cell_type": "code",
   "execution_count": 6,
   "id": "4e3d8034-135c-470b-aac8-f8aeb9271f13",
   "metadata": {},
   "outputs": [],
   "source": [
    "minimum_length = 0.05  # minimum length scale (microns)\n",
    "eta_i = 0.5  # blueprint (or intermediate) design field thresholding point (between 0 and 1)\n",
    "eta_e = 0.55  # erosion design field thresholding point (between 0 and 1)\n",
    "eta_d = 1 - eta_e  # dilation design field thresholding point (between 0 and 1)\n",
    "filter_radius = mpa.get_conic_radius_from_eta_e(minimum_length, eta_e)\n",
    "design_region_resolution = int(resolution)"
   ]
  },
  {
   "cell_type": "code",
   "execution_count": 7,
   "id": "cfb20166-a1d1-4a47-893e-6462308cdd5d",
   "metadata": {},
   "outputs": [],
   "source": [
    "pml_layers = [mp.PML(thickness = pml_size, direction = mp.Z)]"
   ]
  },
  {
   "cell_type": "code",
   "execution_count": 8,
   "id": "4cff12b8-38cf-4be6-9e9b-bd8c258ae204",
   "metadata": {},
   "outputs": [],
   "source": [
    "width = 0.1\n",
    "fcen_red0 = frequencies[6]\n",
    "fwidth_red0 = width * fcen_red0\n",
    "fcen_red1 = frequencies[7]\n",
    "fwidth_red1 = width * fcen_red1\n",
    "fcen_red2 = frequencies[8]\n",
    "fwidth_red2 = width * fcen_red2\n",
    "\n",
    "fcen_green0 = frequencies[3]\n",
    "fwidth_green0 = width * fcen_green0\n",
    "fcen_green1 = frequencies[4]\n",
    "fwidth_green1 = width * fcen_green1\n",
    "fcen_green2 = frequencies[5]\n",
    "fwidth_green2 = width * fcen_green2\n",
    "\n",
    "fcen_blue0 = frequencies[0]\n",
    "fwidth_blue0 = width * fcen_blue0\n",
    "fcen_blue1 = frequencies[1]\n",
    "fwidth_blue1 = width * fcen_blue1\n",
    "fcen_blue2 = frequencies[2]\n",
    "fwidth_blue2 = width * fcen_blue2"
   ]
  },
  {
   "cell_type": "code",
   "execution_count": 9,
   "id": "daa2f8aa-b8df-44a2-bec7-7190537f9f80",
   "metadata": {},
   "outputs": [],
   "source": [
    "source_center = [0, 0, Sz / 2 - pml_size] # Source 위치\n",
    "\n",
    "src_0 = mp.GaussianSource(frequency=fcen_red2, fwidth=fwidth_red2, is_integrated=True)\n",
    "\n",
    "\n",
    "source = [mp.Source(src_0, component=mp.Ey, center=source_center)]\n"
   ]
  },
  {
   "cell_type": "code",
   "execution_count": 10,
   "id": "53a654fb-a65e-4e21-8a79-7f785c3b975e",
   "metadata": {},
   "outputs": [],
   "source": [
    "Nx = int(round(design_region_resolution * design_region_width)) + 1\n",
    "Ny = int(round(design_region_resolution * design_region_width_y)) + 1\n",
    "Nz = int(round(design_region_resolution * design_region_height)) + 1\n",
    "\n",
    "design_variables = mp.MaterialGrid(mp.Vector3(0, 0, Nz), Air, Al2O3, grid_type=\"U_MEAN\")\n",
    "\n"
   ]
  },
  {
   "cell_type": "code",
   "execution_count": 11,
   "id": "0746cd74-053e-44df-8bb3-02dc249d4a7b",
   "metadata": {},
   "outputs": [],
   "source": [
    "design_region = mpa.DesignRegion(\n",
    "    design_variables,\n",
    "    volume=mp.Volume(\n",
    "        center=mp.Vector3(0, 0, Sz / 2 - pml_size - 2),\n",
    "        size=mp.Vector3(design_region_width, design_region_width_y, design_region_height),\n",
    "    ),\n",
    ")\n"
   ]
  },
  {
   "cell_type": "code",
   "execution_count": 12,
   "id": "e18568da-f034-45fe-a6d4-6baa82a354b6",
   "metadata": {},
   "outputs": [],
   "source": [
    "geometry = [\n",
    "    mp.Block(\n",
    "        center=design_region.center, size=mp.Vector3(mp.inf, mp.inf, 0.2 * um_scale), material=Al2O3\n",
    "    )\n",
    "]"
   ]
  },
  {
   "cell_type": "code",
   "execution_count": 13,
   "id": "598222e6-e208-45e0-a441-dd8629c8a549",
   "metadata": {},
   "outputs": [],
   "source": [
    "sim = mp.Simulation(\n",
    "    cell_size=cell_size, \n",
    "    boundary_layers=pml_layers,\n",
    "    geometry=geometry,\n",
    "    sources=source,\n",
    "    default_material=Air, # 빈공간\n",
    "    resolution=resolution,\n",
    "    extra_materials=[Al2O3],\n",
    "    k_point = mp.Vector3(0,0,0),\n",
    "    dimensions=1\n",
    ")\n",
    "\n",
    "# 모니터 위치와 크기 설정 (focal point)\n",
    "monitor_position_0, monitor_size_0 = mp.Vector3(-Sx/2 + 1, Sy/2  - 1, -Sz/2 + pml_size + 0.5/resolution), mp.Vector3(0.01,0.01,0) \n",
    "monitor_position_1, monitor_size_1 = mp.Vector3(-Sx/2 + 1, -Sy/2 + 1, -Sz/2 + pml_size + 0.5/resolution), mp.Vector3(0.01,0.01,0) \n",
    "monitor_position_2, monitor_size_2 = mp.Vector3(Sx/2 - 1, -Sy/2 + 1, -Sz/2 + pml_size + 0.5/resolution), mp.Vector3(0.01,0.01,0) \n",
    "monitor_position_3, monitor_size_3 = mp.Vector3(Sx/2 - 1, Sy/2  -  1, -Sz/2 + pml_size + 0.5/resolution), mp.Vector3(0.01,0.01,0) \n",
    "\n",
    "# FourierFields를 통해 monitor_position에서 monitor_size만큼의 영역에 대한 Fourier transform을 구함\n",
    "FourierFields_0 = mpa.FourierFields(sim,mp.Volume(center=monitor_position_0,size=monitor_size_0),mp.Ey,yee_grid=True)\n",
    "FourierFields_1 = mpa.FourierFields(sim,mp.Volume(center=monitor_position_0,size=monitor_size_0),mp.Ey,yee_grid=True)\n",
    "FourierFields_2 = mpa.FourierFields(sim,mp.Volume(center=monitor_position_0,size=monitor_size_0),mp.Ey,yee_grid=True)\n",
    "FourierFields_3 = mpa.FourierFields(sim,mp.Volume(center=monitor_position_1,size=monitor_size_1),mp.Ey,yee_grid=True)\n",
    "FourierFields_4 = mpa.FourierFields(sim,mp.Volume(center=monitor_position_1,size=monitor_size_1),mp.Ey,yee_grid=True)\n",
    "FourierFields_5 = mpa.FourierFields(sim,mp.Volume(center=monitor_position_1,size=monitor_size_1),mp.Ey,yee_grid=True)\n",
    "FourierFields_6 = mpa.FourierFields(sim,mp.Volume(center=monitor_position_2,size=monitor_size_2),mp.Ey,yee_grid=True)\n",
    "FourierFields_7 = mpa.FourierFields(sim,mp.Volume(center=monitor_position_2,size=monitor_size_2),mp.Ey,yee_grid=True)\n",
    "FourierFields_8 = mpa.FourierFields(sim,mp.Volume(center=monitor_position_2,size=monitor_size_2),mp.Ey,yee_grid=True)\n",
    "FourierFields_9 = mpa.FourierFields(sim,mp.Volume(center=monitor_position_3,size=monitor_size_3),mp.Ey,yee_grid=True)\n",
    "FourierFields_10 = mpa.FourierFields(sim,mp.Volume(center=monitor_position_3,size=monitor_size_3),mp.Ey,yee_grid=True)\n",
    "FourierFields_11 = mpa.FourierFields(sim,mp.Volume(center=monitor_position_3,size=monitor_size_3),mp.Ey,yee_grid=True)\n",
    "ob_list = [FourierFields_0, FourierFields_1, FourierFields_2,FourierFields_3, FourierFields_4, FourierFields_5 ,FourierFields_6, FourierFields_7, FourierFields_8,FourierFields_9, FourierFields_10, FourierFields_11]\n",
    "\n",
    "# In[16]:\n",
    "\n",
    "\n",
    "# J : Objective function\n",
    "# FourierFields가 측정한 필드, 모니터의 중심에서 Ez 구성요소의 절댓값을 제곱한 값을 취한 후 평균을 계산하여 평균 강도를 계산\n",
    "def J_0(fields_0, fields_1, fields_2,fields_3, fields_4, fields_5,fields_6, fields_7, fields_8,fields_9, fields_10, fields_11):\n",
    "    return npa.mean(npa.abs(fields_0[6,:]) ** 2) + npa.mean(npa.abs(fields_1[7,:]) ** 2) + npa.mean(npa.abs(fields_2[8,:]) ** 2) + npa.mean(npa.abs(fields_3[3,:]) ** 2) + npa.mean(npa.abs(fields_4[4,:]) ** 2) + npa.mean(npa.abs(fields_5[5,:]) ** 2) + npa.mean(npa.abs(fields_6[0,:]) ** 2) + npa.mean(npa.abs(fields_7[1,:]) ** 2) + npa.mean(npa.abs(fields_8[2,:]) ** 2) + npa.mean(npa.abs(fields_9[3,:]) ** 2) + npa.mean(npa.abs(fields_10[4,:]) ** 2) + npa.mean(npa.abs(fields_11[5,:]) ** 2)\n",
    "\n",
    "opt = mpa.OptimizationProblem(\n",
    "    simulation=sim,\n",
    "    objective_functions=[J_0],\n",
    "    objective_arguments=ob_list,\n",
    "    design_regions=[design_region],\n",
    "    frequencies=frequencies,\n",
    "    decay_by=1e-9\n",
    ")\n"
   ]
  },
  {
   "cell_type": "code",
   "execution_count": 14,
   "id": "884b5abe-f598-4f6f-b075-0b5e885b1cfa",
   "metadata": {},
   "outputs": [],
   "source": [
    "opt.sim.reset_meep()\n",
    "#simulation 1 : geometry가 없는 구조\n",
    "geometry_1 = [\n",
    "    mp.Block(\n",
    "        center=mp.Vector3(0, 0, 0), size=mp.Vector3(mp.inf, mp.inf, 0), material=Air\n",
    "    )\n",
    "]"
   ]
  },
  {
   "cell_type": "code",
   "execution_count": 15,
   "id": "a84b5a0b-7b79-4e22-8c79-34a4d2caad06",
   "metadata": {},
   "outputs": [],
   "source": [
    "\n",
    "opt.sim = mp.Simulation(\n",
    "    cell_size=cell_size,\n",
    "    boundary_layers=pml_layers,\n",
    "    geometry=geometry_1,\n",
    "    sources=source,\n",
    "    default_material=Air,\n",
    "    resolution=resolution,\n",
    "    extra_materials=[Al2O3],\n",
    "    k_point = mp.Vector3(0,0,0),\n",
    "    dimensions=1\n",
    ")\n",
    "fcen = (1/(0.40 * um_scale) + 1/(0.70 * um_scale))/2\n",
    "df = 1 /(0.40 * um_scale) - 1/(0.70 * um_scale)\n",
    "nfreq = 100\n",
    "\n",
    "src = mp.GaussianSource(frequency=fcen, fwidth=df, is_integrated=True)\n",
    "# print((frequencies[2]+frequencies[0])/2)\n",
    "source = [mp.Source(src, component=mp.Ex, center=source_center)]\n",
    "opt.sim.change_sources(source)\n"
   ]
  },
  {
   "cell_type": "code",
   "execution_count": 16,
   "id": "1bbd88a2-f971-45a2-84ee-92e06ff94917",
   "metadata": {},
   "outputs": [
    {
     "name": "stdout",
     "output_type": "stream",
     "text": [
      "-----------\n",
      "Initializing structure...\n",
      "time for choose_chunkdivision = 0.000535965 s\n",
      "Working in 1D dimensions.\n",
      "Computational cell is 0 x 0 x 10 with resolution 1000\n",
      "     block, center = (0,0,0)\n",
      "          size (1e+20,1e+20,0)\n",
      "          axes (1,0,0), (0,1,0), (0,0,1)\n",
      "          dielectric constant epsilon diagonal = (1,1,1)\n",
      "time for set_epsilon = 0.00111079 s\n",
      "lorentzian susceptibility: frequency=10.5208, gamma=0\n",
      "lorentzian susceptibility: frequency=10.452, gamma=0\n",
      "-----------\n",
      "run 0 finished at t = 17.6225 (35245 timesteps)\n"
     ]
    }
   ],
   "source": [
    "#reflection moniter 설정\n",
    "\n",
    "refl_fr = mp.FluxRegion(\n",
    "    center=mp.Vector3(0, 0, Sz/2 - pml_size - 0.3)\n",
    ") \n",
    "refl = opt.sim.add_flux(fcen, df, nfreq, refl_fr)\n",
    "\n",
    "#transmission moiniter 설정\n",
    "\n",
    "tran_t = mp.FluxRegion(\n",
    "    center=mp.Vector3(0, 0, -Sz/2 + pml_size + 0.5)\n",
    ")\n",
    "tran_total = opt.sim.add_flux(fcen, df, nfreq, tran_t)\n",
    "\n",
    "\n",
    "#pt는 transmitted flux region과 동일\n",
    "\n",
    "pt = mp.Vector3(0, 0, -Sz/2 + pml_size + 0.5)\n",
    "\n",
    "\n",
    "#source가 끝난 후에 50 동안 계속 실행하며 component는 Ey, pt 설계의 끝에서 |Ey|^2의 값이 최대 값으로부터 1/1000 만큼 감쇠할때까지\n",
    "#추가적인 50 단위의 시간 실행 -> Fourier-transform 수렴예상\n",
    "\n",
    "opt.sim.run(until_after_sources=mp.stop_when_dft_decayed(1e-9))\n",
    "\n",
    "#데이터 저장\n",
    "\n",
    "straight_refl_data = opt.sim.get_flux_data(refl)\n",
    "total_flux = mp.get_fluxes(tran_total)\n",
    "flux_freqs = mp.get_flux_freqs(tran_total)"
   ]
  },
  {
   "cell_type": "code",
   "execution_count": 17,
   "id": "c9601642-5841-4995-8f88-9e74936aca2b",
   "metadata": {},
   "outputs": [],
   "source": [
    "opt.sim.reset_meep()\n",
    "\n",
    "#simulation 2 : geometry가 있는 구조\n",
    "\n",
    "opt.sim = mp.Simulation(\n",
    "    cell_size=cell_size,\n",
    "    boundary_layers=pml_layers,\n",
    "    geometry=geometry,\n",
    "    sources=source,\n",
    "    default_material=Air,\n",
    "    resolution=resolution,\n",
    "    extra_materials=[Al2O3],\n",
    "    k_point = mp.Vector3(0,0,0),\n",
    "    dimensions=1\n",
    ")\n",
    "\n",
    "fcen = (1/(0.40 * um_scale) + 1/(0.70 * um_scale))/2\n",
    "df = 1 /(0.40 * um_scale) - 1/(0.70 * um_scale)\n",
    "\n",
    "src = mp.GaussianSource(frequency=fcen, fwidth=df, is_integrated=True)\n",
    "# print((frequencies[2]+frequencies[0])/2)\n",
    "source = [mp.Source(src, component=mp.Ex, center=source_center)]\n",
    "opt.sim.change_sources(source)"
   ]
  },
  {
   "cell_type": "code",
   "execution_count": 18,
   "id": "cfbf45de-8f40-47c8-bb3a-757a49ea21ad",
   "metadata": {},
   "outputs": [
    {
     "name": "stdout",
     "output_type": "stream",
     "text": [
      "-----------\n",
      "Initializing structure...\n",
      "time for choose_chunkdivision = 0.000276089 s\n",
      "Working in 1D dimensions.\n",
      "Computational cell is 0 x 0 x 10 with resolution 1000\n",
      "     block, center = (0,0,2)\n",
      "          size (1e+20,1e+20,0.2)\n",
      "          axes (1,0,0), (0,1,0), (0,0,1)\n",
      "          dielectric constant epsilon diagonal = (1,1,1)\n",
      "time for set_epsilon = 0.00116396 s\n",
      "lorentzian susceptibility: frequency=10.5208, gamma=0\n",
      "lorentzian susceptibility: frequency=10.452, gamma=0\n",
      "-----------\n"
     ]
    }
   ],
   "source": [
    "# 반사된 flux 구하기\n",
    "\n",
    "refl = opt.sim.add_flux(fcen, df, nfreq, refl_fr)\n",
    "\n",
    "# 투과된 flux 구하기\n",
    "\n",
    "tran_fr = mp.FluxRegion(\n",
    "    center=mp.Vector3(0, 0, -Sz/2 + pml_size + 0.5)\n",
    ")\n",
    "tran = opt.sim.add_flux(fcen, df, nfreq, tran_fr)\n",
    "\n",
    "#반사된 필드와 입사되는 필드를 구분하기 위해서 The Fourier-transformed incident fields을\n",
    "#the Fourier transforms of the scattered fields 에서 빼줍니다.\n",
    "\n",
    "opt.sim.load_minus_flux_data(refl, straight_refl_data)\n",
    "\n",
    "#각각 픽셀의 flux 구하기\n",
    "\n",
    "# tran_r = mp.FluxRegion(\n",
    "#     center=mp.Vector3(-Sx/2 + 1, Sy/2  - 1, -Sz/2 + pml_size + 0.5/resolution), size=mp.Vector3(2, 2, 0)\n",
    "# )\n",
    "# tran_g = mp.FluxRegion(\n",
    "#     center=mp.Vector3(-Sx/2 + 1, -Sy/2 + 1, -Sz/2 + pml_size + 0.5/resolution), size=mp.Vector3(2, 2, 0)\n",
    "# )\n",
    "# tran_b = mp.FluxRegion(\n",
    "#     center=mp.Vector3(Sx/2 - 1, -Sy/2 + 1, -Sz/2 + pml_size + 0.5/resolution), size=mp.Vector3(2, 2, 0)\n",
    "# )\n",
    "# tran_g0 = mp.FluxRegion(\n",
    "#     center=mp.Vector3(Sx/2 - 1, Sy/2  -  1, -Sz/2 + pml_size + 0.5/resolution), size=mp.Vector3(2, 2, 0)\n",
    "# )\n",
    "\n",
    "# tran_red = opt.sim.add_flux(fcen, df, nfreq, tran_r)\n",
    "# tran_green = opt.sim.add_flux(fcen, df, nfreq, tran_g)\n",
    "# tran_blue = opt.sim.add_flux(fcen, df, nfreq, tran_b)\n",
    "# tran_green0 = opt.sim.add_flux(fcen, df, nfreq, tran_g0)"
   ]
  },
  {
   "cell_type": "code",
   "execution_count": 19,
   "id": "8c7ca68d-fdf9-4607-aa30-7bf0ca8e743d",
   "metadata": {},
   "outputs": [
    {
     "name": "stdout",
     "output_type": "stream",
     "text": [
      "run 0 finished at t = 16.8215 (33643 timesteps)\n"
     ]
    }
   ],
   "source": [
    "pt = mp.Vector3(0, 0, -Sz/2 + pml_size + 0.5) #pt는 transmitted flux region과 동일\n",
    "\n",
    "opt.sim.run(until_after_sources=mp.stop_when_dft_decayed(1e-9))\n",
    "\n",
    "#데이터 저장\n",
    "\n",
    "bend_refl_flux = mp.get_fluxes(refl)\n",
    "bend_tran_flux = mp.get_fluxes(tran)\n",
    "\n",
    "# red_flux = mp.get_fluxes(tran_red)\n",
    "# green_flux = mp.get_fluxes(tran_green)\n",
    "# blue_flux = mp.get_fluxes(tran_blue)\n",
    "# green_flux0 = mp.get_fluxes(tran_green0)"
   ]
  },
  {
   "cell_type": "code",
   "execution_count": 20,
   "id": "e75ce3d7-3c3d-4a81-9edd-b244b0d190f9",
   "metadata": {},
   "outputs": [
    {
     "data": {
      "image/png": "[encoded data removed]",
      "text/plain": [
       "<Figure size 960x720 with 1 Axes>"
      ]
     },
     "metadata": {},
     "output_type": "display_data"
    }
   ],
   "source": [
    "wl = []\n",
    "Rs = []\n",
    "Ts = []\n",
    "for i in range(nfreq):\n",
    "    wl = np.append(wl, 1 / (flux_freqs[i] * um_scale))\n",
    "    Rs = np.append(Rs, -bend_refl_flux[i] / total_flux[i])\n",
    "    Ts = np.append(Ts, bend_tran_flux[i] / total_flux[i])\n",
    "\n",
    "if mp.am_master():\n",
    "    plt.figure(dpi=150)\n",
    "    plt.plot(wl, Rs, \"b\", label=\"reflectance\")\n",
    "    plt.plot(wl, Ts, \"r\", label=\"transmittance\")\n",
    "    plt.plot(wl, 1 - Rs - Ts, \"g\", label=\"loss\")\n",
    "    plt.axis([0.40, 0.70, 0, 1])\n",
    "    plt.xlabel(\"wavelength (μm)\")\n",
    "    plt.ylabel(\"Transmittance\")\n",
    "    plt.legend(loc=\"upper right\")\n",
    "    #plt.show()\n",
    "    plt.savefig(\"Resolution1000.png\")"
   ]
  },
  {
   "cell_type": "code",
   "execution_count": 21,
   "id": "dd420fbd-bcea-4343-b103-a0142f8ed1c0",
   "metadata": {},
   "outputs": [],
   "source": [
    "np.savetxt(\"Reflection_my_code.txt\",Rs)\n",
    "np.savetxt(\"Transmission_my_code.txt\",Ts)"
   ]
  }
 ],
 "metadata": {
  "kernelspec": {
   "display_name": "mp",
   "language": "python",
   "name": "python3"
  },
  "language_info": {
   "codemirror_mode": {
    "name": "ipython",
    "version": 3
   },
   "file_extension": ".py",
   "mimetype": "text/x-python",
   "name": "python",
   "nbconvert_exporter": "python",
   "pygments_lexer": "ipython3",
   "version": "3.8.19"
  }
 },
 "nbformat": 4,
 "nbformat_minor": 5
}
