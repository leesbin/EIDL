{
 "cells": [
  {
   "cell_type": "code",
   "execution_count": 1,
   "id": "ef95b403-41fc-480a-87aa-55869495ab17",
   "metadata": {},
   "outputs": [],
   "source": [
    "# 시뮬레이션 라이브러리 불러오기\n",
    "import cmath\n",
    "import math\n",
    "import matplotlib.pyplot as plt\n",
    "import numpy as np\n",
    "\n",
    "import meep as mp"
   ]
  },
  {
   "cell_type": "code",
   "execution_count": 2,
   "id": "631001bf-313e-47a9-b090-aba5accec027",
   "metadata": {},
   "outputs": [],
   "source": [
    "# 물질 설정 및 Refractive Index 설정\n",
    "mp.verbosity(0)\n",
    "um_scale = 2\n",
    "Air = mp.Medium(index=1.0)"
   ]
  },
  {
   "cell_type": "code",
   "execution_count": 3,
   "id": "fd15667a-5b89-462a-b0fe-15a8cc78aded",
   "metadata": {},
   "outputs": [],
   "source": [
    "# 설계 공간\n",
    "design_region_width = 5 # 디자인 영역 너비\n",
    "design_region_height = 8 # 디자인 영역 높이\n",
    "\n",
    "# 해상도 및 사이즈 설정\n",
    "resolution = 50 \n",
    "gapop = 0\n",
    "air_gap = 0\n",
    "dti = 0.4\n",
    "subpixelsize = design_region_width/3 - dti\n",
    "if gapop == 1:\n",
    "    air_gap = dti/2\n",
    "PDsize = 2\n",
    "Lpml = 1 # PML 영역 크기\n",
    "pml_layers = [mp.PML(thickness = Lpml, direction = mp.Y)]\n",
    "Sourcespace = 1\n",
    "\n",
    "# 전체 공간\n",
    "Sx = design_region_width\n",
    "Sy = PDsize + design_region_height + Sourcespace + Lpml\n",
    "cell_size = mp.Vector3(Sx, Sy)"
   ]
  },
  {
   "cell_type": "code",
   "execution_count": 4,
   "id": "e14a1a90-c175-46eb-9edd-2813ad76ddf1",
   "metadata": {},
   "outputs": [],
   "source": [
    "# 파장, 주파수 설정\n",
    "wavelengths = np.array([0.45*um_scale, 0.55*um_scale, 0.65*um_scale])\n",
    "# wavelengths = np.array([1.5])\n",
    "frequencies = 1/wavelengths\n",
    "nf = len(frequencies) # number of frequencies\n",
    "\n",
    "# 파장, 주파수 설정\n",
    "wavelengths_400 = np.linspace(0.41*um_scale, 0.49*um_scale, 9)\n",
    "wavelengths_500 = np.linspace(0.51*um_scale, 0.59*um_scale, 9) \n",
    "wavelengths_600 = np.linspace(0.61*um_scale, 0.69*um_scale, 9) \n",
    "frequencies_400 = 1/wavelengths_400\n",
    "frequencies_500 = 1/wavelengths_500\n",
    "frequencies_600 = 1/wavelengths_600"
   ]
  },
  {
   "cell_type": "code",
   "execution_count": 5,
   "id": "250dc77f-8ac8-4e8e-800d-79c01d89e4dc",
   "metadata": {},
   "outputs": [],
   "source": [
    "pml_layers = [mp.PML(thickness = Lpml, direction = mp.Y)]"
   ]
  },
  {
   "cell_type": "code",
   "execution_count": 6,
   "id": "6549ca43-9851-4150-9204-1aa5e0550428",
   "metadata": {},
   "outputs": [],
   "source": [
    "# Source 설정\n",
    "\n",
    "width = 0.4\n",
    "\n",
    "fcen_red = 1/(0.65*um_scale)\n",
    "fwidth_red = fcen_red * width\n",
    "\n",
    "fcen_green = 1/(0.55*um_scale)\n",
    "fwidth_green = fcen_green * width\n",
    "\n",
    "fcen_blue = 1/(0.45*um_scale)\n",
    "fwidth_blue = fcen_blue * width\n",
    "\n",
    "src_0 = mp.GaussianSource(frequency=fcen_red, fwidth=fwidth_red, is_integrated=True)\n",
    "\n",
    "src_1 = mp.GaussianSource(frequency=fcen_green, fwidth=fwidth_green, is_integrated=True)\n",
    "\n",
    "src_2 = mp.GaussianSource(frequency=fcen_blue, fwidth=fwidth_blue, is_integrated=True)\n",
    "\n",
    "source_center = mp.Vector3(0, Sy/ 2 - Lpml - Sourcespace / 2, 0) # Source 위치\n",
    "source_size = mp.Vector3(Sx, 0, 0)\n",
    "\n",
    "source0 = [mp.Source(src_0, component=mp.Ez, size=source_size, center=source_center, amplitude=1)]\n",
    "source1 = [mp.Source(src_1, component=mp.Ez, size=source_size, center=source_center, amplitude=1)]\n",
    "source2 = [mp.Source(src_2, component=mp.Ez, size=source_size, center=source_center, amplitude=1)]"
   ]
  },
  {
   "cell_type": "code",
   "execution_count": 7,
   "id": "6ce418a4-2c19-45a1-8898-8816e14f7ea5",
   "metadata": {},
   "outputs": [
    {
     "data": {
      "image/png": "[encoded data removed]",
      "text/plain": [
       "<Figure size 640x480 with 1 Axes>"
      ]
     },
     "metadata": {},
     "output_type": "display_data"
    }
   ],
   "source": [
    "#red region\n",
    "# Meep simulation 세팅\n",
    "sim = mp.Simulation(\n",
    "    cell_size=cell_size, # cell_size = mp.Vector3(Sx, Sy)\n",
    "    boundary_layers=pml_layers,\n",
    "    sources=source0,\n",
    "    default_material=Air, # 빈공간\n",
    "    resolution=resolution,\n",
    "    k_point = mp.Vector3(0,0,0)\n",
    ")\n",
    "sim.plot2D()\n",
    "\n",
    "tran_Ez_r0 = sim.add_dft_fields([mp.Ez], frequencies_600[0], 0 , 1, center=mp.Vector3(0, 0, 0), size=mp.Vector3(0.01, 0, 0), yee_grid=True)\n",
    "tran_Ez_r1 = sim.add_dft_fields([mp.Ez], frequencies_600[1], 0 , 1, center=mp.Vector3(0, 0, 0), size=mp.Vector3(0.01, 0, 0), yee_grid=True)\n",
    "tran_Ez_r2 = sim.add_dft_fields([mp.Ez], frequencies_600[2], 0 , 1, center=mp.Vector3(0, 0, 0), size=mp.Vector3(0.01, 0, 0), yee_grid=True)\n",
    "tran_Ez_r3 = sim.add_dft_fields([mp.Ez], frequencies_600[3], 0 , 1, center=mp.Vector3(0, 0, 0), size=mp.Vector3(0.01, 0, 0), yee_grid=True)\n",
    "tran_Ez_r4 = sim.add_dft_fields([mp.Ez], frequencies_600[4], 0 , 1, center=mp.Vector3(0, 0, 0), size=mp.Vector3(0.01, 0, 0), yee_grid=True)\n",
    "tran_Ez_r5 = sim.add_dft_fields([mp.Ez], frequencies_600[5], 0 , 1, center=mp.Vector3(0, 0, 0), size=mp.Vector3(0.01, 0, 0), yee_grid=True)\n",
    "tran_Ez_r6 = sim.add_dft_fields([mp.Ez], frequencies_600[6], 0 , 1, center=mp.Vector3(0, 0, 0), size=mp.Vector3(0.01, 0, 0), yee_grid=True)\n",
    "tran_Ez_r7 = sim.add_dft_fields([mp.Ez], frequencies_600[7], 0 , 1, center=mp.Vector3(0, 0, 0), size=mp.Vector3(0.01, 0, 0), yee_grid=True)\n",
    "tran_Ez_r8 = sim.add_dft_fields([mp.Ez], frequencies_600[8], 0 , 1, center=mp.Vector3(0, 0, 0), size=mp.Vector3(0.01, 0, 0), yee_grid=True)"
   ]
  },
  {
   "cell_type": "code",
   "execution_count": 8,
   "id": "8ce39777-d71c-47d3-aa18-fa6fb3243b8e",
   "metadata": {},
   "outputs": [],
   "source": [
    "pt = mp.Vector3(1, -Sy/2 + PDsize - 0.5/resolution, 0) "
   ]
  },
  {
   "cell_type": "code",
   "execution_count": 9,
   "id": "e52d1af9-9346-4ef1-8f1b-0b67ee7175a9",
   "metadata": {},
   "outputs": [],
   "source": [
    "sim.run(until_after_sources=mp.stop_when_fields_decayed(10,mp.Ez,pt,1e-5))"
   ]
  },
  {
   "cell_type": "code",
   "execution_count": 10,
   "id": "9348d965-a594-4222-97e5-8571e6cc3174",
   "metadata": {},
   "outputs": [],
   "source": [
    "array0_r = sim.get_dft_array(tran_Ez_r0, mp.Ez, 0)  \n",
    "array1_r = sim.get_dft_array(tran_Ez_r1, mp.Ez, 0)  \n",
    "array2_r = sim.get_dft_array(tran_Ez_r2, mp.Ez, 0)\n",
    "array3_r = sim.get_dft_array(tran_Ez_r3, mp.Ez, 0)\n",
    "array4_r = sim.get_dft_array(tran_Ez_r4, mp.Ez, 0)\n",
    "array5_r = sim.get_dft_array(tran_Ez_r5, mp.Ez, 0)\n",
    "array6_r = sim.get_dft_array(tran_Ez_r6, mp.Ez, 0)\n",
    "array7_r = sim.get_dft_array(tran_Ez_r7, mp.Ez, 0)\n",
    "array8_r = sim.get_dft_array(tran_Ez_r8, mp.Ez, 0)"
   ]
  },
  {
   "cell_type": "code",
   "execution_count": 11,
   "id": "b0f96c41-577d-40ae-bb07-1b78485dc99a",
   "metadata": {},
   "outputs": [
    {
     "name": "stdout",
     "output_type": "stream",
     "text": [
      "4.257666652364128\n"
     ]
    }
   ],
   "source": [
    "print(np.abs(array0_r[0]) ** 2 +\n",
    "np.abs(array1_r[0]) ** 2 +\n",
    "np.abs(array2_r[0]) ** 2 +\n",
    "np.abs(array3_r[0]) ** 2 +\n",
    "np.abs(array4_r[0]) ** 2 +\n",
    "np.abs(array5_r[0]) ** 2 +\n",
    "np.abs(array6_r[0]) ** 2 +\n",
    "np.abs(array7_r[0]) ** 2 +\n",
    "np.abs(array8_r[0]) ** 2)"
   ]
  },
  {
   "cell_type": "code",
   "execution_count": 12,
   "id": "99da4574-ce67-4781-9083-ed9fa485b02a",
   "metadata": {},
   "outputs": [
    {
     "name": "stdout",
     "output_type": "stream",
     "text": [
      "2.7407225191182802\n"
     ]
    }
   ],
   "source": [
    "#green region\n",
    "sim.reset_meep()\n",
    "sim.sources = source1\n",
    "\n",
    "tran_Ez_g0 = sim.add_dft_fields([mp.Ez], frequencies_500[0], 0 , 1, center=mp.Vector3(0, 0, 0), size=mp.Vector3(0.01, 0, 0), yee_grid=True)\n",
    "tran_Ez_g1 = sim.add_dft_fields([mp.Ez], frequencies_500[1], 0 , 1, center=mp.Vector3(0, 0, 0), size=mp.Vector3(0.01, 0, 0), yee_grid=True)\n",
    "tran_Ez_g2 = sim.add_dft_fields([mp.Ez], frequencies_500[2], 0 , 1, center=mp.Vector3(0, 0, 0), size=mp.Vector3(0.01, 0, 0), yee_grid=True)\n",
    "tran_Ez_g3 = sim.add_dft_fields([mp.Ez], frequencies_500[3], 0 , 1, center=mp.Vector3(0, 0, 0), size=mp.Vector3(0.01, 0, 0), yee_grid=True)\n",
    "tran_Ez_g4 = sim.add_dft_fields([mp.Ez], frequencies_500[4], 0 , 1, center=mp.Vector3(0, 0, 0), size=mp.Vector3(0.01, 0, 0), yee_grid=True)\n",
    "tran_Ez_g5 = sim.add_dft_fields([mp.Ez], frequencies_500[5], 0 , 1, center=mp.Vector3(0, 0, 0), size=mp.Vector3(0.01, 0, 0), yee_grid=True)\n",
    "tran_Ez_g6 = sim.add_dft_fields([mp.Ez], frequencies_500[6], 0 , 1, center=mp.Vector3(0, 0, 0), size=mp.Vector3(0.01, 0, 0), yee_grid=True)\n",
    "tran_Ez_g7 = sim.add_dft_fields([mp.Ez], frequencies_500[7], 0 , 1, center=mp.Vector3(0, 0, 0), size=mp.Vector3(0.01, 0, 0), yee_grid=True)\n",
    "tran_Ez_g8 = sim.add_dft_fields([mp.Ez], frequencies_500[8], 0 , 1, center=mp.Vector3(0, 0, 0), size=mp.Vector3(0.01, 0, 0), yee_grid=True)\n",
    "\n",
    "sim.run(until_after_sources=mp.stop_when_fields_decayed(10,mp.Ez,pt,1e-5))\n",
    "\n",
    "array0_g = sim.get_dft_array(tran_Ez_g0, mp.Ez, 0)\n",
    "array1_g = sim.get_dft_array(tran_Ez_g1, mp.Ez, 0)\n",
    "array2_g = sim.get_dft_array(tran_Ez_g2, mp.Ez, 0)\n",
    "array3_g = sim.get_dft_array(tran_Ez_g3, mp.Ez, 0)\n",
    "array4_g = sim.get_dft_array(tran_Ez_g4, mp.Ez, 0)\n",
    "array5_g = sim.get_dft_array(tran_Ez_g5, mp.Ez, 0)\n",
    "array6_g = sim.get_dft_array(tran_Ez_g6, mp.Ez, 0)\n",
    "array7_g = sim.get_dft_array(tran_Ez_g7, mp.Ez, 0)\n",
    "array8_g = sim.get_dft_array(tran_Ez_g8, mp.Ez, 0)\n",
    "\n",
    "print(np.abs(array0_g[0]) ** 2 +\n",
    "np.abs(array1_g[0]) ** 2 +\n",
    "np.abs(array2_g[0]) ** 2 +\n",
    "np.abs(array3_g[0]) ** 2 +\n",
    "np.abs(array4_g[0]) ** 2 +\n",
    "np.abs(array5_g[0]) ** 2 +\n",
    "np.abs(array6_g[0]) ** 2 +\n",
    "np.abs(array7_g[0]) ** 2 +\n",
    "np.abs(array8_g[0]) ** 2)"
   ]
  },
  {
   "cell_type": "code",
   "execution_count": 13,
   "id": "bf746a41",
   "metadata": {},
   "outputs": [
    {
     "name": "stdout",
     "output_type": "stream",
     "text": [
      "1.5701799429277332\n"
     ]
    }
   ],
   "source": [
    "#blue region\n",
    "sim.reset_meep()\n",
    "sim.sources = source2\n",
    "\n",
    "tran_Ez_b0 = sim.add_dft_fields([mp.Ez], frequencies_400[0], 0 , 1, center=mp.Vector3(0, 0, 0), size=mp.Vector3(0.01, 0, 0), yee_grid=True)\n",
    "tran_Ez_b1 = sim.add_dft_fields([mp.Ez], frequencies_400[1], 0 , 1, center=mp.Vector3(0, 0, 0), size=mp.Vector3(0.01, 0, 0), yee_grid=True)\n",
    "tran_Ez_b2 = sim.add_dft_fields([mp.Ez], frequencies_400[2], 0 , 1, center=mp.Vector3(0, 0, 0), size=mp.Vector3(0.01, 0, 0), yee_grid=True)\n",
    "tran_Ez_b3 = sim.add_dft_fields([mp.Ez], frequencies_400[3], 0 , 1, center=mp.Vector3(0, 0, 0), size=mp.Vector3(0.01, 0, 0), yee_grid=True)\n",
    "tran_Ez_b4 = sim.add_dft_fields([mp.Ez], frequencies_400[4], 0 , 1, center=mp.Vector3(0, 0, 0), size=mp.Vector3(0.01, 0, 0), yee_grid=True)\n",
    "tran_Ez_b5 = sim.add_dft_fields([mp.Ez], frequencies_400[5], 0 , 1, center=mp.Vector3(0, 0, 0), size=mp.Vector3(0.01, 0, 0), yee_grid=True)\n",
    "tran_Ez_b6 = sim.add_dft_fields([mp.Ez], frequencies_400[6], 0 , 1, center=mp.Vector3(0, 0, 0), size=mp.Vector3(0.01, 0, 0), yee_grid=True)\n",
    "tran_Ez_b7 = sim.add_dft_fields([mp.Ez], frequencies_400[7], 0 , 1, center=mp.Vector3(0, 0, 0), size=mp.Vector3(0.01, 0, 0), yee_grid=True)\n",
    "tran_Ez_b8 = sim.add_dft_fields([mp.Ez], frequencies_400[8], 0 , 1, center=mp.Vector3(0, 0, 0), size=mp.Vector3(0.01, 0, 0), yee_grid=True)\n",
    "\n",
    "sim.run(until_after_sources=mp.stop_when_fields_decayed(10,mp.Ez,pt,1e-5))\n",
    "\n",
    "array0_b = sim.get_dft_array(tran_Ez_b0, mp.Ez, 0)\n",
    "array1_b = sim.get_dft_array(tran_Ez_b1, mp.Ez, 0)\n",
    "array2_b = sim.get_dft_array(tran_Ez_b2, mp.Ez, 0)\n",
    "array3_b = sim.get_dft_array(tran_Ez_b3, mp.Ez, 0)\n",
    "array4_b = sim.get_dft_array(tran_Ez_b4, mp.Ez, 0)\n",
    "array5_b = sim.get_dft_array(tran_Ez_b5, mp.Ez, 0)\n",
    "array6_b = sim.get_dft_array(tran_Ez_b6, mp.Ez, 0)\n",
    "array7_b = sim.get_dft_array(tran_Ez_b7, mp.Ez, 0)\n",
    "array8_b = sim.get_dft_array(tran_Ez_b8, mp.Ez, 0)\n",
    "\n",
    "print(np.abs(array0_b[0]) ** 2 +\n",
    "np.abs(array1_b[0]) ** 2 +\n",
    "np.abs(array2_b[0]) ** 2 +\n",
    "np.abs(array3_b[0]) ** 2 +\n",
    "np.abs(array4_b[0]) ** 2 +\n",
    "np.abs(array5_b[0]) ** 2 +\n",
    "np.abs(array6_b[0]) ** 2 +\n",
    "np.abs(array7_b[0]) ** 2 +\n",
    "np.abs(array8_b[0]) ** 2)\n"
   ]
  },
  {
   "cell_type": "code",
   "execution_count": 14,
   "id": "6e1811bd",
   "metadata": {},
   "outputs": [
    {
     "name": "stdout",
     "output_type": "stream",
     "text": [
      "1.6466872211860322\n"
     ]
    }
   ],
   "source": [
    "print(math.sqrt(4.257666652364128/1.5701799429277332))"
   ]
  }
 ],
 "metadata": {
  "kernelspec": {
   "display_name": "Python 3 (ipykernel)",
   "language": "python",
   "name": "python3"
  },
  "language_info": {
   "codemirror_mode": {
    "name": "ipython",
    "version": 3
   },
   "file_extension": ".py",
   "mimetype": "text/x-python",
   "name": "python",
   "nbconvert_exporter": "python",
   "pygments_lexer": "ipython3",
   "version": "3.11.4"
  }
 },
 "nbformat": 4,
 "nbformat_minor": 5
}
