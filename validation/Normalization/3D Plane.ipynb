{
 "cells": [
  {
   "cell_type": "code",
   "execution_count": 41,
   "id": "ef95b403-41fc-480a-87aa-55869495ab17",
   "metadata": {},
   "outputs": [],
   "source": [
    "# 시뮬레이션 라이브러리 불러오기\n",
    "import cmath\n",
    "import math\n",
    "import matplotlib.pyplot as plt\n",
    "import numpy as np\n",
    "\n",
    "import meep as mp"
   ]
  },
  {
   "cell_type": "code",
   "execution_count": 42,
   "id": "e816424b-5924-41e5-ad44-26dc333be0aa",
   "metadata": {},
   "outputs": [],
   "source": [
    "# scaling & refractive index\n",
    "um_scale = 1/0.500 # 1A = 750 nm"
   ]
  },
  {
   "cell_type": "code",
   "execution_count": 43,
   "id": "631001bf-313e-47a9-b090-aba5accec027",
   "metadata": {},
   "outputs": [],
   "source": [
    "# 해상도 및 사이즈 설정\n",
    "resolution = 25 # 1 pixel = 30 nm\n",
    "ar_thktop = round(0.030 * um_scale * 0,2) # ARtop thickness 30 nm\n",
    "# ar_thk = round(0.030 * um_scale * 3,2) # AR thickness 90 nm\n",
    "ar_thk = 0\n",
    "fl_size = round(0.030 * um_scale * 17,2) # focal layer size 510 ~ nm\n",
    "ml_size = round(0.030 * um_scale * 5,2) # multi layer size 210 ~ 390 nm\n",
    "el_size = round(0.030 * um_scale,2) # etch layer size 30 nm\n",
    "\n",
    "dti_thk = round(ar_thk * 2,2) # DTI thickness \n",
    "sp_size = round(0.030 * um_scale * 21,2) # subpixel size 630 nm\n",
    "# sd_size = round(0.030 * um_scale,2) # SiPD size\n",
    "sd_size = 0\n",
    "\n",
    "Lpml = 0.40 # PML 영역 크기\n",
    "pml_layers = [mp.PML(thickness = Lpml, direction = mp.Z)]\n",
    "Sourcespace = 0.40\n",
    "\n",
    "# 설계 공간\n",
    "design_region_width_x = round(sp_size * 4 ,2) # 디자인 영역 x 2520 nm\n",
    "design_region_width_y = round(sp_size * 4 ,2) # 디자인 영역 y 2520 nm\n",
    "design_region_height = round(ml_size * 5 + el_size * 4,2) # 디자인 영역 높이 z\n",
    "\n",
    "# 전체 공간\n",
    "Sx = design_region_width_x\n",
    "Sy = design_region_width_y\n",
    "Sz = round(Lpml + Sourcespace + ar_thktop + design_region_height + fl_size + ar_thk + sd_size + Lpml,2)\n",
    "cell_size = mp.Vector3(Sx, Sy, Sz)"
   ]
  },
  {
   "cell_type": "code",
   "execution_count": 44,
   "id": "e14a1a90-c175-46eb-9edd-2813ad76ddf1",
   "metadata": {},
   "outputs": [],
   "source": [
    "# 파장, 주파수 설정\n",
    "wavelengths = np.linspace(0.425*um_scale, 0.655*um_scale, 24) \n",
    "frequencies = 1/wavelengths\n",
    "nf = len(frequencies) # number of frequencies"
   ]
  },
  {
   "cell_type": "code",
   "execution_count": 45,
   "id": "14f0162a-3d25-466b-b611-7f90e12b8cd0",
   "metadata": {},
   "outputs": [],
   "source": [
    "# source 설정\n",
    "width = 0.4\n",
    "\n",
    "fcen_red = 1/(0.625*um_scale)\n",
    "fwidth_red = fcen_red * width\n",
    "\n",
    "fcen_green = 1/(0.545*um_scale)\n",
    "fwidth_green = fcen_green * width\n",
    "\n",
    "fcen_blue = 1/(0.455*um_scale)\n",
    "fwidth_blue = fcen_blue * width\n",
    "\n",
    "src_0 = mp.GaussianSource(frequency=fcen_red, fwidth=fwidth_red, is_integrated=True)\n",
    "\n",
    "src_1 = mp.GaussianSource(frequency=fcen_green, fwidth=fwidth_green, is_integrated=True)\n",
    "\n",
    "src_2 = mp.GaussianSource(frequency=fcen_blue, fwidth=fwidth_blue, is_integrated=True)\n",
    "\n",
    "source_center = [0, 0, round(Sz / 2 - Lpml - Sourcespace / 2,2) ] # Source 위치\n",
    "source_size = mp.Vector3(Sx, Sy, 0)\n",
    "\n",
    "source = [mp.Source(src_0, component=mp.Ex, size=source_size, center=source_center,amplitude=1.0038735638222),\n",
    "            mp.Source(src_1, component=mp.Ex, size=source_size, center=source_center,amplitude=1),\n",
    "            mp.Source(src_2, component=mp.Ex, size=source_size, center=source_center,amplitude=1.41915621661661)]\n"
   ]
  },
  {
   "cell_type": "code",
   "execution_count": 46,
   "id": "267776d3-3290-4339-890d-5b4edc704a65",
   "metadata": {},
   "outputs": [],
   "source": [
    "sim = mp.Simulation(\n",
    "    cell_size=cell_size, \n",
    "    boundary_layers=pml_layers,\n",
    "    sources=source,\n",
    "    resolution=resolution,\n",
    "    k_point = mp.Vector3(0,0,0)\n",
    ")"
   ]
  },
  {
   "cell_type": "code",
   "execution_count": 47,
   "id": "07d922ff",
   "metadata": {},
   "outputs": [
    {
     "name": "stdout",
     "output_type": "stream",
     "text": [
      "-----------\n",
      "Initializing structure...\n",
      "time for choose_chunkdivision = 2.40803e-05 s\n",
      "Working in 3D dimensions.\n",
      "Computational cell is 5.04 x 5.04 x 3.96 with resolution 25\n",
      "time for set_epsilon = 1.45156 s\n",
      "-----------\n",
      "on time step 78 (time=1.56), 0.0517097 s/step\n",
      "on time step 179 (time=3.58), 0.0396178 s/step\n",
      "on time step 281 (time=5.62), 0.0394196 s/step\n",
      "on time step 388 (time=7.76), 0.0374797 s/step\n",
      "on time step 496 (time=9.92), 0.0371548 s/step\n",
      "field decay(t = 10.02): 0.012466456571469308 / 0.012466456571469308 = 1.0\n",
      "on time step 600 (time=12), 0.0386043 s/step\n",
      "on time step 695 (time=13.9), 0.0424286 s/step\n",
      "on time step 801 (time=16.02), 0.0378718 s/step\n",
      "on time step 901 (time=18.02), 0.0402312 s/step\n",
      "field decay(t = 20.04): 0.937493518673322 / 0.937493518673322 = 1.0\n",
      "on time step 1010 (time=20.2), 0.0369134 s/step\n",
      "on time step 1115 (time=22.3), 0.0383685 s/step\n",
      "on time step 1212 (time=24.24), 0.0412635 s/step\n",
      "on time step 1310 (time=26.2), 0.0408731 s/step\n",
      "on time step 1409 (time=28.18), 0.0407863 s/step\n",
      "field decay(t = 30.060000000000002): 0.3619597354669776 / 0.937493518673322 = 0.38609305371966596\n",
      "on time step 1518 (time=30.36), 0.0367893 s/step\n",
      "on time step 1634 (time=32.68), 0.0347575 s/step\n",
      "on time step 1756 (time=35.12), 0.0329961 s/step\n",
      "on time step 1874 (time=37.48), 0.0341567 s/step\n",
      "on time step 1994 (time=39.88), 0.0335088 s/step\n",
      "field decay(t = 40.06): 1.6869333239326427e-07 / 0.937493518673322 = 1.7994079855825325e-07\n",
      "run 0 finished at t = 40.06 (2003 timesteps)\n"
     ]
    }
   ],
   "source": [
    "tran_Ex_r0 = sim.add_dft_fields([mp.Ex], frequencies[17], 0 , 1, center=mp.Vector3(0, 0, 0), size=mp.Vector3(0.01, 0.01, 0), yee_grid=True)\n",
    "tran_Ex_r1 = sim.add_dft_fields([mp.Ex], frequencies[18], 0 , 1, center=mp.Vector3(0, 0, 0), size=mp.Vector3(0.01, 0.01, 0), yee_grid=True)\n",
    "tran_Ex_r2 = sim.add_dft_fields([mp.Ex], frequencies[19], 0 , 1, center=mp.Vector3(0, 0, 0), size=mp.Vector3(0.01, 0.01, 0), yee_grid=True)\n",
    "tran_Ex_r3 = sim.add_dft_fields([mp.Ex], frequencies[20], 0 , 1, center=mp.Vector3(0, 0, 0), size=mp.Vector3(0.01, 0.01, 0), yee_grid=True)\n",
    "tran_Ex_r4 = sim.add_dft_fields([mp.Ex], frequencies[21], 0 , 1, center=mp.Vector3(0, 0, 0), size=mp.Vector3(0.01, 0.01, 0), yee_grid=True)\n",
    "tran_Ex_r5 = sim.add_dft_fields([mp.Ex], frequencies[22], 0 , 1, center=mp.Vector3(0, 0, 0), size=mp.Vector3(0.01, 0.01, 0), yee_grid=True)\n",
    "tran_Ex_r6 = sim.add_dft_fields([mp.Ex], frequencies[23], 0 , 1, center=mp.Vector3(0, 0, 0), size=mp.Vector3(0.01, 0.01, 0), yee_grid=True)\n",
    "\n",
    "tran_Ex_g0 = sim.add_dft_fields([mp.Ex], frequencies[9], 0 , 1, center=mp.Vector3(0, 0, 0), size=mp.Vector3(0.01, 0.01, 0), yee_grid=True)\n",
    "tran_Ex_g1 = sim.add_dft_fields([mp.Ex], frequencies[10], 0 , 1, center=mp.Vector3(0, 0, 0), size=mp.Vector3(0.01, 0.01, 0), yee_grid=True)\n",
    "tran_Ex_g2 = sim.add_dft_fields([mp.Ex], frequencies[11], 0 , 1, center=mp.Vector3(0, 0, 0), size=mp.Vector3(0.01, 0.01, 0), yee_grid=True)\n",
    "tran_Ex_g3 = sim.add_dft_fields([mp.Ex], frequencies[12], 0 , 1, center=mp.Vector3(0, 0, 0), size=mp.Vector3(0.01, 0.01, 0), yee_grid=True)\n",
    "tran_Ex_g4 = sim.add_dft_fields([mp.Ex], frequencies[13], 0 , 1, center=mp.Vector3(0, 0, 0), size=mp.Vector3(0.01, 0.01, 0), yee_grid=True)\n",
    "tran_Ex_g5 = sim.add_dft_fields([mp.Ex], frequencies[14], 0 , 1, center=mp.Vector3(0, 0, 0), size=mp.Vector3(0.01, 0.01, 0), yee_grid=True)\n",
    "tran_Ex_g6 = sim.add_dft_fields([mp.Ex], frequencies[15], 0 , 1, center=mp.Vector3(0, 0, 0), size=mp.Vector3(0.01, 0.01, 0), yee_grid=True)\n",
    "\n",
    "tran_Ex_b0 = sim.add_dft_fields([mp.Ex], frequencies[0], 0 , 1, center=mp.Vector3(0, 0, 0), size=mp.Vector3(0.01, 0.01, 0), yee_grid=True)\n",
    "tran_Ex_b1 = sim.add_dft_fields([mp.Ex], frequencies[1], 0 , 1, center=mp.Vector3(0, 0, 0), size=mp.Vector3(0.01, 0.01, 0), yee_grid=True)\n",
    "tran_Ex_b2 = sim.add_dft_fields([mp.Ex], frequencies[2], 0 , 1, center=mp.Vector3(0, 0, 0), size=mp.Vector3(0.01, 0.01, 0), yee_grid=True)\n",
    "tran_Ex_b3 = sim.add_dft_fields([mp.Ex], frequencies[3], 0 , 1, center=mp.Vector3(0, 0, 0), size=mp.Vector3(0.01, 0.01, 0), yee_grid=True)\n",
    "tran_Ex_b4 = sim.add_dft_fields([mp.Ex], frequencies[4], 0 , 1, center=mp.Vector3(0, 0, 0), size=mp.Vector3(0.01, 0.01, 0), yee_grid=True)\n",
    "tran_Ex_b5 = sim.add_dft_fields([mp.Ex], frequencies[5], 0 , 1, center=mp.Vector3(0, 0, 0), size=mp.Vector3(0.01, 0.01, 0), yee_grid=True)\n",
    "tran_Ex_b6 = sim.add_dft_fields([mp.Ex], frequencies[6], 0 , 1, center=mp.Vector3(0, 0, 0), size=mp.Vector3(0.01, 0.01, 0), yee_grid=True)\n",
    "\n",
    "pt = mp.Vector3(0, 0, -Sz/2 + Lpml) \n",
    "sim.run(until_after_sources=mp.stop_when_fields_decayed(10,mp.Ex,pt,1e-5))\n",
    "\n",
    "\n",
    "array0_r = sim.get_dft_array(tran_Ex_r0, mp.Ex, 0)\n",
    "array1_r = sim.get_dft_array(tran_Ex_r1, mp.Ex, 0)\n",
    "array2_r = sim.get_dft_array(tran_Ex_r2, mp.Ex, 0)\n",
    "array3_r = sim.get_dft_array(tran_Ex_r3, mp.Ex, 0)\n",
    "array4_r = sim.get_dft_array(tran_Ex_r4, mp.Ex, 0)\n",
    "array5_r = sim.get_dft_array(tran_Ex_r5, mp.Ex, 0)\n",
    "array6_r = sim.get_dft_array(tran_Ex_r6, mp.Ex, 0)\n",
    "\n",
    "array0_g = sim.get_dft_array(tran_Ex_g0, mp.Ex, 0)\n",
    "array1_g = sim.get_dft_array(tran_Ex_g1, mp.Ex, 0)\n",
    "array2_g = sim.get_dft_array(tran_Ex_g2, mp.Ex, 0)\n",
    "array3_g = sim.get_dft_array(tran_Ex_g3, mp.Ex, 0)\n",
    "array4_g = sim.get_dft_array(tran_Ex_g4, mp.Ex, 0)\n",
    "array5_g = sim.get_dft_array(tran_Ex_g5, mp.Ex, 0)\n",
    "array6_g = sim.get_dft_array(tran_Ex_g6, mp.Ex, 0)\n",
    "\n",
    "array0_b = sim.get_dft_array(tran_Ex_b0, mp.Ex, 0)\n",
    "array1_b = sim.get_dft_array(tran_Ex_b1, mp.Ex, 0)\n",
    "array2_b = sim.get_dft_array(tran_Ex_b2, mp.Ex, 0)\n",
    "array3_b = sim.get_dft_array(tran_Ex_b3, mp.Ex, 0)\n",
    "array4_b = sim.get_dft_array(tran_Ex_b4, mp.Ex, 0)\n",
    "array5_b = sim.get_dft_array(tran_Ex_b5, mp.Ex, 0)\n",
    "array6_b = sim.get_dft_array(tran_Ex_b6, mp.Ex, 0)\n",
    "\n"
   ]
  },
  {
   "cell_type": "code",
   "execution_count": 48,
   "metadata": {},
   "outputs": [
    {
     "name": "stdout",
     "output_type": "stream",
     "text": [
      "[[2.91042603 2.91042603 2.91042603]\n",
      " [2.91042603 2.91042603 2.91042603]]\n",
      "[[2.98497442 2.98497442 2.98497442]\n",
      " [2.98497442 2.98497442 2.98497442]]\n",
      "[[2.94025321 2.94025321 2.94025321]\n",
      " [2.94025321 2.94025321 2.94025321]]\n"
     ]
    }
   ],
   "source": [
    "print(np.abs(array0_r) ** 2 +\n",
    "np.abs(array1_r) ** 2 +\n",
    "np.abs(array2_r) ** 2 +\n",
    "np.abs(array3_r) ** 2 +\n",
    "np.abs(array4_r) ** 2 +\n",
    "np.abs(array5_r) ** 2 +\n",
    "np.abs(array6_r) ** 2 )\n",
    "\n",
    "print(np.abs(array0_g) ** 2 +\n",
    "np.abs(array1_g) ** 2 +\n",
    "np.abs(array2_g) ** 2 +\n",
    "np.abs(array3_g) ** 2 +\n",
    "np.abs(array4_g) ** 2 +\n",
    "np.abs(array5_g) ** 2 +\n",
    "np.abs(array6_g) ** 2 )\n",
    "\n",
    "print(np.abs(array0_b) ** 2 +\n",
    "np.abs(array1_b) ** 2 +\n",
    "np.abs(array2_b) ** 2 +\n",
    "np.abs(array3_b) ** 2 +\n",
    "np.abs(array4_b) ** 2 +\n",
    "np.abs(array5_b) ** 2 +\n",
    "np.abs(array6_b) ** 2 )\n",
    "\n"
   ]
  },
  {
   "cell_type": "code",
   "execution_count": 49,
   "id": "4245a13a",
   "metadata": {},
   "outputs": [
    {
     "name": "stdout",
     "output_type": "stream",
     "text": [
      "1.0038735638222\n"
     ]
    }
   ],
   "source": [
    "print(math.sqrt(2.91629218/2.89382989))"
   ]
  },
  {
   "cell_type": "code",
   "execution_count": 50,
   "id": "101bdf43",
   "metadata": {},
   "outputs": [
    {
     "name": "stdout",
     "output_type": "stream",
     "text": [
      "1.41915621661661\n"
     ]
    }
   ],
   "source": [
    "print(math.sqrt(2.91629218/1.44800688))"
   ]
  },
  {
   "cell_type": "code",
   "execution_count": null,
   "id": "1324f813",
   "metadata": {},
   "outputs": [],
   "source": []
  }
 ],
 "metadata": {
  "kernelspec": {
   "display_name": "Python 3 (ipykernel)",
   "language": "python",
   "name": "python3"
  },
  "language_info": {
   "codemirror_mode": {
    "name": "ipython",
    "version": 3
   },
   "file_extension": ".py",
   "mimetype": "text/x-python",
   "name": "python",
   "nbconvert_exporter": "python",
   "pygments_lexer": "ipython3",
   "version": "3.11.4"
  }
 },
 "nbformat": 4,
 "nbformat_minor": 5
}
