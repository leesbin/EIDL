{
 "cells": [
  {
   "cell_type": "code",
   "execution_count": 32,
   "id": "ef95b403-41fc-480a-87aa-55869495ab17",
   "metadata": {},
   "outputs": [],
   "source": [
    "# 시뮬레이션 라이브러리 불러오기\n",
    "import meep as mp\n",
    "import numpy as np\n",
    "from matplotlib import pyplot as plt\n",
    "# from meep.materials import SiN"
   ]
  },
  {
   "cell_type": "code",
   "execution_count": 33,
   "id": "631001bf-313e-47a9-b090-aba5accec027",
   "metadata": {},
   "outputs": [],
   "source": [
    "# 물질 설정 및 Refractive Index 설정\n",
    "mp.verbosity(1)\n",
    "Air = mp.Medium(index=1.0)\n",
    "SiN = mp.Medium(index=2.0)"
   ]
  },
  {
   "cell_type": "code",
   "execution_count": 34,
   "id": "99a8b10e-7fcb-4fec-94e4-9e6501791d5b",
   "metadata": {},
   "outputs": [],
   "source": [
    "resolution = 32\n",
    "pmlThickness = 1.0\n",
    "materialThickness = 0.3\n",
    "length = 5 + 2 * pmlThickness"
   ]
  },
  {
   "cell_type": "code",
   "execution_count": 49,
   "id": "5bd44592-a856-4b45-98fc-19856d9dd6a9",
   "metadata": {},
   "outputs": [],
   "source": [
    "cellSize = mp.Vector3(0,0,length)"
   ]
  },
  {
   "cell_type": "code",
   "execution_count": 50,
   "id": "e3f17510-38d4-47f2-861e-3365f4cd2b7e",
   "metadata": {},
   "outputs": [],
   "source": [
    "fcen = (1/(0.40) + 1/(0.70))/2\n",
    "df = 1 /(0.40) - 1/(0.70)\n",
    "nfreq = 100\n",
    "\n",
    "\n",
    "sources = [mp.Source(\n",
    "    mp.GaussianSource(frequency=fcen, fwidth=df, is_integrated=True),\n",
    "    component=mp.Ex,\n",
    "    center=mp.Vector3(0, 0, -2.5/2),\n",
    ")]\n"
   ]
  },
  {
   "cell_type": "code",
   "execution_count": 51,
   "id": "2b7c49df-ca32-4922-9e8a-77945e4f09bf",
   "metadata": {},
   "outputs": [],
   "source": [
    "geometry = [mp.Block(\n",
    "    mp.Vector3(mp.inf, mp.inf, materialThickness),\n",
    "    center=mp.Vector3(0, 0, materialThickness/2 + pmlThickness/2),\n",
    "    material=mp.Medium(index=2))]"
   ]
  },
  {
   "cell_type": "code",
   "execution_count": 52,
   "id": "4ac11c9f-b822-4438-a5ab-6d55c6519104",
   "metadata": {},
   "outputs": [],
   "source": [
    "pmlLayers = [mp.PML(1.0)]"
   ]
  },
  {
   "cell_type": "code",
   "execution_count": 53,
   "id": "c74fa2f5-cedb-4e7e-93b4-ffcbcc68b55e",
   "metadata": {},
   "outputs": [],
   "source": [
    "simulation = mp.Simulation(\n",
    "    cell_size=cellSize,\n",
    "    sources=sources,\n",
    "    resolution=resolution,\n",
    "    boundary_layers=pmlLayers)"
   ]
  },
  {
   "cell_type": "code",
   "execution_count": 54,
   "id": "36f06eed-acf1-4bf1-90f7-fe19639213f9",
   "metadata": {},
   "outputs": [],
   "source": [
    "incidentRegion = mp.FluxRegion(center=mp.Vector3(0, 0, -materialThickness/4))\n",
    "incidentFluxMonitor = simulation.add_flux(fcen, df, nfreq, incidentRegion)"
   ]
  },
  {
   "cell_type": "code",
   "execution_count": 55,
   "id": "b997d1e7-ce7f-4db7-ac14-a86090153106",
   "metadata": {},
   "outputs": [
    {
     "name": "stdout",
     "output_type": "stream",
     "text": [
      "-----------\n",
      "Initializing structure...\n",
      "time for choose_chunkdivision = 2.69413e-05 s\n",
      "Working in 3D dimensions.\n",
      "Computational cell is 0.03125 x 0.03125 x 7 with resolution 32\n",
      "time for set_epsilon = 0.000720978 s\n",
      "-----------\n"
     ]
    },
    {
     "data": {
      "application/vnd.jupyter.widget-view+json": {
       "model_id": "adefa5528ee242f496ee0ad7a6aabb54",
       "version_major": 2,
       "version_minor": 0
      },
      "text/plain": [
       "FloatProgress(value=0.0, description='0% done ')"
      ]
     },
     "metadata": {},
     "output_type": "display_data"
    },
    {
     "name": "stdout",
     "output_type": "stream",
     "text": [
      "run 0 finished at t = 100.0 (6400 timesteps)\n"
     ]
    }
   ],
   "source": [
    "simulation.run(until=100)"
   ]
  },
  {
   "cell_type": "code",
   "execution_count": null,
   "id": "183b1dc5-19c5-407e-83dd-f19e59e74391",
   "metadata": {},
   "outputs": [],
   "source": []
  }
 ],
 "metadata": {
  "kernelspec": {
   "display_name": "Python 3 (ipykernel)",
   "language": "python",
   "name": "python3"
  },
  "language_info": {
   "codemirror_mode": {
    "name": "ipython",
    "version": 3
   },
   "file_extension": ".py",
   "mimetype": "text/x-python",
   "name": "python",
   "nbconvert_exporter": "python",
   "pygments_lexer": "ipython3",
   "version": "3.11.4"
  }
 },
 "nbformat": 4,
 "nbformat_minor": 5
}
