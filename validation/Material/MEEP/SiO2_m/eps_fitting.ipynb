{
 "cells": [
  {
   "cell_type": "code",
   "execution_count": 28,
   "id": "dec34c1b-2705-4b98-94ef-06da84ab7574",
   "metadata": {},
   "outputs": [
    {
     "name": "stdout",
     "output_type": "stream",
     "text": [
      "iteration:,   0, ps_str, 0.000062\n",
      "iteration:,   1, ps_str, 0.000048\n",
      "iteration:,   2, ps_str, 0.000090\n",
      "iteration:,   3, ps_str, 0.000090\n"
     ]
    },
    {
     "name": "stderr",
     "output_type": "stream",
     "text": [
      "/tmp/ipykernel_285274/2818222990.py:29: RuntimeWarning: invalid value encountered in divide\n",
      "  y = y + A_n / (np.square(x_n) - np.square(x) - 1j * x * g_n)\n",
      "/tmp/ipykernel_285274/2818222990.py:47: RuntimeWarning: invalid value encountered in divide\n",
      "  d = 1 / (np.square(x_n) - np.square(x) - 1j * x * g_n)\n"
     ]
    },
    {
     "name": "stdout",
     "output_type": "stream",
     "text": [
      "iteration:,   4, ps_str, 0.000061\n",
      "iteration:,   5, ps_str, 0.000761\n",
      "iteration:,   6, ps_str, 0.000123\n",
      "iteration:,   7, ps_str, 0.000047\n",
      "iteration:,   8, ps_str, 0.000127\n",
      "iteration:,   9, ps_str, 0.000033\n",
      "iteration:,  10, ps_str, 0.000043\n",
      "iteration:,  11, ps_str, 0.000112\n",
      "iteration:,  12, ps_str, 0.000055\n",
      "iteration:,  13, ps_str, 0.000263\n",
      "iteration:,  14, ps_str, 0.000073\n",
      "iteration:,  15, ps_str, 0.000034\n",
      "iteration:,  16, ps_str, 0.000050\n",
      "iteration:,  17, ps_str, 0.000066\n",
      "iteration:,  18, ps_str, 0.000064\n",
      "iteration:,  19, ps_str, 0.000079\n",
      "iteration:,  20, ps_str, 0.000051\n",
      "iteration:,  21, ps_str, 0.000074\n",
      "iteration:,  22, ps_str, 0.000026\n",
      "iteration:,  23, ps_str, 0.000054\n",
      "iteration:,  24, ps_str, 0.000147\n",
      "iteration:,  25, ps_str, 0.000358\n",
      "iteration:,  26, ps_str, 0.000091\n",
      "iteration:,  27, ps_str, 0.000102\n",
      "iteration:,  28, ps_str, 0.000149\n",
      "iteration:,  29, ps_str, 0.000048\n",
      "optimal:, ( 45.4821, 10.4691, 0.0000, 76.7745, 10.9431, 0.0000 ), 0.000026\n"
     ]
    }
   ],
   "source": [
    "\"\"\"\n",
    "A module for fitting the complex refractive index profile over a broad\n",
    "bandwidth to a sum of Lorentzian polarizability terms using gradient-based\n",
    "optimization via NLopt (nlopt.readthedocs.io). The fitting parameters are\n",
    "then used to define a `Medium` object.\n",
    "\"\"\"\n",
    "from typing import Tuple\n",
    "\n",
    "import matplotlib\n",
    "import meep as mp\n",
    "import nlopt\n",
    "import numpy as np\n",
    "\n",
    "matplotlib.use(\"agg\")\n",
    "import matplotlib.pyplot as plt\n",
    "\n",
    "\n",
    "def lorentzfunc(p: np.ndarray, x: np.ndarray) -> np.ndarray:\n",
    "    \"\"\"\n",
    "    Returns the complex ε profile given a set of Lorentzian parameters p\n",
    "    (σ_0, ω_0, γ_0, σ_1, ω_1, γ_1, ...) for a set of frequencies x.\n",
    "    \"\"\"\n",
    "    N = len(p) // 3\n",
    "    y = np.zeros(len(x))\n",
    "    for n in range(N):\n",
    "        A_n = p[3 * n + 0]\n",
    "        x_n = p[3 * n + 1]\n",
    "        g_n = p[3 * n + 2]\n",
    "        y = y + A_n / (np.square(x_n) - np.square(x) - 1j * x * g_n)\n",
    "    return y\n",
    "\n",
    "\n",
    "def lorentzerr(p: np.ndarray, x: np.ndarray, y: np.ndarray, grad: np.ndarray) -> float:\n",
    "    \"\"\"\n",
    "    Returns the error (or residual or loss) as the L2 norm\n",
    "    of the difference of ε(p,x) and y over a set of frequencies x as\n",
    "    well as the gradient of this error with respect to each Lorentzian\n",
    "    polarizability parameter in p and saving the result in grad.\n",
    "    \"\"\"\n",
    "    N = len(p) // 3\n",
    "    yp = lorentzfunc(p, x)\n",
    "    val = np.sum(np.square(abs(y - yp)))\n",
    "    for n in range(N):\n",
    "        A_n = p[3 * n + 0]\n",
    "        x_n = p[3 * n + 1]\n",
    "        g_n = p[3 * n + 2]\n",
    "        d = 1 / (np.square(x_n) - np.square(x) - 1j * x * g_n)\n",
    "        if grad.size > 0:\n",
    "            grad[3 * n + 0] = 2 * np.real(np.dot(np.conj(yp - y), d))\n",
    "            grad[3 * n + 1] = (\n",
    "                -4 * x_n * A_n * np.real(np.dot(np.conj(yp - y), np.square(d)))\n",
    "            )\n",
    "            grad[3 * n + 2] = (\n",
    "                -2 * A_n * np.imag(np.dot(np.conj(yp - y), x * np.square(d)))\n",
    "            )\n",
    "    return val\n",
    "\n",
    "\n",
    "def lorentzfit(\n",
    "    p0: np.ndarray,\n",
    "    x: np.ndarray,\n",
    "    y: np.ndarray,\n",
    "    alg=nlopt.LD_LBFGS,\n",
    "    tol: float = 1e-25,\n",
    "    maxeval: float = 10000,\n",
    ") -> Tuple[np.ndarray, float]:\n",
    "    \"\"\"\n",
    "    Returns the optimal Lorentzian polarizability parameters and error\n",
    "    which minimize the error in ε(p0,x) relative to y for an initial\n",
    "    set of Lorentzian polarizability parameters p0 over a set of\n",
    "    frequencies x using the NLopt algorithm alg for a relative\n",
    "    tolerance tol and a maximum number of iterations maxeval.\n",
    "    \"\"\"\n",
    "    opt = nlopt.opt(alg, len(p0))\n",
    "    opt.set_ftol_rel(tol)\n",
    "    opt.set_maxeval(maxeval)\n",
    "    opt.set_lower_bounds(np.zeros(len(p0)))\n",
    "    opt.set_upper_bounds(float(\"inf\") * np.ones(len(p0)))\n",
    "    opt.set_min_objective(lambda p, grad: lorentzerr(p, x, y, grad))\n",
    "    local_opt = nlopt.opt(nlopt.LD_LBFGS, len(p0))\n",
    "    local_opt.set_ftol_rel(1e-10)\n",
    "    local_opt.set_xtol_rel(1e-8)\n",
    "    opt.set_local_optimizer(local_opt)\n",
    "    popt = opt.optimize(p0)\n",
    "    minf = opt.last_optimum_value()\n",
    "    return popt, minf\n",
    "\n",
    "\n",
    "if __name__ == \"__main__\":\n",
    "    # Import the complex refractive index profile from a CSV file.\n",
    "    # The file format is three comma-separated columns:\n",
    "    #     wavelength (nm), real(n), imag(n).\n",
    "    mydata = np.genfromtxt(\"SiO2.csv\", delimiter=\",\")\n",
    "    n = mydata[:, 1] + 1j * mydata[:, 2]\n",
    "\n",
    "    # Fitting parameter: the instantaneous (infinite frequency) dielectric.\n",
    "    # Should be > 1.0 for stability and chosen such that\n",
    "    # np.amin(np.real(eps)) is ~1.0. eps is defined below.\n",
    "    eps_inf = 1\n",
    "\n",
    "    eps = np.square(n) - eps_inf\n",
    "\n",
    "    # Fit only the data in the wavelength range of [wl_min, wl_max].\n",
    "    wl = mydata[:, 0]\n",
    "    wl_min = 399  # minimum wavelength (units of nm)\n",
    "    wl_max = 701  # maximum wavelength (units of nm)\n",
    "    start_idx = np.where(wl > wl_min)\n",
    "    idx_start = start_idx[0][0]\n",
    "    end_idx = np.where(wl < wl_max)\n",
    "    idx_end = end_idx[0][-1] + 1\n",
    "\n",
    "    # The fitting function is ε(f) where f is the frequency, rather than ε(λ).\n",
    "    # Note: an equally spaced grid of wavelengths results in the larger\n",
    "    #       wavelengths having a finer frequency grid than smaller ones.\n",
    "    #       This feature may impact the accuracy of the fit.\n",
    "    freqs = 1000 / wl  # units of 1/μm\n",
    "    freqs_reduced = freqs[idx_start:idx_end]\n",
    "    wl_reduced = wl[idx_start:idx_end]\n",
    "    eps_reduced = eps[idx_start:idx_end]\n",
    "\n",
    "    # Fitting parameter: number of Lorentzian terms to use in the fit\n",
    "    num_lorentzians = 2\n",
    "\n",
    "    # Number of times to repeat local optimization with random initial values.\n",
    "    num_repeat = 30\n",
    "\n",
    "    ps = np.zeros((num_repeat, 3 * num_lorentzians))\n",
    "    mins = np.zeros(num_repeat)\n",
    "    for m in range(num_repeat):\n",
    "        # Initial values for the Lorentzian polarizability terms. Each term\n",
    "        # consists of three parameters (σ, ω, γ) and is chosen randomly.\n",
    "        # Note: for the case of no absorption, γ should be set to zero.\n",
    "        p_rand = [10 ** (np.random.random()) for _ in range(3 * num_lorentzians)]\n",
    "        ps[m, :], mins[m] = lorentzfit(\n",
    "            p_rand, freqs_reduced, eps_reduced, nlopt.LD_MMA, 1e-25, 50000\n",
    "        )\n",
    "        ps_str = \"( \" + \", \".join(f\"{prm:.4f}\" for prm in ps[m, :]) + \" )\"\n",
    "        print(f\"iteration:, {m:3d}, ps_str, {mins[m]:.6f}\")\n",
    "\n",
    "    # Find the best performing set of parameters.\n",
    "    idx_opt = np.where(np.min(mins) == mins)[0][0]\n",
    "    popt_str = \"( \" + \", \".join(f\"{prm:.4f}\" for prm in ps[idx_opt]) + \" )\"\n",
    "    print(f\"optimal:, {popt_str}, {mins[idx_opt]:.6f}\")\n",
    "\n",
    "    # Define a `Medium` class object using the optimal fitting parameters.\n",
    "    E_susceptibilities = []\n",
    "\n",
    "    for n in range(num_lorentzians):\n",
    "        mymaterial_freq = ps[idx_opt][3 * n + 1]\n",
    "        mymaterial_gamma = ps[idx_opt][3 * n + 2]\n",
    "\n",
    "        if mymaterial_freq == 0:\n",
    "            mymaterial_sigma = ps[idx_opt][3 * n + 0]\n",
    "            E_susceptibilities.append(\n",
    "                mp.DrudeSusceptibility(\n",
    "                    frequency=1.0, gamma=mymaterial_gamma, sigma=mymaterial_sigma\n",
    "                )\n",
    "            )\n",
    "        else:\n",
    "            mymaterial_sigma = ps[idx_opt][3 * n + 0] / mymaterial_freq**2\n",
    "            E_susceptibilities.append(\n",
    "                mp.LorentzianSusceptibility(\n",
    "                    frequency=mymaterial_freq,\n",
    "                    gamma=mymaterial_gamma,\n",
    "                    sigma=mymaterial_sigma,\n",
    "                )\n",
    "            )\n",
    "\n",
    "    mymaterial = mp.Medium(epsilon=eps_inf, E_susceptibilities=E_susceptibilities)\n",
    "\n",
    "    # Plot the fit and the actual data for comparison.\n",
    "    mymaterial_eps = [mymaterial.epsilon(f)[0][0] for f in freqs_reduced]\n",
    "\n",
    "    fig, ax = plt.subplots(ncols=2)\n",
    "\n",
    "    ax[0].plot(wl_reduced, np.real(eps_reduced) + eps_inf, \"bo-\", label=\"actual\")\n",
    "    ax[0].plot(wl_reduced, np.real(mymaterial_eps), \"ro-\", label=\"fit\")\n",
    "    ax[0].set_xlabel(\"wavelength (nm)\")\n",
    "    ax[0].set_ylabel(r\"real($\\epsilon$)\")\n",
    "    ax[0].legend()\n",
    "\n",
    "    ax[1].plot(wl_reduced, np.imag(eps_reduced), \"bo-\", label=\"actual\")\n",
    "    ax[1].plot(wl_reduced, np.imag(mymaterial_eps), \"ro-\", label=\"fit\")\n",
    "    ax[1].set_xlabel(\"wavelength (nm)\")\n",
    "    ax[1].set_ylabel(r\"imag($\\epsilon$)\")\n",
    "    ax[1].legend()\n",
    "\n",
    "    fig.suptitle(\n",
    "        f\"Comparison of Actual Material Data and Fit\\n\"\n",
    "        f\"using Drude-Lorentzian Susceptibility\"\n",
    "    )\n",
    "\n",
    "    fig.subplots_adjust(wspace=0.3)\n",
    "    fig.savefig(\"eps_fit_sample.png\", dpi=150, bbox_inches=\"tight\")"
   ]
  },
  {
   "cell_type": "code",
   "execution_count": 29,
   "id": "d04891da-8e55-40a5-8c1f-35fa53e02272",
   "metadata": {},
   "outputs": [
    {
     "data": {
      "text/plain": [
       "10.469053074021327"
      ]
     },
     "execution_count": 29,
     "metadata": {},
     "output_type": "execute_result"
    }
   ],
   "source": [
    "ps[idx_opt][3 * 0 + 1]"
   ]
  },
  {
   "cell_type": "code",
   "execution_count": 30,
   "id": "7c021674-62b1-4728-91cf-fb6cb61ff545",
   "metadata": {},
   "outputs": [
    {
     "data": {
      "text/plain": [
       "0.0"
      ]
     },
     "execution_count": 30,
     "metadata": {},
     "output_type": "execute_result"
    }
   ],
   "source": [
    "ps[idx_opt][3 * 0 + 2]"
   ]
  },
  {
   "cell_type": "code",
   "execution_count": 31,
   "id": "7b881f87-b891-4afc-b7c1-98a65aad018a",
   "metadata": {},
   "outputs": [
    {
     "data": {
      "text/plain": [
       "0.4149782511721946"
      ]
     },
     "execution_count": 31,
     "metadata": {},
     "output_type": "execute_result"
    }
   ],
   "source": [
    "ps[idx_opt][3 * 0 + 0] / ps[idx_opt][3 * 0 + 1]**2"
   ]
  },
  {
   "cell_type": "code",
   "execution_count": null,
   "id": "487bd686-56b4-47f5-914a-d184fe738902",
   "metadata": {},
   "outputs": [],
   "source": []
  },
  {
   "cell_type": "code",
   "execution_count": null,
   "id": "34bb3c94-506d-4b40-b9d7-b0d02fdf492b",
   "metadata": {},
   "outputs": [],
   "source": []
  },
  {
   "cell_type": "code",
   "execution_count": 32,
   "id": "f0e497d7-be93-4e1a-b45d-4ba93d2334af",
   "metadata": {},
   "outputs": [
    {
     "data": {
      "text/plain": [
       "10.943135105413115"
      ]
     },
     "execution_count": 32,
     "metadata": {},
     "output_type": "execute_result"
    }
   ],
   "source": [
    "ps[idx_opt][3 * 1 + 1]"
   ]
  },
  {
   "cell_type": "code",
   "execution_count": 33,
   "id": "d7e23830-3a76-4698-9996-9eb6ec189df3",
   "metadata": {},
   "outputs": [
    {
     "data": {
      "text/plain": [
       "0.0"
      ]
     },
     "execution_count": 33,
     "metadata": {},
     "output_type": "execute_result"
    }
   ],
   "source": [
    "ps[idx_opt][3 * 1 + 2]"
   ]
  },
  {
   "cell_type": "code",
   "execution_count": 34,
   "id": "e172f140-7360-45e5-9ea9-1898350a3b87",
   "metadata": {},
   "outputs": [
    {
     "data": {
      "text/plain": [
       "0.6411115779816661"
      ]
     },
     "execution_count": 34,
     "metadata": {},
     "output_type": "execute_result"
    }
   ],
   "source": [
    "ps[idx_opt][3 * 1 + 0] / ps[idx_opt][3 * 1 + 1]**2"
   ]
  },
  {
   "cell_type": "code",
   "execution_count": 35,
   "id": "326986cb-b45c-4b7f-aa6b-adc84c6e1319",
   "metadata": {},
   "outputs": [
    {
     "name": "stdout",
     "output_type": "stream",
     "text": [
      "1\n"
     ]
    }
   ],
   "source": [
    "print(n)"
   ]
  },
  {
   "cell_type": "code",
   "execution_count": 36,
   "id": "2e3ebe96-c8b3-49ea-87b7-ce9df715fdd5",
   "metadata": {},
   "outputs": [
    {
     "name": "stdout",
     "output_type": "stream",
     "text": [
      "1\n"
     ]
    }
   ],
   "source": [
    "print(eps_inf)"
   ]
  },
  {
   "cell_type": "code",
   "execution_count": null,
   "id": "8eb18dc7-0469-4762-b3af-1b988081fca4",
   "metadata": {},
   "outputs": [],
   "source": []
  }
 ],
 "metadata": {
  "kernelspec": {
   "display_name": "Python 3 (ipykernel)",
   "language": "python",
   "name": "python3"
  },
  "language_info": {
   "codemirror_mode": {
    "name": "ipython",
    "version": 3
   },
   "file_extension": ".py",
   "mimetype": "text/x-python",
   "name": "python",
   "nbconvert_exporter": "python",
   "pygments_lexer": "ipython3",
   "version": "3.11.4"
  }
 },
 "nbformat": 4,
 "nbformat_minor": 5
}
